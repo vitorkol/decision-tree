{
  "nbformat": 4,
  "nbformat_minor": 0,
  "metadata": {
    "colab": {
      "name": "arvore_decisao.ipynb",
      "provenance": [],
      "authorship_tag": "ABX9TyPgh7wuKzAB7QBk1HMnAEcU",
      "include_colab_link": true
    },
    "kernelspec": {
      "name": "python3",
      "display_name": "Python 3"
    },
    "language_info": {
      "name": "python"
    }
  },
  "cells": [
    {
      "cell_type": "markdown",
      "metadata": {
        "id": "view-in-github",
        "colab_type": "text"
      },
      "source": [
        "<a href=\"https://colab.research.google.com/github/vitorkol/decision-tree/blob/main/arvore_decisao.ipynb\" target=\"_parent\"><img src=\"https://colab.research.google.com/assets/colab-badge.svg\" alt=\"Open In Colab\"/></a>"
      ]
    },
    {
      "cell_type": "markdown",
      "source": [
        "**Importando as bibliotecas do Pandas**"
      ],
      "metadata": {
        "id": "xuGwTIxx3agY"
      }
    },
    {
      "cell_type": "code",
      "source": [
        "import pandas as pd\n",
        "import matplotlib.pyplot as plt"
      ],
      "metadata": {
        "id": "6LdyixwW256H"
      },
      "execution_count": 10,
      "outputs": []
    },
    {
      "cell_type": "markdown",
      "source": [
        "**Lendo um arquivo diretamente de uma url**"
      ],
      "metadata": {
        "id": "9jDaXrIc8xwm"
      }
    },
    {
      "cell_type": "code",
      "source": [
        "#Lendo o dataset a ser utilizado no exercício\n",
        "url = \"https://raw.githubusercontent.com/ProfLeandroLessa/decision-tree/master/dataset/diabetes.csv\"\n",
        "base_diabetes = pd.read_csv(url, sep = ';')"
      ],
      "metadata": {
        "id": "vKpJit2Z3mLG"
      },
      "execution_count": 12,
      "outputs": []
    },
    {
      "cell_type": "code",
      "source": [
        "base_diabetes"
      ],
      "metadata": {
        "id": "hJF1F7ZO3TsI"
      },
      "execution_count": null,
      "outputs": []
    },
    {
      "cell_type": "markdown",
      "source": [
        "**Identificando os dados e seus repectivos tipos**\n",
        "\n",
        "Essa análise inicial permite ter uma visão dos tipos de daos e os possíveis tipos de tratamento."
      ],
      "metadata": {
        "id": "8Uv8A7C0B5Gp"
      }
    },
    {
      "cell_type": "code",
      "source": [
        "base_diabetes.info()"
      ],
      "metadata": {
        "id": "DmIme3C14746"
      },
      "execution_count": null,
      "outputs": []
    },
    {
      "cell_type": "code",
      "source": [
        "base_diabetes.head()"
      ],
      "metadata": {
        "id": "G4OKZuex89Dp"
      },
      "execution_count": null,
      "outputs": []
    },
    {
      "cell_type": "code",
      "source": [
        "base_diabetes.describe()"
      ],
      "metadata": {
        "id": "28a1Su2u881r"
      },
      "execution_count": null,
      "outputs": []
    },
    {
      "cell_type": "code",
      "source": [
        "base_diabetes.isna().sum()"
      ],
      "metadata": {
        "id": "Asyp46S088oO"
      },
      "execution_count": null,
      "outputs": []
    },
    {
      "cell_type": "code",
      "source": [
        "base_diabetes.groupby(['diabetes'])['diabetes'].count()"
      ],
      "metadata": {
        "id": "td0hRWtFC0IS"
      },
      "execution_count": null,
      "outputs": []
    },
    {
      "cell_type": "markdown",
      "source": [
        "**Instalando a biblioteca imblearn**\n",
        "\n",
        "Imblearn é uma bilbioteca utilizanda para tratar dados desbalanceados. A biblioeca oferece várias técnicas de reamostragem comumente usadas em conjuntos de dados que mostram um forte desequilíbrio entre as classes."
      ],
      "metadata": {
        "id": "NILALbReCzWu"
      }
    },
    {
      "cell_type": "code",
      "source": [
        "from imblearn.under_sampling import RandomUnderSampler, TomekLinks"
      ],
      "metadata": {
        "id": "dfwI5nBFCz7x"
      },
      "execution_count": 19,
      "outputs": []
    },
    {
      "cell_type": "markdown",
      "source": [
        "**Definindo o conjunto de dados para e armazenando nas variáveis features e target**\n",
        "\n",
        "Nesta etapa, vamos separar os conjuntos de dados em duas bases para analisarmos, sendo elas:\n",
        "\n",
        "x_dados contém todas as features (gravidez, glicose,pressao_sangue, etc) de cada amostra.\n",
        "y_dados contém apenas o target (possui diabetes/não possui diabetes)"
      ],
      "metadata": {
        "id": "HlTvQn88DraT"
      }
    },
    {
      "cell_type": "code",
      "source": [
        "x_dados = base_diabetes.drop('diabetes', axis=1).values # todos atributos menos a variavel label \n",
        "y_dados = base_diabetes['diabetes'].values # os labels diabetes ou não "
      ],
      "metadata": {
        "id": "fH3xA9ZuCzuQ"
      },
      "execution_count": 21,
      "outputs": []
    },
    {
      "cell_type": "markdown",
      "source": [
        "**Criando função para balancear os dados**\n",
        "\n",
        "UnderSampler é um método consiste em reduzir o número de observações da classe majoritária para diminuir a diferença entre as categorias."
      ],
      "metadata": {
        "id": "EGxhc_i7EpXQ"
      }
    },
    {
      "cell_type": "code",
      "source": [
        "def balanceamento_dados(x_dados, y_dados):\n",
        "    undersample = RandomUnderSampler(random_state = 42)\n",
        "    x_under, y_under = undersample.fit_resample(x_dados, y_dados)\n",
        "    #trabalha com atípicos em um conjunto de dados denominados outliers\n",
        "    tl = TomekLinks(sampling_strategy='all') \n",
        "    x_under, y_under  = tl.fit_resample(x_under, y_under)\n",
        "    return x_under, y_under"
      ],
      "metadata": {
        "id": "6NEFrE9SCzOG"
      },
      "execution_count": 22,
      "outputs": []
    },
    {
      "cell_type": "code",
      "source": [
        "#Aplicando técnica de balanceamento na base de dados\n",
        "x_dados_balanceados, y_dados_balanceados = balanceamento_dados(x_dados, y_dados)"
      ],
      "metadata": {
        "id": "fvtS3Pm5CzFG"
      },
      "execution_count": 23,
      "outputs": []
    },
    {
      "cell_type": "markdown",
      "source": [
        "**Formas de visualizar e analisar o balanceamento realizado**"
      ],
      "metadata": {
        "id": "MXOIpgAmF5vK"
      }
    },
    {
      "cell_type": "code",
      "source": [
        "#Nesta visualização, iremos Analisando os dados do balanceamento realizado nas variáveis x e y\n",
        "print(len(x_dados_balanceados), len(y_dados_balanceados))"
      ],
      "metadata": {
        "id": "QNrnTGNkCy6q"
      },
      "execution_count": null,
      "outputs": []
    },
    {
      "cell_type": "code",
      "source": [
        "#Nesta visualização iremos importar a biblioteca collections, outra forma de analisar o balanceamento na variável y\n",
        "import collections\n",
        "print(collections.Counter(y_dados_balanceados))"
      ],
      "metadata": {
        "id": "iOi_Un9NCyzP"
      },
      "execution_count": null,
      "outputs": []
    },
    {
      "cell_type": "code",
      "source": [
        "#Nesta visualização temos como saída uma lista com dados balaceados\n",
        "y_dados_balanceados"
      ],
      "metadata": {
        "id": "yXhAROsoHS_N"
      },
      "execution_count": null,
      "outputs": []
    },
    {
      "cell_type": "code",
      "source": [
        "#Nesta visualização temos os dados balanceados através de um dataframe\n",
        "df_dados_balanceados = pd.DataFrame(y_dados_balanceados,columns=['diabetes'])\n",
        "df_dados_balanceados.groupby('diabetes')['diabetes'].count()"
      ],
      "metadata": {
        "id": "hhCve4llI0bj"
      },
      "execution_count": null,
      "outputs": []
    },
    {
      "cell_type": "markdown",
      "source": [
        "**Criando função para realizar separação entre o conjunto de treinamento e teste**\n",
        "\n",
        "Para que o modelo de árvore de decisão tenha êxito, é necessário separamos nosso dataset em um conjunto de dados para treinar o modelo e um conjunto de dados para testa-lo.\n",
        "\n",
        "Importando a biblioteca Train Test"
      ],
      "metadata": {
        "id": "fftDOJHhHKjR"
      }
    },
    {
      "cell_type": "code",
      "source": [
        "from sklearn.model_selection import train_test_split"
      ],
      "metadata": {
        "id": "muWjgKavHLJj"
      },
      "execution_count": 28,
      "outputs": []
    },
    {
      "cell_type": "code",
      "source": [
        "#Definindo a função de treino e teste\n",
        "def separa_treino_teste(X_dados_balanceados, y_dados_balanceados):\n",
        "    x_train, x_test, y_train, y_test = train_test_split(x_dados_balanceados, y_dados_balanceados, random_state=42, test_size =0.2)\n",
        "    return x_train, x_test, y_train, y_test"
      ],
      "metadata": {
        "id": "e4xqqThPCylN"
      },
      "execution_count": 29,
      "outputs": []
    },
    {
      "cell_type": "code",
      "source": [
        "#Separando os dados em dois conjuntos, sendo eles: de treino e teste \n",
        "x_train, x_test, y_train, y_test = separa_treino_teste(x_dados_balanceados, y_dados_balanceados)"
      ],
      "metadata": {
        "id": "fOWL7zxoJkxJ"
      },
      "execution_count": 31,
      "outputs": []
    },
    {
      "cell_type": "code",
      "source": [
        "#Analisando a saida dos dados de treinamento e teste\n",
        "print(f'''O modelo de TREINAMENTO irá utilizar para seu aprendizado, {len(x_train)} registros da classe X e {len(y_train)} registros da classe Y\n",
        "O modelo de TESTE irá utilizar para o seu aprendizado, {len(x_test)} registros da classe X e {len(y_test)} registros da classe Y\n",
        "''')"
      ],
      "metadata": {
        "colab": {
          "base_uri": "https://localhost:8080/"
        },
        "id": "GeltIu7ZJkpY",
        "outputId": "0d4ebd0c-5d8b-4f5f-f109-b3acaff9bfc1"
      },
      "execution_count": 39,
      "outputs": [
        {
          "output_type": "stream",
          "name": "stdout",
          "text": [
            "O modelo de TREINAMENTO irá utilizar para seu aprendizado, 364 registros da classe X e 364 registros da classe Y\n",
            "O modelo de TESTE irá utilizar para o seu aprendizado, 92 registros da classe X e 92 registros da classe Y\n",
            "\n"
          ]
        }
      ]
    },
    {
      "cell_type": "markdown",
      "source": [
        "**Criando árvore de decisão**\n",
        "\n",
        "Importanto a biblioteca Tree\n"
      ],
      "metadata": {
        "id": "JMBvY7FaLDOM"
      }
    },
    {
      "cell_type": "code",
      "source": [
        "from sklearn import tree"
      ],
      "metadata": {
        "id": "c8tpWQ7eLC2z"
      },
      "execution_count": 36,
      "outputs": []
    },
    {
      "cell_type": "code",
      "source": [
        "#Definindo a classificação da árvore de decisão\n",
        "algoritmo_arvore = tree.DecisionTreeClassifier()\n",
        "modelo = algoritmo_arvore.fit(x_train, y_train)\n",
        "y_pred = modelo.predict(x_test)"
      ],
      "metadata": {
        "id": "8BBo48g5Jkgk"
      },
      "execution_count": 37,
      "outputs": []
    },
    {
      "cell_type": "markdown",
      "source": [
        "**Verificando a importância de cada feature no modelo**\n",
        "\n",
        "É muito importânte visualizar a importância de cada feature representada no modelo. Para isso, temos a função feature importances que nos auxilia ver o resultado desse dado.\n",
        "\n"
      ],
      "metadata": {
        "id": "qi1x8KsnLx8s"
      }
    },
    {
      "cell_type": "code",
      "source": [
        "print(modelo.feature_importances_)"
      ],
      "metadata": {
        "colab": {
          "base_uri": "https://localhost:8080/"
        },
        "id": "VFd5kk0oLtvw",
        "outputId": "5759f691-480b-4716-d482-884deb278149"
      },
      "execution_count": 38,
      "outputs": [
        {
          "output_type": "stream",
          "name": "stdout",
          "text": [
            "[0.02538326 0.40500869 0.05008825 0.07668726 0.0365781  0.19232948\n",
            " 0.05038475 0.16354022]\n"
          ]
        }
      ]
    },
    {
      "cell_type": "code",
      "source": [
        "base_diabetes.columns"
      ],
      "metadata": {
        "colab": {
          "base_uri": "https://localhost:8080/"
        },
        "id": "T6Fk-aNkLtqW",
        "outputId": "3a0ea707-5c38-4601-8c84-beaf137052cc"
      },
      "execution_count": 43,
      "outputs": [
        {
          "output_type": "execute_result",
          "data": {
            "text/plain": [
              "Index(['gravidez', 'glicose', 'pressao_sangue', 'espessura_pele', 'insulina',\n",
              "       'IMC', 'predisposicao_diabetes', 'idade', 'diabetes'],\n",
              "      dtype='object')"
            ]
          },
          "metadata": {},
          "execution_count": 43
        }
      ]
    },
    {
      "cell_type": "code",
      "source": [
        "pd.DataFrame(modelo.feature_importances_, columns =['importancia'],\n",
        "        index = ['gravidez', 'glicose', 'pressao_sangue', 'espessura_pele', 'insulina',\n",
        "        'IMC', 'predisposicao_diabetes', 'idade']).sort_values('importancia', ascending=False\n",
        ")"
      ],
      "metadata": {
        "id": "QUuws-S7LtiT"
      },
      "execution_count": null,
      "outputs": []
    },
    {
      "cell_type": "code",
      "source": [
        "modelo.classes_"
      ],
      "metadata": {
        "id": "j0OxV6W5Nanx"
      },
      "execution_count": null,
      "outputs": []
    },
    {
      "cell_type": "code",
      "source": [
        "nomes_features = ['gravidez','glicose','pressao_sangue',\n",
        "                  'espessura_pele','insulina','IMC',\n",
        "                  'predisposicao_diabetes','idade']\n",
        "\n",
        "nomes_classes = ['NÃO DIABETICO','DIABETICO']"
      ],
      "metadata": {
        "id": "wQkp-0xNNai6"
      },
      "execution_count": 48,
      "outputs": []
    },
    {
      "cell_type": "markdown",
      "source": [
        "**Instalando biblioteca para visualização da árvore de decisão**\n",
        "\n",
        "Graphviz é um software de visualização de gráficos de código aberto. A visualização de gráficos é uma forma de representar informações estruturais como diagramas de gráficos abstratos e redes.\n",
        "\n",
        "link acesso: https://graphviz.org/"
      ],
      "metadata": {
        "id": "qyDKOqgR3BuA"
      }
    },
    {
      "cell_type": "code",
      "execution_count": null,
      "metadata": {
        "id": "x-qnAA7XymoF"
      },
      "outputs": [],
      "source": [
        "# graphviz is installed already, but need lib too\n",
        "!pip install pygraphviz\n",
        "!apt install libgraphviz-dev"
      ]
    },
    {
      "cell_type": "code",
      "source": [
        "import graphviz\n",
        "def visualiza_arvore(modelo):   \n",
        "    arvore = tree.export_graphviz(modelo, \n",
        "                    feature_names=nomes_features,\n",
        "                    class_names=nomes_classes,\n",
        "                    rounded=True,\n",
        "                    special_characters=True, filled=True)\n",
        "    graph = graphviz.Source(arvore)  \n",
        "    return graph"
      ],
      "metadata": {
        "id": "EhCe4439Nz-N"
      },
      "execution_count": 49,
      "outputs": []
    },
    {
      "cell_type": "code",
      "source": [
        "#Visualização da arvóre completa\n",
        "visualiza_arvore(modelo)"
      ],
      "metadata": {
        "id": "2qWyLcAZN40_"
      },
      "execution_count": null,
      "outputs": []
    },
    {
      "cell_type": "code",
      "source": [
        "#Visualiza estrutura da árvore \n",
        "tree.plot_tree(modelo)\n",
        "plt.show()"
      ],
      "metadata": {
        "colab": {
          "base_uri": "https://localhost:8080/",
          "height": 248
        },
        "id": "k9tXDgPQN4ov",
        "outputId": "5c719672-3b43-4ad4-c67a-cc06a9a4ccc8"
      },
      "execution_count": 51,
      "outputs": [
        {
          "output_type": "display_data",
          "data": {
            "text/plain": [
              "<Figure size 432x288 with 1 Axes>"
            ],
            "image/png": "[encoded data removed]"
          },
          "metadata": {
            "needs_background": "light"
          }
        }
      ]
    },
    {
      "cell_type": "markdown",
      "source": [
        "**Calculando acurácia do modelo**\n",
        "\n",
        "A acurácia é uma das metricas que podemos utilizar para avaliar um modelo de machine learning. A acurácia é a proximidade de um resultado com o seu valor de referência real. Dessa forma, quanto maior o nível de acuracidade, mais próximo da referência ou valor real é o resultado encontrado.\n",
        "Importando a biblioteca accuracy_score"
      ],
      "metadata": {
        "id": "kDhZ0wrpPC4v"
      }
    },
    {
      "cell_type": "code",
      "source": [
        "from sklearn.metrics import accuracy_score"
      ],
      "metadata": {
        "id": "mWPcUSyEO_J1"
      },
      "execution_count": 52,
      "outputs": []
    },
    {
      "cell_type": "code",
      "source": [
        "accuracy_score(y_test, y_pred)"
      ],
      "metadata": {
        "colab": {
          "base_uri": "https://localhost:8080/"
        },
        "id": "z0ifh8RvO-8b",
        "outputId": "49513f76-9b50-457f-fb76-b85bf93c37c6"
      },
      "execution_count": 53,
      "outputs": [
        {
          "output_type": "execute_result",
          "data": {
            "text/plain": [
              "0.7282608695652174"
            ]
          },
          "metadata": {},
          "execution_count": 53
        }
      ]
    },
    {
      "cell_type": "markdown",
      "source": [
        "**Criando função que gera features de importância para o modelo**\n",
        "\n",
        "\n",
        "Vamos criar funções para retornar os resultados de várias árvores de decisão para análises futuras."
      ],
      "metadata": {
        "id": "w2xF4xV0PYSr"
      }
    },
    {
      "cell_type": "code",
      "source": [
        "def gera_features_importantes(modelo):\n",
        "    df = pd.DataFrame(modelo.feature_importances_, columns =['importancia'],\n",
        "             index = ['gravidez', 'glicose', 'pressao_sangue', 'espessura_pele', 'insulina',\n",
        "       'IMC', 'predisposicao_diabetes', 'idade']).sort_values('importancia', ascending=False)\n",
        "    return df"
      ],
      "metadata": {
        "id": "6BbhHRdcPUNu"
      },
      "execution_count": 83,
      "outputs": []
    },
    {
      "cell_type": "code",
      "source": [
        "print(gera_features_importantes(modelo))"
      ],
      "metadata": {
        "id": "MTJPvk7QPf_5"
      },
      "execution_count": null,
      "outputs": []
    },
    {
      "cell_type": "code",
      "source": [
        "#Cria diretório para salvar imagens das árvores geradas\n",
        "PATH_IMG = r'/content/arvores_geradas/'"
      ],
      "metadata": {
        "id": "Q2REctdwPf3Q"
      },
      "execution_count": 85,
      "outputs": []
    },
    {
      "cell_type": "code",
      "source": [
        "def cria_modelo(x_train, y_train, y_test, tamanho_arvore):\n",
        "    \n",
        "    algoritmo_arvore = tree.DecisionTreeClassifier(max_depth=tamanho_arvore, random_state=42) # inicia a classificação da arvore de decisao\n",
        "    modelo = algoritmo_arvore.fit(x_train, y_train)\n",
        "    y_predido = modelo.predict(x_test)\n",
        "    arvore = visualiza_arvore(modelo)\n",
        "    \n",
        "    #Salva arquivo pdf \n",
        "    arvore.render(f'{PATH_IMG}/modelo_tamanho_n{tamanho_arvore}')\n",
        "    \n",
        "    print(f'''Features com maior importância para o modelo:\n",
        "            {gera_features_importantes(modelo)}\n",
        "          ''')\n",
        "    \n",
        "    print('o valor da acuracia é : ', accuracy_score(y_test, y_predido))\n",
        "            \n",
        "    return arvore"
      ],
      "metadata": {
        "id": "MAeah9boQeEs"
      },
      "execution_count": 86,
      "outputs": []
    },
    {
      "cell_type": "code",
      "source": [
        "tamanho_arvore = 2\n",
        "arvore = cria_modelo(x_train, y_train, y_test, tamanho_arvore)\n",
        "arvore"
      ],
      "metadata": {
        "colab": {
          "base_uri": "https://localhost:8080/",
          "height": 668
        },
        "id": "16kIJglXREwC",
        "outputId": "037a12bc-749a-4c4f-e61a-c8d1d855047b"
      },
      "execution_count": 87,
      "outputs": [
        {
          "output_type": "stream",
          "name": "stdout",
          "text": [
            "Features com maior importância para o modelo:\n",
            "                                    importancia\n",
            "glicose                    0.701561\n",
            "idade                      0.169830\n",
            "IMC                        0.128609\n",
            "gravidez                   0.000000\n",
            "pressao_sangue             0.000000\n",
            "espessura_pele             0.000000\n",
            "insulina                   0.000000\n",
            "predisposicao_diabetes     0.000000\n",
            "          \n",
            "o valor da acuracia é :  0.8043478260869565\n"
          ]
        },
        {
          "output_type": "execute_result",
          "data": {
            "text/plain": [
              "<graphviz.files.Source at 0x7f1447cb94d0>"
            ],
            "image/svg+xml": "<?xml version=\"1.0\" encoding=\"UTF-8\" standalone=\"no\"?>\n<!DOCTYPE svg PUBLIC \"-//W3C//DTD SVG 1.1//EN\"\n \"http://www.w3.org/Graphics/SVG/1.1/DTD/svg11.dtd\">\n<!-- Generated by graphviz version 2.40.1 (20161225.0304)\n -->\n<!-- Title: Tree Pages: 1 -->\n<svg width=\"744pt\" height=\"314pt\"\n viewBox=\"0.00 0.00 743.50 314.00\" xmlns=\"http://www.w3.org/2000/svg\" xmlns:xlink=\"http://www.w3.org/1999/xlink\">\n<g id=\"graph0\" class=\"graph\" transform=\"scale(1 1) rotate(0) translate(4 310)\">\n<title>Tree</title>\n<polygon fill=\"#ffffff\" stroke=\"transparent\" points=\"-4,4 -4,-310 739.5,-310 739.5,4 -4,4\"/>\n<!-- 0 -->\n<g id=\"node1\" class=\"node\">\n<title>0</title>\n<path fill=\"#f9fcfe\" stroke=\"#000000\" d=\"M444.5,-306C444.5,-306 324.5,-306 324.5,-306 318.5,-306 312.5,-300 312.5,-294 312.5,-294 312.5,-235 312.5,-235 312.5,-229 318.5,-223 324.5,-223 324.5,-223 444.5,-223 444.5,-223 450.5,-223 456.5,-229 456.5,-235 456.5,-235 456.5,-294 456.5,-294 456.5,-300 450.5,-306 444.5,-306\"/>\n<text text-anchor=\"start\" x=\"335.5\" y=\"-290.8\" font-family=\"Helvetica,sans-Serif\" font-size=\"14.00\" fill=\"#000000\">glicose ≤ 127.5</text>\n<text text-anchor=\"start\" x=\"355\" y=\"-275.8\" font-family=\"Helvetica,sans-Serif\" font-size=\"14.00\" fill=\"#000000\">gini = 0.5</text>\n<text text-anchor=\"start\" x=\"336.5\" y=\"-260.8\" font-family=\"Helvetica,sans-Serif\" font-size=\"14.00\" fill=\"#000000\">samples = 364</text>\n<text text-anchor=\"start\" x=\"326.5\" y=\"-245.8\" font-family=\"Helvetica,sans-Serif\" font-size=\"14.00\" fill=\"#000000\">value = [179, 185]</text>\n<text text-anchor=\"start\" x=\"320.5\" y=\"-230.8\" font-family=\"Helvetica,sans-Serif\" font-size=\"14.00\" fill=\"#000000\">class = DIABETICO</text>\n</g>\n<!-- 1 -->\n<g id=\"node2\" class=\"node\">\n<title>1</title>\n<path fill=\"#efb286\" stroke=\"#000000\" d=\"M364,-187C364,-187 209,-187 209,-187 203,-187 197,-181 197,-175 197,-175 197,-116 197,-116 197,-110 203,-104 209,-104 209,-104 364,-104 364,-104 370,-104 376,-110 376,-116 376,-116 376,-175 376,-175 376,-181 370,-187 364,-187\"/>\n<text text-anchor=\"start\" x=\"246.5\" y=\"-171.8\" font-family=\"Helvetica,sans-Serif\" font-size=\"14.00\" fill=\"#000000\">idade ≤ 28.5</text>\n<text text-anchor=\"start\" x=\"248.5\" y=\"-156.8\" font-family=\"Helvetica,sans-Serif\" font-size=\"14.00\" fill=\"#000000\">gini = 0.404</text>\n<text text-anchor=\"start\" x=\"238.5\" y=\"-141.8\" font-family=\"Helvetica,sans-Serif\" font-size=\"14.00\" fill=\"#000000\">samples = 217</text>\n<text text-anchor=\"start\" x=\"232.5\" y=\"-126.8\" font-family=\"Helvetica,sans-Serif\" font-size=\"14.00\" fill=\"#000000\">value = [156, 61]</text>\n<text text-anchor=\"start\" x=\"205\" y=\"-111.8\" font-family=\"Helvetica,sans-Serif\" font-size=\"14.00\" fill=\"#000000\">class = NÃO DIABETICO</text>\n</g>\n<!-- 0&#45;&gt;1 -->\n<g id=\"edge1\" class=\"edge\">\n<title>0&#45;&gt;1</title>\n<path fill=\"none\" stroke=\"#000000\" d=\"M350.2244,-222.8796C342.8816,-213.9633 335.0524,-204.4565 327.4854,-195.268\"/>\n<polygon fill=\"#000000\" stroke=\"#000000\" points=\"329.9808,-192.7924 320.9219,-187.2981 324.5773,-197.2424 329.9808,-192.7924\"/>\n<text text-anchor=\"middle\" x=\"318.5138\" y=\"-208.4818\" font-family=\"Helvetica,sans-Serif\" font-size=\"14.00\" fill=\"#000000\">True</text>\n</g>\n<!-- 4 -->\n<g id=\"node5\" class=\"node\">\n<title>4</title>\n<path fill=\"#5eafea\" stroke=\"#000000\" d=\"M543.5,-187C543.5,-187 423.5,-187 423.5,-187 417.5,-187 411.5,-181 411.5,-175 411.5,-175 411.5,-116 411.5,-116 411.5,-110 417.5,-104 423.5,-104 423.5,-104 543.5,-104 543.5,-104 549.5,-104 555.5,-110 555.5,-116 555.5,-116 555.5,-175 555.5,-175 555.5,-181 549.5,-187 543.5,-187\"/>\n<text text-anchor=\"start\" x=\"444\" y=\"-171.8\" font-family=\"Helvetica,sans-Serif\" font-size=\"14.00\" fill=\"#000000\">IMC ≤ 29.85</text>\n<text text-anchor=\"start\" x=\"445.5\" y=\"-156.8\" font-family=\"Helvetica,sans-Serif\" font-size=\"14.00\" fill=\"#000000\">gini = 0.264</text>\n<text text-anchor=\"start\" x=\"435.5\" y=\"-141.8\" font-family=\"Helvetica,sans-Serif\" font-size=\"14.00\" fill=\"#000000\">samples = 147</text>\n<text text-anchor=\"start\" x=\"429.5\" y=\"-126.8\" font-family=\"Helvetica,sans-Serif\" font-size=\"14.00\" fill=\"#000000\">value = [23, 124]</text>\n<text text-anchor=\"start\" x=\"419.5\" y=\"-111.8\" font-family=\"Helvetica,sans-Serif\" font-size=\"14.00\" fill=\"#000000\">class = DIABETICO</text>\n</g>\n<!-- 0&#45;&gt;4 -->\n<g id=\"edge4\" class=\"edge\">\n<title>0&#45;&gt;4</title>\n<path fill=\"none\" stroke=\"#000000\" d=\"M419.1254,-222.8796C426.618,-213.8733 434.6119,-204.2644 442.3279,-194.9897\"/>\n<polygon fill=\"#000000\" stroke=\"#000000\" points=\"445.0219,-197.224 448.7268,-187.2981 439.6407,-192.7472 445.0219,-197.224\"/>\n<text text-anchor=\"middle\" x=\"451.0108\" y=\"-208.4935\" font-family=\"Helvetica,sans-Serif\" font-size=\"14.00\" fill=\"#000000\">False</text>\n</g>\n<!-- 2 -->\n<g id=\"node3\" class=\"node\">\n<title>2</title>\n<path fill=\"#e88f50\" stroke=\"#000000\" d=\"M167,-68C167,-68 12,-68 12,-68 6,-68 0,-62 0,-56 0,-56 0,-12 0,-12 0,-6 6,0 12,0 12,0 167,0 167,0 173,0 179,-6 179,-12 179,-12 179,-56 179,-56 179,-62 173,-68 167,-68\"/>\n<text text-anchor=\"start\" x=\"51.5\" y=\"-52.8\" font-family=\"Helvetica,sans-Serif\" font-size=\"14.00\" fill=\"#000000\">gini = 0.184</text>\n<text text-anchor=\"start\" x=\"41.5\" y=\"-37.8\" font-family=\"Helvetica,sans-Serif\" font-size=\"14.00\" fill=\"#000000\">samples = 107</text>\n<text text-anchor=\"start\" x=\"39.5\" y=\"-22.8\" font-family=\"Helvetica,sans-Serif\" font-size=\"14.00\" fill=\"#000000\">value = [96, 11]</text>\n<text text-anchor=\"start\" x=\"8\" y=\"-7.8\" font-family=\"Helvetica,sans-Serif\" font-size=\"14.00\" fill=\"#000000\">class = NÃO DIABETICO</text>\n</g>\n<!-- 1&#45;&gt;2 -->\n<g id=\"edge2\" class=\"edge\">\n<title>1&#45;&gt;2</title>\n<path fill=\"none\" stroke=\"#000000\" d=\"M213.1445,-103.9815C195.3517,-93.911 176.3857,-83.1764 158.7876,-73.2161\"/>\n<polygon fill=\"#000000\" stroke=\"#000000\" points=\"160.1498,-69.9654 149.723,-68.0856 156.7018,-76.0573 160.1498,-69.9654\"/>\n</g>\n<!-- 3 -->\n<g id=\"node4\" class=\"node\">\n<title>3</title>\n<path fill=\"#fbeade\" stroke=\"#000000\" d=\"M364,-68C364,-68 209,-68 209,-68 203,-68 197,-62 197,-56 197,-56 197,-12 197,-12 197,-6 203,0 209,0 209,0 364,0 364,0 370,0 376,-6 376,-12 376,-12 376,-56 376,-56 376,-62 370,-68 364,-68\"/>\n<text text-anchor=\"start\" x=\"248.5\" y=\"-52.8\" font-family=\"Helvetica,sans-Serif\" font-size=\"14.00\" fill=\"#000000\">gini = 0.496</text>\n<text text-anchor=\"start\" x=\"238.5\" y=\"-37.8\" font-family=\"Helvetica,sans-Serif\" font-size=\"14.00\" fill=\"#000000\">samples = 110</text>\n<text text-anchor=\"start\" x=\"236.5\" y=\"-22.8\" font-family=\"Helvetica,sans-Serif\" font-size=\"14.00\" fill=\"#000000\">value = [60, 50]</text>\n<text text-anchor=\"start\" x=\"205\" y=\"-7.8\" font-family=\"Helvetica,sans-Serif\" font-size=\"14.00\" fill=\"#000000\">class = NÃO DIABETICO</text>\n</g>\n<!-- 1&#45;&gt;3 -->\n<g id=\"edge3\" class=\"edge\">\n<title>1&#45;&gt;3</title>\n<path fill=\"none\" stroke=\"#000000\" d=\"M286.5,-103.9815C286.5,-95.618 286.5,-86.7965 286.5,-78.3409\"/>\n<polygon fill=\"#000000\" stroke=\"#000000\" points=\"290.0001,-78.2636 286.5,-68.2637 283.0001,-78.2637 290.0001,-78.2636\"/>\n</g>\n<!-- 5 -->\n<g id=\"node6\" class=\"node\">\n<title>5</title>\n<path fill=\"#fdf7f3\" stroke=\"#000000\" d=\"M561,-68C561,-68 406,-68 406,-68 400,-68 394,-62 394,-56 394,-56 394,-12 394,-12 394,-6 400,0 406,0 406,0 561,0 561,0 567,0 573,-6 573,-12 573,-12 573,-56 573,-56 573,-62 567,-68 561,-68\"/>\n<text text-anchor=\"start\" x=\"445.5\" y=\"-52.8\" font-family=\"Helvetica,sans-Serif\" font-size=\"14.00\" fill=\"#000000\">gini = 0.499</text>\n<text text-anchor=\"start\" x=\"439.5\" y=\"-37.8\" font-family=\"Helvetica,sans-Serif\" font-size=\"14.00\" fill=\"#000000\">samples = 31</text>\n<text text-anchor=\"start\" x=\"433.5\" y=\"-22.8\" font-family=\"Helvetica,sans-Serif\" font-size=\"14.00\" fill=\"#000000\">value = [16, 15]</text>\n<text text-anchor=\"start\" x=\"402\" y=\"-7.8\" font-family=\"Helvetica,sans-Serif\" font-size=\"14.00\" fill=\"#000000\">class = NÃO DIABETICO</text>\n</g>\n<!-- 4&#45;&gt;5 -->\n<g id=\"edge5\" class=\"edge\">\n<title>4&#45;&gt;5</title>\n<path fill=\"none\" stroke=\"#000000\" d=\"M483.5,-103.9815C483.5,-95.618 483.5,-86.7965 483.5,-78.3409\"/>\n<polygon fill=\"#000000\" stroke=\"#000000\" points=\"487.0001,-78.2636 483.5,-68.2637 480.0001,-78.2637 487.0001,-78.2636\"/>\n</g>\n<!-- 6 -->\n<g id=\"node7\" class=\"node\">\n<title>6</title>\n<path fill=\"#46a3e7\" stroke=\"#000000\" d=\"M723.5,-68C723.5,-68 603.5,-68 603.5,-68 597.5,-68 591.5,-62 591.5,-56 591.5,-56 591.5,-12 591.5,-12 591.5,-6 597.5,0 603.5,0 603.5,0 723.5,0 723.5,0 729.5,0 735.5,-6 735.5,-12 735.5,-12 735.5,-56 735.5,-56 735.5,-62 729.5,-68 723.5,-68\"/>\n<text text-anchor=\"start\" x=\"625.5\" y=\"-52.8\" font-family=\"Helvetica,sans-Serif\" font-size=\"14.00\" fill=\"#000000\">gini = 0.113</text>\n<text text-anchor=\"start\" x=\"615.5\" y=\"-37.8\" font-family=\"Helvetica,sans-Serif\" font-size=\"14.00\" fill=\"#000000\">samples = 116</text>\n<text text-anchor=\"start\" x=\"613.5\" y=\"-22.8\" font-family=\"Helvetica,sans-Serif\" font-size=\"14.00\" fill=\"#000000\">value = [7, 109]</text>\n<text text-anchor=\"start\" x=\"599.5\" y=\"-7.8\" font-family=\"Helvetica,sans-Serif\" font-size=\"14.00\" fill=\"#000000\">class = DIABETICO</text>\n</g>\n<!-- 4&#45;&gt;6 -->\n<g id=\"edge6\" class=\"edge\">\n<title>4&#45;&gt;6</title>\n<path fill=\"none\" stroke=\"#000000\" d=\"M550.5254,-103.9815C566.6336,-94.0034 583.7941,-83.3733 599.7487,-73.4904\"/>\n<polygon fill=\"#000000\" stroke=\"#000000\" points=\"601.8158,-76.3271 608.4739,-68.0856 598.1296,-70.3763 601.8158,-76.3271\"/>\n</g>\n</g>\n</svg>\n"
          },
          "metadata": {},
          "execution_count": 87
        }
      ]
    }
  ]
}