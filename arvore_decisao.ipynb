{
  "nbformat": 4,
  "nbformat_minor": 0,
  "metadata": {
    "colab": {
      "name": "arvore_decisao.ipynb",
      "provenance": [],
      "authorship_tag": "ABX9TyPRdXtWLTQUV02/b2DiLLHU",
      "include_colab_link": true
    },
    "kernelspec": {
      "name": "python3",
      "display_name": "Python 3"
    },
    "language_info": {
      "name": "python"
    }
  },
  "cells": [
    {
      "cell_type": "markdown",
      "metadata": {
        "id": "view-in-github",
        "colab_type": "text"
      },
      "source": [
        "<a href=\"https://colab.research.google.com/github/vitorkol/decision-tree/blob/main/arvore_decisao.ipynb\" target=\"_parent\"><img src=\"https://colab.research.google.com/assets/colab-badge.svg\" alt=\"Open In Colab\"/></a>"
      ]
    },
    {
      "cell_type": "markdown",
      "source": [
        "**Importando as bibliotecas do Pandas**"
      ],
      "metadata": {
        "id": "xuGwTIxx3agY"
      }
    },
    {
      "cell_type": "code",
      "source": [
        "import pandas as pd\n",
        "import matplotlib.pyplot as plt"
      ],
      "metadata": {
        "id": "6LdyixwW256H"
      },
      "execution_count": 1,
      "outputs": []
    },
    {
      "cell_type": "markdown",
      "source": [
        "**Lendo um arquivo diretamente de uma url**"
      ],
      "metadata": {
        "id": "9jDaXrIc8xwm"
      }
    },
    {
      "cell_type": "code",
      "source": [
        "#Lendo o dataset a ser utilizado no exercício\n",
        "url = \"https://raw.githubusercontent.com/vitorkol/decision-tree/main/dataset/diabetes.csv\"\n",
        "base_diabetes = pd.read_csv(url, sep = ';')"
      ],
      "metadata": {
        "id": "vKpJit2Z3mLG"
      },
      "execution_count": 2,
      "outputs": []
    },
    {
      "cell_type": "code",
      "source": [
        "base_diabetes"
      ],
      "metadata": {
        "id": "hJF1F7ZO3TsI",
        "outputId": "c60c03d0-2596-450d-de6d-79ee93450794",
        "colab": {
          "base_uri": "https://localhost:8080/",
          "height": 488
        }
      },
      "execution_count": 3,
      "outputs": [
        {
          "output_type": "execute_result",
          "data": {
            "text/plain": [
              "     gravidez  glicose  pressao_sangue  espessura_pele  insulina   IMC  \\\n",
              "0           6      148              72              35         0  33.6   \n",
              "1           1       85              66              29         0  26.6   \n",
              "2           8      183              64               0         0  23.3   \n",
              "3           1       89              66              23        94  28.1   \n",
              "4           0      137              40              35       168  43.1   \n",
              "..        ...      ...             ...             ...       ...   ...   \n",
              "763        10      101              76              48       180  32.9   \n",
              "764         2      122              70              27         0  36.8   \n",
              "765         5      121              72              23       112  26.2   \n",
              "766         1      126              60               0         0  30.1   \n",
              "767         1       93              70              31         0  30.4   \n",
              "\n",
              "     predisposicao_diabetes  idade  diabetes  \n",
              "0                     0.627     50         1  \n",
              "1                     0.351     31         0  \n",
              "2                     0.672     32         1  \n",
              "3                     0.167     21         0  \n",
              "4                     2.288     33         1  \n",
              "..                      ...    ...       ...  \n",
              "763                   0.171     63         0  \n",
              "764                   0.340     27         0  \n",
              "765                   0.245     30         0  \n",
              "766                   0.349     47         1  \n",
              "767                   0.315     23         0  \n",
              "\n",
              "[768 rows x 9 columns]"
            ],
            "text/html": [
              "\n",
              "  <div id=\"df-ab7064e2-b004-42b5-b8d3-c50be51719d7\">\n",
              "    <div class=\"colab-df-container\">\n",
              "      <div>\n",
              "<style scoped>\n",
              "    .dataframe tbody tr th:only-of-type {\n",
              "        vertical-align: middle;\n",
              "    }\n",
              "\n",
              "    .dataframe tbody tr th {\n",
              "        vertical-align: top;\n",
              "    }\n",
              "\n",
              "    .dataframe thead th {\n",
              "        text-align: right;\n",
              "    }\n",
              "</style>\n",
              "<table border=\"1\" class=\"dataframe\">\n",
              "  <thead>\n",
              "    <tr style=\"text-align: right;\">\n",
              "      <th></th>\n",
              "      <th>gravidez</th>\n",
              "      <th>glicose</th>\n",
              "      <th>pressao_sangue</th>\n",
              "      <th>espessura_pele</th>\n",
              "      <th>insulina</th>\n",
              "      <th>IMC</th>\n",
              "      <th>predisposicao_diabetes</th>\n",
              "      <th>idade</th>\n",
              "      <th>diabetes</th>\n",
              "    </tr>\n",
              "  </thead>\n",
              "  <tbody>\n",
              "    <tr>\n",
              "      <th>0</th>\n",
              "      <td>6</td>\n",
              "      <td>148</td>\n",
              "      <td>72</td>\n",
              "      <td>35</td>\n",
              "      <td>0</td>\n",
              "      <td>33.6</td>\n",
              "      <td>0.627</td>\n",
              "      <td>50</td>\n",
              "      <td>1</td>\n",
              "    </tr>\n",
              "    <tr>\n",
              "      <th>1</th>\n",
              "      <td>1</td>\n",
              "      <td>85</td>\n",
              "      <td>66</td>\n",
              "      <td>29</td>\n",
              "      <td>0</td>\n",
              "      <td>26.6</td>\n",
              "      <td>0.351</td>\n",
              "      <td>31</td>\n",
              "      <td>0</td>\n",
              "    </tr>\n",
              "    <tr>\n",
              "      <th>2</th>\n",
              "      <td>8</td>\n",
              "      <td>183</td>\n",
              "      <td>64</td>\n",
              "      <td>0</td>\n",
              "      <td>0</td>\n",
              "      <td>23.3</td>\n",
              "      <td>0.672</td>\n",
              "      <td>32</td>\n",
              "      <td>1</td>\n",
              "    </tr>\n",
              "    <tr>\n",
              "      <th>3</th>\n",
              "      <td>1</td>\n",
              "      <td>89</td>\n",
              "      <td>66</td>\n",
              "      <td>23</td>\n",
              "      <td>94</td>\n",
              "      <td>28.1</td>\n",
              "      <td>0.167</td>\n",
              "      <td>21</td>\n",
              "      <td>0</td>\n",
              "    </tr>\n",
              "    <tr>\n",
              "      <th>4</th>\n",
              "      <td>0</td>\n",
              "      <td>137</td>\n",
              "      <td>40</td>\n",
              "      <td>35</td>\n",
              "      <td>168</td>\n",
              "      <td>43.1</td>\n",
              "      <td>2.288</td>\n",
              "      <td>33</td>\n",
              "      <td>1</td>\n",
              "    </tr>\n",
              "    <tr>\n",
              "      <th>...</th>\n",
              "      <td>...</td>\n",
              "      <td>...</td>\n",
              "      <td>...</td>\n",
              "      <td>...</td>\n",
              "      <td>...</td>\n",
              "      <td>...</td>\n",
              "      <td>...</td>\n",
              "      <td>...</td>\n",
              "      <td>...</td>\n",
              "    </tr>\n",
              "    <tr>\n",
              "      <th>763</th>\n",
              "      <td>10</td>\n",
              "      <td>101</td>\n",
              "      <td>76</td>\n",
              "      <td>48</td>\n",
              "      <td>180</td>\n",
              "      <td>32.9</td>\n",
              "      <td>0.171</td>\n",
              "      <td>63</td>\n",
              "      <td>0</td>\n",
              "    </tr>\n",
              "    <tr>\n",
              "      <th>764</th>\n",
              "      <td>2</td>\n",
              "      <td>122</td>\n",
              "      <td>70</td>\n",
              "      <td>27</td>\n",
              "      <td>0</td>\n",
              "      <td>36.8</td>\n",
              "      <td>0.340</td>\n",
              "      <td>27</td>\n",
              "      <td>0</td>\n",
              "    </tr>\n",
              "    <tr>\n",
              "      <th>765</th>\n",
              "      <td>5</td>\n",
              "      <td>121</td>\n",
              "      <td>72</td>\n",
              "      <td>23</td>\n",
              "      <td>112</td>\n",
              "      <td>26.2</td>\n",
              "      <td>0.245</td>\n",
              "      <td>30</td>\n",
              "      <td>0</td>\n",
              "    </tr>\n",
              "    <tr>\n",
              "      <th>766</th>\n",
              "      <td>1</td>\n",
              "      <td>126</td>\n",
              "      <td>60</td>\n",
              "      <td>0</td>\n",
              "      <td>0</td>\n",
              "      <td>30.1</td>\n",
              "      <td>0.349</td>\n",
              "      <td>47</td>\n",
              "      <td>1</td>\n",
              "    </tr>\n",
              "    <tr>\n",
              "      <th>767</th>\n",
              "      <td>1</td>\n",
              "      <td>93</td>\n",
              "      <td>70</td>\n",
              "      <td>31</td>\n",
              "      <td>0</td>\n",
              "      <td>30.4</td>\n",
              "      <td>0.315</td>\n",
              "      <td>23</td>\n",
              "      <td>0</td>\n",
              "    </tr>\n",
              "  </tbody>\n",
              "</table>\n",
              "<p>768 rows × 9 columns</p>\n",
              "</div>\n",
              "      <button class=\"colab-df-convert\" onclick=\"convertToInteractive('df-ab7064e2-b004-42b5-b8d3-c50be51719d7')\"\n",
              "              title=\"Convert this dataframe to an interactive table.\"\n",
              "              style=\"display:none;\">\n",
              "        \n",
              "  <svg xmlns=\"http://www.w3.org/2000/svg\" height=\"24px\"viewBox=\"0 0 24 24\"\n",
              "       width=\"24px\">\n",
              "    <path d=\"M0 0h24v24H0V0z\" fill=\"none\"/>\n",
              "    <path d=\"M18.56 5.44l.94 2.06.94-2.06 2.06-.94-2.06-.94-.94-2.06-.94 2.06-2.06.94zm-11 1L8.5 8.5l.94-2.06 2.06-.94-2.06-.94L8.5 2.5l-.94 2.06-2.06.94zm10 10l.94 2.06.94-2.06 2.06-.94-2.06-.94-.94-2.06-.94 2.06-2.06.94z\"/><path d=\"M17.41 7.96l-1.37-1.37c-.4-.4-.92-.59-1.43-.59-.52 0-1.04.2-1.43.59L10.3 9.45l-7.72 7.72c-.78.78-.78 2.05 0 2.83L4 21.41c.39.39.9.59 1.41.59.51 0 1.02-.2 1.41-.59l7.78-7.78 2.81-2.81c.8-.78.8-2.07 0-2.86zM5.41 20L4 18.59l7.72-7.72 1.47 1.35L5.41 20z\"/>\n",
              "  </svg>\n",
              "      </button>\n",
              "      \n",
              "  <style>\n",
              "    .colab-df-container {\n",
              "      display:flex;\n",
              "      flex-wrap:wrap;\n",
              "      gap: 12px;\n",
              "    }\n",
              "\n",
              "    .colab-df-convert {\n",
              "      background-color: #E8F0FE;\n",
              "      border: none;\n",
              "      border-radius: 50%;\n",
              "      cursor: pointer;\n",
              "      display: none;\n",
              "      fill: #1967D2;\n",
              "      height: 32px;\n",
              "      padding: 0 0 0 0;\n",
              "      width: 32px;\n",
              "    }\n",
              "\n",
              "    .colab-df-convert:hover {\n",
              "      background-color: #E2EBFA;\n",
              "      box-shadow: 0px 1px 2px rgba(60, 64, 67, 0.3), 0px 1px 3px 1px rgba(60, 64, 67, 0.15);\n",
              "      fill: #174EA6;\n",
              "    }\n",
              "\n",
              "    [theme=dark] .colab-df-convert {\n",
              "      background-color: #3B4455;\n",
              "      fill: #D2E3FC;\n",
              "    }\n",
              "\n",
              "    [theme=dark] .colab-df-convert:hover {\n",
              "      background-color: #434B5C;\n",
              "      box-shadow: 0px 1px 3px 1px rgba(0, 0, 0, 0.15);\n",
              "      filter: drop-shadow(0px 1px 2px rgba(0, 0, 0, 0.3));\n",
              "      fill: #FFFFFF;\n",
              "    }\n",
              "  </style>\n",
              "\n",
              "      <script>\n",
              "        const buttonEl =\n",
              "          document.querySelector('#df-ab7064e2-b004-42b5-b8d3-c50be51719d7 button.colab-df-convert');\n",
              "        buttonEl.style.display =\n",
              "          google.colab.kernel.accessAllowed ? 'block' : 'none';\n",
              "\n",
              "        async function convertToInteractive(key) {\n",
              "          const element = document.querySelector('#df-ab7064e2-b004-42b5-b8d3-c50be51719d7');\n",
              "          const dataTable =\n",
              "            await google.colab.kernel.invokeFunction('convertToInteractive',\n",
              "                                                     [key], {});\n",
              "          if (!dataTable) return;\n",
              "\n",
              "          const docLinkHtml = 'Like what you see? Visit the ' +\n",
              "            '<a target=\"_blank\" href=https://colab.research.google.com/notebooks/data_table.ipynb>data table notebook</a>'\n",
              "            + ' to learn more about interactive tables.';\n",
              "          element.innerHTML = '';\n",
              "          dataTable['output_type'] = 'display_data';\n",
              "          await google.colab.output.renderOutput(dataTable, element);\n",
              "          const docLink = document.createElement('div');\n",
              "          docLink.innerHTML = docLinkHtml;\n",
              "          element.appendChild(docLink);\n",
              "        }\n",
              "      </script>\n",
              "    </div>\n",
              "  </div>\n",
              "  "
            ]
          },
          "metadata": {},
          "execution_count": 3
        }
      ]
    },
    {
      "cell_type": "markdown",
      "source": [
        "**Identificando os dados e seus repectivos tipos**\n",
        "\n",
        "Essa análise inicial permite ter uma visão dos tipos de daos e os possíveis tipos de tratamento."
      ],
      "metadata": {
        "id": "8Uv8A7C0B5Gp"
      }
    },
    {
      "cell_type": "code",
      "source": [
        "base_diabetes.info()"
      ],
      "metadata": {
        "id": "DmIme3C14746",
        "outputId": "a886930a-3af8-4e2e-cfd5-ddcd5c41d185",
        "colab": {
          "base_uri": "https://localhost:8080/"
        }
      },
      "execution_count": 4,
      "outputs": [
        {
          "output_type": "stream",
          "name": "stdout",
          "text": [
            "<class 'pandas.core.frame.DataFrame'>\n",
            "RangeIndex: 768 entries, 0 to 767\n",
            "Data columns (total 9 columns):\n",
            " #   Column                  Non-Null Count  Dtype  \n",
            "---  ------                  --------------  -----  \n",
            " 0   gravidez                768 non-null    int64  \n",
            " 1   glicose                 768 non-null    int64  \n",
            " 2   pressao_sangue          768 non-null    int64  \n",
            " 3   espessura_pele          768 non-null    int64  \n",
            " 4   insulina                768 non-null    int64  \n",
            " 5   IMC                     768 non-null    float64\n",
            " 6   predisposicao_diabetes  768 non-null    float64\n",
            " 7   idade                   768 non-null    int64  \n",
            " 8   diabetes                768 non-null    int64  \n",
            "dtypes: float64(2), int64(7)\n",
            "memory usage: 54.1 KB\n"
          ]
        }
      ]
    },
    {
      "cell_type": "code",
      "source": [
        "base_diabetes.head()"
      ],
      "metadata": {
        "id": "G4OKZuex89Dp",
        "outputId": "719557ed-5d89-4b7d-cd93-41ff3d7c272a",
        "colab": {
          "base_uri": "https://localhost:8080/",
          "height": 270
        }
      },
      "execution_count": 5,
      "outputs": [
        {
          "output_type": "execute_result",
          "data": {
            "text/plain": [
              "   gravidez  glicose  pressao_sangue  espessura_pele  insulina   IMC  \\\n",
              "0         6      148              72              35         0  33.6   \n",
              "1         1       85              66              29         0  26.6   \n",
              "2         8      183              64               0         0  23.3   \n",
              "3         1       89              66              23        94  28.1   \n",
              "4         0      137              40              35       168  43.1   \n",
              "\n",
              "   predisposicao_diabetes  idade  diabetes  \n",
              "0                   0.627     50         1  \n",
              "1                   0.351     31         0  \n",
              "2                   0.672     32         1  \n",
              "3                   0.167     21         0  \n",
              "4                   2.288     33         1  "
            ],
            "text/html": [
              "\n",
              "  <div id=\"df-5ecd0071-74f6-4113-afd9-7de8d2cd7fad\">\n",
              "    <div class=\"colab-df-container\">\n",
              "      <div>\n",
              "<style scoped>\n",
              "    .dataframe tbody tr th:only-of-type {\n",
              "        vertical-align: middle;\n",
              "    }\n",
              "\n",
              "    .dataframe tbody tr th {\n",
              "        vertical-align: top;\n",
              "    }\n",
              "\n",
              "    .dataframe thead th {\n",
              "        text-align: right;\n",
              "    }\n",
              "</style>\n",
              "<table border=\"1\" class=\"dataframe\">\n",
              "  <thead>\n",
              "    <tr style=\"text-align: right;\">\n",
              "      <th></th>\n",
              "      <th>gravidez</th>\n",
              "      <th>glicose</th>\n",
              "      <th>pressao_sangue</th>\n",
              "      <th>espessura_pele</th>\n",
              "      <th>insulina</th>\n",
              "      <th>IMC</th>\n",
              "      <th>predisposicao_diabetes</th>\n",
              "      <th>idade</th>\n",
              "      <th>diabetes</th>\n",
              "    </tr>\n",
              "  </thead>\n",
              "  <tbody>\n",
              "    <tr>\n",
              "      <th>0</th>\n",
              "      <td>6</td>\n",
              "      <td>148</td>\n",
              "      <td>72</td>\n",
              "      <td>35</td>\n",
              "      <td>0</td>\n",
              "      <td>33.6</td>\n",
              "      <td>0.627</td>\n",
              "      <td>50</td>\n",
              "      <td>1</td>\n",
              "    </tr>\n",
              "    <tr>\n",
              "      <th>1</th>\n",
              "      <td>1</td>\n",
              "      <td>85</td>\n",
              "      <td>66</td>\n",
              "      <td>29</td>\n",
              "      <td>0</td>\n",
              "      <td>26.6</td>\n",
              "      <td>0.351</td>\n",
              "      <td>31</td>\n",
              "      <td>0</td>\n",
              "    </tr>\n",
              "    <tr>\n",
              "      <th>2</th>\n",
              "      <td>8</td>\n",
              "      <td>183</td>\n",
              "      <td>64</td>\n",
              "      <td>0</td>\n",
              "      <td>0</td>\n",
              "      <td>23.3</td>\n",
              "      <td>0.672</td>\n",
              "      <td>32</td>\n",
              "      <td>1</td>\n",
              "    </tr>\n",
              "    <tr>\n",
              "      <th>3</th>\n",
              "      <td>1</td>\n",
              "      <td>89</td>\n",
              "      <td>66</td>\n",
              "      <td>23</td>\n",
              "      <td>94</td>\n",
              "      <td>28.1</td>\n",
              "      <td>0.167</td>\n",
              "      <td>21</td>\n",
              "      <td>0</td>\n",
              "    </tr>\n",
              "    <tr>\n",
              "      <th>4</th>\n",
              "      <td>0</td>\n",
              "      <td>137</td>\n",
              "      <td>40</td>\n",
              "      <td>35</td>\n",
              "      <td>168</td>\n",
              "      <td>43.1</td>\n",
              "      <td>2.288</td>\n",
              "      <td>33</td>\n",
              "      <td>1</td>\n",
              "    </tr>\n",
              "  </tbody>\n",
              "</table>\n",
              "</div>\n",
              "      <button class=\"colab-df-convert\" onclick=\"convertToInteractive('df-5ecd0071-74f6-4113-afd9-7de8d2cd7fad')\"\n",
              "              title=\"Convert this dataframe to an interactive table.\"\n",
              "              style=\"display:none;\">\n",
              "        \n",
              "  <svg xmlns=\"http://www.w3.org/2000/svg\" height=\"24px\"viewBox=\"0 0 24 24\"\n",
              "       width=\"24px\">\n",
              "    <path d=\"M0 0h24v24H0V0z\" fill=\"none\"/>\n",
              "    <path d=\"M18.56 5.44l.94 2.06.94-2.06 2.06-.94-2.06-.94-.94-2.06-.94 2.06-2.06.94zm-11 1L8.5 8.5l.94-2.06 2.06-.94-2.06-.94L8.5 2.5l-.94 2.06-2.06.94zm10 10l.94 2.06.94-2.06 2.06-.94-2.06-.94-.94-2.06-.94 2.06-2.06.94z\"/><path d=\"M17.41 7.96l-1.37-1.37c-.4-.4-.92-.59-1.43-.59-.52 0-1.04.2-1.43.59L10.3 9.45l-7.72 7.72c-.78.78-.78 2.05 0 2.83L4 21.41c.39.39.9.59 1.41.59.51 0 1.02-.2 1.41-.59l7.78-7.78 2.81-2.81c.8-.78.8-2.07 0-2.86zM5.41 20L4 18.59l7.72-7.72 1.47 1.35L5.41 20z\"/>\n",
              "  </svg>\n",
              "      </button>\n",
              "      \n",
              "  <style>\n",
              "    .colab-df-container {\n",
              "      display:flex;\n",
              "      flex-wrap:wrap;\n",
              "      gap: 12px;\n",
              "    }\n",
              "\n",
              "    .colab-df-convert {\n",
              "      background-color: #E8F0FE;\n",
              "      border: none;\n",
              "      border-radius: 50%;\n",
              "      cursor: pointer;\n",
              "      display: none;\n",
              "      fill: #1967D2;\n",
              "      height: 32px;\n",
              "      padding: 0 0 0 0;\n",
              "      width: 32px;\n",
              "    }\n",
              "\n",
              "    .colab-df-convert:hover {\n",
              "      background-color: #E2EBFA;\n",
              "      box-shadow: 0px 1px 2px rgba(60, 64, 67, 0.3), 0px 1px 3px 1px rgba(60, 64, 67, 0.15);\n",
              "      fill: #174EA6;\n",
              "    }\n",
              "\n",
              "    [theme=dark] .colab-df-convert {\n",
              "      background-color: #3B4455;\n",
              "      fill: #D2E3FC;\n",
              "    }\n",
              "\n",
              "    [theme=dark] .colab-df-convert:hover {\n",
              "      background-color: #434B5C;\n",
              "      box-shadow: 0px 1px 3px 1px rgba(0, 0, 0, 0.15);\n",
              "      filter: drop-shadow(0px 1px 2px rgba(0, 0, 0, 0.3));\n",
              "      fill: #FFFFFF;\n",
              "    }\n",
              "  </style>\n",
              "\n",
              "      <script>\n",
              "        const buttonEl =\n",
              "          document.querySelector('#df-5ecd0071-74f6-4113-afd9-7de8d2cd7fad button.colab-df-convert');\n",
              "        buttonEl.style.display =\n",
              "          google.colab.kernel.accessAllowed ? 'block' : 'none';\n",
              "\n",
              "        async function convertToInteractive(key) {\n",
              "          const element = document.querySelector('#df-5ecd0071-74f6-4113-afd9-7de8d2cd7fad');\n",
              "          const dataTable =\n",
              "            await google.colab.kernel.invokeFunction('convertToInteractive',\n",
              "                                                     [key], {});\n",
              "          if (!dataTable) return;\n",
              "\n",
              "          const docLinkHtml = 'Like what you see? Visit the ' +\n",
              "            '<a target=\"_blank\" href=https://colab.research.google.com/notebooks/data_table.ipynb>data table notebook</a>'\n",
              "            + ' to learn more about interactive tables.';\n",
              "          element.innerHTML = '';\n",
              "          dataTable['output_type'] = 'display_data';\n",
              "          await google.colab.output.renderOutput(dataTable, element);\n",
              "          const docLink = document.createElement('div');\n",
              "          docLink.innerHTML = docLinkHtml;\n",
              "          element.appendChild(docLink);\n",
              "        }\n",
              "      </script>\n",
              "    </div>\n",
              "  </div>\n",
              "  "
            ]
          },
          "metadata": {},
          "execution_count": 5
        }
      ]
    },
    {
      "cell_type": "code",
      "source": [
        "base_diabetes.describe()"
      ],
      "metadata": {
        "id": "28a1Su2u881r",
        "outputId": "61a49e17-6aed-4341-8f73-56a7ca2e3501",
        "colab": {
          "base_uri": "https://localhost:8080/",
          "height": 364
        }
      },
      "execution_count": 6,
      "outputs": [
        {
          "output_type": "execute_result",
          "data": {
            "text/plain": [
              "         gravidez     glicose  pressao_sangue  espessura_pele    insulina  \\\n",
              "count  768.000000  768.000000      768.000000      768.000000  768.000000   \n",
              "mean     3.845052  120.894531       69.105469       20.536458   79.799479   \n",
              "std      3.369578   31.972618       19.355807       15.952218  115.244002   \n",
              "min      0.000000    0.000000        0.000000        0.000000    0.000000   \n",
              "25%      1.000000   99.000000       62.000000        0.000000    0.000000   \n",
              "50%      3.000000  117.000000       72.000000       23.000000   30.500000   \n",
              "75%      6.000000  140.250000       80.000000       32.000000  127.250000   \n",
              "max     17.000000  199.000000      122.000000       99.000000  846.000000   \n",
              "\n",
              "              IMC  predisposicao_diabetes       idade    diabetes  \n",
              "count  768.000000              768.000000  768.000000  768.000000  \n",
              "mean    31.992578                0.471876   33.240885    0.348958  \n",
              "std      7.884160                0.331329   11.760232    0.476951  \n",
              "min      0.000000                0.078000   21.000000    0.000000  \n",
              "25%     27.300000                0.243750   24.000000    0.000000  \n",
              "50%     32.000000                0.372500   29.000000    0.000000  \n",
              "75%     36.600000                0.626250   41.000000    1.000000  \n",
              "max     67.100000                2.420000   81.000000    1.000000  "
            ],
            "text/html": [
              "\n",
              "  <div id=\"df-5702defc-52d2-42c7-b702-4da55fbd1774\">\n",
              "    <div class=\"colab-df-container\">\n",
              "      <div>\n",
              "<style scoped>\n",
              "    .dataframe tbody tr th:only-of-type {\n",
              "        vertical-align: middle;\n",
              "    }\n",
              "\n",
              "    .dataframe tbody tr th {\n",
              "        vertical-align: top;\n",
              "    }\n",
              "\n",
              "    .dataframe thead th {\n",
              "        text-align: right;\n",
              "    }\n",
              "</style>\n",
              "<table border=\"1\" class=\"dataframe\">\n",
              "  <thead>\n",
              "    <tr style=\"text-align: right;\">\n",
              "      <th></th>\n",
              "      <th>gravidez</th>\n",
              "      <th>glicose</th>\n",
              "      <th>pressao_sangue</th>\n",
              "      <th>espessura_pele</th>\n",
              "      <th>insulina</th>\n",
              "      <th>IMC</th>\n",
              "      <th>predisposicao_diabetes</th>\n",
              "      <th>idade</th>\n",
              "      <th>diabetes</th>\n",
              "    </tr>\n",
              "  </thead>\n",
              "  <tbody>\n",
              "    <tr>\n",
              "      <th>count</th>\n",
              "      <td>768.000000</td>\n",
              "      <td>768.000000</td>\n",
              "      <td>768.000000</td>\n",
              "      <td>768.000000</td>\n",
              "      <td>768.000000</td>\n",
              "      <td>768.000000</td>\n",
              "      <td>768.000000</td>\n",
              "      <td>768.000000</td>\n",
              "      <td>768.000000</td>\n",
              "    </tr>\n",
              "    <tr>\n",
              "      <th>mean</th>\n",
              "      <td>3.845052</td>\n",
              "      <td>120.894531</td>\n",
              "      <td>69.105469</td>\n",
              "      <td>20.536458</td>\n",
              "      <td>79.799479</td>\n",
              "      <td>31.992578</td>\n",
              "      <td>0.471876</td>\n",
              "      <td>33.240885</td>\n",
              "      <td>0.348958</td>\n",
              "    </tr>\n",
              "    <tr>\n",
              "      <th>std</th>\n",
              "      <td>3.369578</td>\n",
              "      <td>31.972618</td>\n",
              "      <td>19.355807</td>\n",
              "      <td>15.952218</td>\n",
              "      <td>115.244002</td>\n",
              "      <td>7.884160</td>\n",
              "      <td>0.331329</td>\n",
              "      <td>11.760232</td>\n",
              "      <td>0.476951</td>\n",
              "    </tr>\n",
              "    <tr>\n",
              "      <th>min</th>\n",
              "      <td>0.000000</td>\n",
              "      <td>0.000000</td>\n",
              "      <td>0.000000</td>\n",
              "      <td>0.000000</td>\n",
              "      <td>0.000000</td>\n",
              "      <td>0.000000</td>\n",
              "      <td>0.078000</td>\n",
              "      <td>21.000000</td>\n",
              "      <td>0.000000</td>\n",
              "    </tr>\n",
              "    <tr>\n",
              "      <th>25%</th>\n",
              "      <td>1.000000</td>\n",
              "      <td>99.000000</td>\n",
              "      <td>62.000000</td>\n",
              "      <td>0.000000</td>\n",
              "      <td>0.000000</td>\n",
              "      <td>27.300000</td>\n",
              "      <td>0.243750</td>\n",
              "      <td>24.000000</td>\n",
              "      <td>0.000000</td>\n",
              "    </tr>\n",
              "    <tr>\n",
              "      <th>50%</th>\n",
              "      <td>3.000000</td>\n",
              "      <td>117.000000</td>\n",
              "      <td>72.000000</td>\n",
              "      <td>23.000000</td>\n",
              "      <td>30.500000</td>\n",
              "      <td>32.000000</td>\n",
              "      <td>0.372500</td>\n",
              "      <td>29.000000</td>\n",
              "      <td>0.000000</td>\n",
              "    </tr>\n",
              "    <tr>\n",
              "      <th>75%</th>\n",
              "      <td>6.000000</td>\n",
              "      <td>140.250000</td>\n",
              "      <td>80.000000</td>\n",
              "      <td>32.000000</td>\n",
              "      <td>127.250000</td>\n",
              "      <td>36.600000</td>\n",
              "      <td>0.626250</td>\n",
              "      <td>41.000000</td>\n",
              "      <td>1.000000</td>\n",
              "    </tr>\n",
              "    <tr>\n",
              "      <th>max</th>\n",
              "      <td>17.000000</td>\n",
              "      <td>199.000000</td>\n",
              "      <td>122.000000</td>\n",
              "      <td>99.000000</td>\n",
              "      <td>846.000000</td>\n",
              "      <td>67.100000</td>\n",
              "      <td>2.420000</td>\n",
              "      <td>81.000000</td>\n",
              "      <td>1.000000</td>\n",
              "    </tr>\n",
              "  </tbody>\n",
              "</table>\n",
              "</div>\n",
              "      <button class=\"colab-df-convert\" onclick=\"convertToInteractive('df-5702defc-52d2-42c7-b702-4da55fbd1774')\"\n",
              "              title=\"Convert this dataframe to an interactive table.\"\n",
              "              style=\"display:none;\">\n",
              "        \n",
              "  <svg xmlns=\"http://www.w3.org/2000/svg\" height=\"24px\"viewBox=\"0 0 24 24\"\n",
              "       width=\"24px\">\n",
              "    <path d=\"M0 0h24v24H0V0z\" fill=\"none\"/>\n",
              "    <path d=\"M18.56 5.44l.94 2.06.94-2.06 2.06-.94-2.06-.94-.94-2.06-.94 2.06-2.06.94zm-11 1L8.5 8.5l.94-2.06 2.06-.94-2.06-.94L8.5 2.5l-.94 2.06-2.06.94zm10 10l.94 2.06.94-2.06 2.06-.94-2.06-.94-.94-2.06-.94 2.06-2.06.94z\"/><path d=\"M17.41 7.96l-1.37-1.37c-.4-.4-.92-.59-1.43-.59-.52 0-1.04.2-1.43.59L10.3 9.45l-7.72 7.72c-.78.78-.78 2.05 0 2.83L4 21.41c.39.39.9.59 1.41.59.51 0 1.02-.2 1.41-.59l7.78-7.78 2.81-2.81c.8-.78.8-2.07 0-2.86zM5.41 20L4 18.59l7.72-7.72 1.47 1.35L5.41 20z\"/>\n",
              "  </svg>\n",
              "      </button>\n",
              "      \n",
              "  <style>\n",
              "    .colab-df-container {\n",
              "      display:flex;\n",
              "      flex-wrap:wrap;\n",
              "      gap: 12px;\n",
              "    }\n",
              "\n",
              "    .colab-df-convert {\n",
              "      background-color: #E8F0FE;\n",
              "      border: none;\n",
              "      border-radius: 50%;\n",
              "      cursor: pointer;\n",
              "      display: none;\n",
              "      fill: #1967D2;\n",
              "      height: 32px;\n",
              "      padding: 0 0 0 0;\n",
              "      width: 32px;\n",
              "    }\n",
              "\n",
              "    .colab-df-convert:hover {\n",
              "      background-color: #E2EBFA;\n",
              "      box-shadow: 0px 1px 2px rgba(60, 64, 67, 0.3), 0px 1px 3px 1px rgba(60, 64, 67, 0.15);\n",
              "      fill: #174EA6;\n",
              "    }\n",
              "\n",
              "    [theme=dark] .colab-df-convert {\n",
              "      background-color: #3B4455;\n",
              "      fill: #D2E3FC;\n",
              "    }\n",
              "\n",
              "    [theme=dark] .colab-df-convert:hover {\n",
              "      background-color: #434B5C;\n",
              "      box-shadow: 0px 1px 3px 1px rgba(0, 0, 0, 0.15);\n",
              "      filter: drop-shadow(0px 1px 2px rgba(0, 0, 0, 0.3));\n",
              "      fill: #FFFFFF;\n",
              "    }\n",
              "  </style>\n",
              "\n",
              "      <script>\n",
              "        const buttonEl =\n",
              "          document.querySelector('#df-5702defc-52d2-42c7-b702-4da55fbd1774 button.colab-df-convert');\n",
              "        buttonEl.style.display =\n",
              "          google.colab.kernel.accessAllowed ? 'block' : 'none';\n",
              "\n",
              "        async function convertToInteractive(key) {\n",
              "          const element = document.querySelector('#df-5702defc-52d2-42c7-b702-4da55fbd1774');\n",
              "          const dataTable =\n",
              "            await google.colab.kernel.invokeFunction('convertToInteractive',\n",
              "                                                     [key], {});\n",
              "          if (!dataTable) return;\n",
              "\n",
              "          const docLinkHtml = 'Like what you see? Visit the ' +\n",
              "            '<a target=\"_blank\" href=https://colab.research.google.com/notebooks/data_table.ipynb>data table notebook</a>'\n",
              "            + ' to learn more about interactive tables.';\n",
              "          element.innerHTML = '';\n",
              "          dataTable['output_type'] = 'display_data';\n",
              "          await google.colab.output.renderOutput(dataTable, element);\n",
              "          const docLink = document.createElement('div');\n",
              "          docLink.innerHTML = docLinkHtml;\n",
              "          element.appendChild(docLink);\n",
              "        }\n",
              "      </script>\n",
              "    </div>\n",
              "  </div>\n",
              "  "
            ]
          },
          "metadata": {},
          "execution_count": 6
        }
      ]
    },
    {
      "cell_type": "code",
      "source": [
        "base_diabetes.isna().sum()"
      ],
      "metadata": {
        "id": "Asyp46S088oO",
        "outputId": "5e082f3e-eba7-4360-b1ef-9fa1cfe15204",
        "colab": {
          "base_uri": "https://localhost:8080/"
        }
      },
      "execution_count": 7,
      "outputs": [
        {
          "output_type": "execute_result",
          "data": {
            "text/plain": [
              "gravidez                  0\n",
              "glicose                   0\n",
              "pressao_sangue            0\n",
              "espessura_pele            0\n",
              "insulina                  0\n",
              "IMC                       0\n",
              "predisposicao_diabetes    0\n",
              "idade                     0\n",
              "diabetes                  0\n",
              "dtype: int64"
            ]
          },
          "metadata": {},
          "execution_count": 7
        }
      ]
    },
    {
      "cell_type": "code",
      "source": [
        "base_diabetes.groupby(['diabetes'])['diabetes'].count()"
      ],
      "metadata": {
        "id": "td0hRWtFC0IS",
        "outputId": "9fc36fce-7724-4031-c588-f885c64b59b1",
        "colab": {
          "base_uri": "https://localhost:8080/"
        }
      },
      "execution_count": 8,
      "outputs": [
        {
          "output_type": "execute_result",
          "data": {
            "text/plain": [
              "diabetes\n",
              "0    500\n",
              "1    268\n",
              "Name: diabetes, dtype: int64"
            ]
          },
          "metadata": {},
          "execution_count": 8
        }
      ]
    },
    {
      "cell_type": "markdown",
      "source": [
        "**Instalando a biblioteca imblearn**\n",
        "\n",
        "Imblearn é uma bilbioteca utilizanda para tratar dados desbalanceados. A biblioeca oferece várias técnicas de reamostragem comumente usadas em conjuntos de dados que mostram um forte desequilíbrio entre as classes."
      ],
      "metadata": {
        "id": "NILALbReCzWu"
      }
    },
    {
      "cell_type": "code",
      "source": [
        "from imblearn.under_sampling import RandomUnderSampler, TomekLinks"
      ],
      "metadata": {
        "id": "dfwI5nBFCz7x"
      },
      "execution_count": 9,
      "outputs": []
    },
    {
      "cell_type": "markdown",
      "source": [
        "**Definindo o conjunto de dados para e armazenando nas variáveis features e target**\n",
        "\n",
        "Nesta etapa, vamos separar os conjuntos de dados em duas bases para analisarmos, sendo elas:\n",
        "\n",
        "x_dados contém todas as features (gravidez, glicose,pressao_sangue, etc) de cada amostra.\n",
        "y_dados contém apenas o target (possui diabetes/não possui diabetes)"
      ],
      "metadata": {
        "id": "HlTvQn88DraT"
      }
    },
    {
      "cell_type": "code",
      "source": [
        "x_dados = base_diabetes.drop('diabetes', axis=1).values # todos atributos menos a variavel label \n",
        "y_dados = base_diabetes['diabetes'].values # os labels diabetes ou não "
      ],
      "metadata": {
        "id": "fH3xA9ZuCzuQ"
      },
      "execution_count": 10,
      "outputs": []
    },
    {
      "cell_type": "markdown",
      "source": [
        "**Criando função para balancear os dados**\n",
        "\n",
        "UnderSampler é um método consiste em reduzir o número de observações da classe majoritária para diminuir a diferença entre as categorias."
      ],
      "metadata": {
        "id": "EGxhc_i7EpXQ"
      }
    },
    {
      "cell_type": "code",
      "source": [
        "def balanceamento_dados(x_dados, y_dados):\n",
        "    undersample = RandomUnderSampler(random_state = 42)\n",
        "    x_under, y_under = undersample.fit_resample(x_dados, y_dados)\n",
        "    #trabalha com atípicos em um conjunto de dados denominados outliers\n",
        "    tl = TomekLinks(sampling_strategy='all') \n",
        "    x_under, y_under  = tl.fit_resample(x_under, y_under)\n",
        "    return x_under, y_under"
      ],
      "metadata": {
        "id": "6NEFrE9SCzOG"
      },
      "execution_count": 11,
      "outputs": []
    },
    {
      "cell_type": "code",
      "source": [
        "#Aplicando técnica de balanceamento na base de dados\n",
        "x_dados_balanceados, y_dados_balanceados = balanceamento_dados(x_dados, y_dados)"
      ],
      "metadata": {
        "id": "fvtS3Pm5CzFG"
      },
      "execution_count": 12,
      "outputs": []
    },
    {
      "cell_type": "markdown",
      "source": [
        "**Formas de visualizar e analisar o balanceamento realizado**"
      ],
      "metadata": {
        "id": "MXOIpgAmF5vK"
      }
    },
    {
      "cell_type": "code",
      "source": [
        "#Nesta visualização, iremos Analisando os dados do balanceamento realizado nas variáveis x e y\n",
        "print(len(x_dados_balanceados), len(y_dados_balanceados))"
      ],
      "metadata": {
        "id": "QNrnTGNkCy6q",
        "outputId": "b2daf0c2-84f0-44a6-b6ee-54bc7ed02e98",
        "colab": {
          "base_uri": "https://localhost:8080/"
        }
      },
      "execution_count": 13,
      "outputs": [
        {
          "output_type": "stream",
          "name": "stdout",
          "text": [
            "456 456\n"
          ]
        }
      ]
    },
    {
      "cell_type": "code",
      "source": [
        "#Nesta visualização iremos importar a biblioteca collections, outra forma de analisar o balanceamento na variável y\n",
        "import collections\n",
        "print(collections.Counter(y_dados_balanceados))"
      ],
      "metadata": {
        "id": "iOi_Un9NCyzP",
        "outputId": "16dd6c6c-d05a-463d-eadb-e0d573a3966a",
        "colab": {
          "base_uri": "https://localhost:8080/"
        }
      },
      "execution_count": 14,
      "outputs": [
        {
          "output_type": "stream",
          "name": "stdout",
          "text": [
            "Counter({0: 228, 1: 228})\n"
          ]
        }
      ]
    },
    {
      "cell_type": "code",
      "source": [
        "#Nesta visualização temos como saída uma lista com dados balaceados\n",
        "y_dados_balanceados"
      ],
      "metadata": {
        "id": "yXhAROsoHS_N",
        "outputId": "c2c62471-e47f-4df9-cae6-49f07d792932",
        "colab": {
          "base_uri": "https://localhost:8080/"
        }
      },
      "execution_count": 15,
      "outputs": [
        {
          "output_type": "execute_result",
          "data": {
            "text/plain": [
              "array([0, 0, 0, 0, 0, 0, 0, 0, 0, 0, 0, 0, 0, 0, 0, 0, 0, 0, 0, 0, 0, 0,\n",
              "       0, 0, 0, 0, 0, 0, 0, 0, 0, 0, 0, 0, 0, 0, 0, 0, 0, 0, 0, 0, 0, 0,\n",
              "       0, 0, 0, 0, 0, 0, 0, 0, 0, 0, 0, 0, 0, 0, 0, 0, 0, 0, 0, 0, 0, 0,\n",
              "       0, 0, 0, 0, 0, 0, 0, 0, 0, 0, 0, 0, 0, 0, 0, 0, 0, 0, 0, 0, 0, 0,\n",
              "       0, 0, 0, 0, 0, 0, 0, 0, 0, 0, 0, 0, 0, 0, 0, 0, 0, 0, 0, 0, 0, 0,\n",
              "       0, 0, 0, 0, 0, 0, 0, 0, 0, 0, 0, 0, 0, 0, 0, 0, 0, 0, 0, 0, 0, 0,\n",
              "       0, 0, 0, 0, 0, 0, 0, 0, 0, 0, 0, 0, 0, 0, 0, 0, 0, 0, 0, 0, 0, 0,\n",
              "       0, 0, 0, 0, 0, 0, 0, 0, 0, 0, 0, 0, 0, 0, 0, 0, 0, 0, 0, 0, 0, 0,\n",
              "       0, 0, 0, 0, 0, 0, 0, 0, 0, 0, 0, 0, 0, 0, 0, 0, 0, 0, 0, 0, 0, 0,\n",
              "       0, 0, 0, 0, 0, 0, 0, 0, 0, 0, 0, 0, 0, 0, 0, 0, 0, 0, 0, 0, 0, 0,\n",
              "       0, 0, 0, 0, 0, 0, 0, 0, 1, 1, 1, 1, 1, 1, 1, 1, 1, 1, 1, 1, 1, 1,\n",
              "       1, 1, 1, 1, 1, 1, 1, 1, 1, 1, 1, 1, 1, 1, 1, 1, 1, 1, 1, 1, 1, 1,\n",
              "       1, 1, 1, 1, 1, 1, 1, 1, 1, 1, 1, 1, 1, 1, 1, 1, 1, 1, 1, 1, 1, 1,\n",
              "       1, 1, 1, 1, 1, 1, 1, 1, 1, 1, 1, 1, 1, 1, 1, 1, 1, 1, 1, 1, 1, 1,\n",
              "       1, 1, 1, 1, 1, 1, 1, 1, 1, 1, 1, 1, 1, 1, 1, 1, 1, 1, 1, 1, 1, 1,\n",
              "       1, 1, 1, 1, 1, 1, 1, 1, 1, 1, 1, 1, 1, 1, 1, 1, 1, 1, 1, 1, 1, 1,\n",
              "       1, 1, 1, 1, 1, 1, 1, 1, 1, 1, 1, 1, 1, 1, 1, 1, 1, 1, 1, 1, 1, 1,\n",
              "       1, 1, 1, 1, 1, 1, 1, 1, 1, 1, 1, 1, 1, 1, 1, 1, 1, 1, 1, 1, 1, 1,\n",
              "       1, 1, 1, 1, 1, 1, 1, 1, 1, 1, 1, 1, 1, 1, 1, 1, 1, 1, 1, 1, 1, 1,\n",
              "       1, 1, 1, 1, 1, 1, 1, 1, 1, 1, 1, 1, 1, 1, 1, 1, 1, 1, 1, 1, 1, 1,\n",
              "       1, 1, 1, 1, 1, 1, 1, 1, 1, 1, 1, 1, 1, 1, 1, 1])"
            ]
          },
          "metadata": {},
          "execution_count": 15
        }
      ]
    },
    {
      "cell_type": "code",
      "source": [
        "#Nesta visualização temos os dados balanceados através de um dataframe\n",
        "df_dados_balanceados = pd.DataFrame(y_dados_balanceados,columns=['diabetes'])\n",
        "df_dados_balanceados.groupby('diabetes')['diabetes'].count()"
      ],
      "metadata": {
        "id": "hhCve4llI0bj",
        "outputId": "a52e27de-787f-4fde-b1d5-a1a9a650d399",
        "colab": {
          "base_uri": "https://localhost:8080/"
        }
      },
      "execution_count": 16,
      "outputs": [
        {
          "output_type": "execute_result",
          "data": {
            "text/plain": [
              "diabetes\n",
              "0    228\n",
              "1    228\n",
              "Name: diabetes, dtype: int64"
            ]
          },
          "metadata": {},
          "execution_count": 16
        }
      ]
    },
    {
      "cell_type": "markdown",
      "source": [
        "**Criando função para realizar separação entre o conjunto de treinamento e teste**\n",
        "\n",
        "Para que o modelo de árvore de decisão tenha êxito, é necessário separamos nosso dataset em um conjunto de dados para treinar o modelo e um conjunto de dados para testa-lo.\n",
        "\n",
        "Importando a biblioteca Train Test"
      ],
      "metadata": {
        "id": "fftDOJHhHKjR"
      }
    },
    {
      "cell_type": "code",
      "source": [
        "from sklearn.model_selection import train_test_split"
      ],
      "metadata": {
        "id": "muWjgKavHLJj"
      },
      "execution_count": 17,
      "outputs": []
    },
    {
      "cell_type": "code",
      "source": [
        "#Definindo a função de treino e teste\n",
        "def separa_treino_teste(X_dados_balanceados, y_dados_balanceados):\n",
        "    x_train, x_test, y_train, y_test = train_test_split(x_dados_balanceados, y_dados_balanceados, random_state=42, test_size =0.2)\n",
        "    return x_train, x_test, y_train, y_test"
      ],
      "metadata": {
        "id": "e4xqqThPCylN"
      },
      "execution_count": 18,
      "outputs": []
    },
    {
      "cell_type": "code",
      "source": [
        "#Separando os dados em dois conjuntos, sendo eles: de treino e teste \n",
        "x_train, x_test, y_train, y_test = separa_treino_teste(x_dados_balanceados, y_dados_balanceados)"
      ],
      "metadata": {
        "id": "fOWL7zxoJkxJ"
      },
      "execution_count": 19,
      "outputs": []
    },
    {
      "cell_type": "code",
      "source": [
        "#Analisando a saida dos dados de treinamento e teste\n",
        "print(f'''O modelo de TREINAMENTO irá utilizar para seu aprendizado, {len(x_train)} registros da classe X e {len(y_train)} registros da classe Y\n",
        "O modelo de TESTE irá utilizar para o seu aprendizado, {len(x_test)} registros da classe X e {len(y_test)} registros da classe Y\n",
        "''')"
      ],
      "metadata": {
        "colab": {
          "base_uri": "https://localhost:8080/"
        },
        "id": "GeltIu7ZJkpY",
        "outputId": "d6d9f04b-fd3a-462e-88dc-f8902f530e2c"
      },
      "execution_count": 20,
      "outputs": [
        {
          "output_type": "stream",
          "name": "stdout",
          "text": [
            "O modelo de TREINAMENTO irá utilizar para seu aprendizado, 364 registros da classe X e 364 registros da classe Y\n",
            "O modelo de TESTE irá utilizar para o seu aprendizado, 92 registros da classe X e 92 registros da classe Y\n",
            "\n"
          ]
        }
      ]
    },
    {
      "cell_type": "markdown",
      "source": [
        "**Criando árvore de decisão**\n",
        "\n",
        "Importanto a biblioteca Tree\n"
      ],
      "metadata": {
        "id": "JMBvY7FaLDOM"
      }
    },
    {
      "cell_type": "code",
      "source": [
        "from sklearn import tree"
      ],
      "metadata": {
        "id": "c8tpWQ7eLC2z"
      },
      "execution_count": 21,
      "outputs": []
    },
    {
      "cell_type": "code",
      "source": [
        "#Definindo a classificação da árvore de decisão\n",
        "algoritmo_arvore = tree.DecisionTreeClassifier()\n",
        "modelo = algoritmo_arvore.fit(x_train, y_train)\n",
        "y_pred = modelo.predict(x_test)"
      ],
      "metadata": {
        "id": "8BBo48g5Jkgk"
      },
      "execution_count": 22,
      "outputs": []
    },
    {
      "cell_type": "markdown",
      "source": [
        "**Verificando a importância de cada feature no modelo**\n",
        "\n",
        "É muito importânte visualizar a importância de cada feature representada no modelo. Para isso, temos a função feature importances que nos auxilia ver o resultado desse dado.\n",
        "\n"
      ],
      "metadata": {
        "id": "qi1x8KsnLx8s"
      }
    },
    {
      "cell_type": "code",
      "source": [
        "print(modelo.feature_importances_)"
      ],
      "metadata": {
        "colab": {
          "base_uri": "https://localhost:8080/"
        },
        "id": "VFd5kk0oLtvw",
        "outputId": "fc8e7d16-df1c-4b09-dc40-0407597afa26"
      },
      "execution_count": 23,
      "outputs": [
        {
          "output_type": "stream",
          "name": "stdout",
          "text": [
            "[0.04197519 0.39136029 0.04218448 0.0679075  0.0420741  0.20620033\n",
            " 0.04214075 0.16615736]\n"
          ]
        }
      ]
    },
    {
      "cell_type": "code",
      "source": [
        "base_diabetes.columns"
      ],
      "metadata": {
        "colab": {
          "base_uri": "https://localhost:8080/"
        },
        "id": "T6Fk-aNkLtqW",
        "outputId": "9c8deff9-647d-4397-a5c6-b9bcb479150f"
      },
      "execution_count": 24,
      "outputs": [
        {
          "output_type": "execute_result",
          "data": {
            "text/plain": [
              "Index(['gravidez', 'glicose', 'pressao_sangue', 'espessura_pele', 'insulina',\n",
              "       'IMC', 'predisposicao_diabetes', 'idade', 'diabetes'],\n",
              "      dtype='object')"
            ]
          },
          "metadata": {},
          "execution_count": 24
        }
      ]
    },
    {
      "cell_type": "code",
      "source": [
        "pd.DataFrame(modelo.feature_importances_, columns =['importancia'],\n",
        "        index = ['gravidez', 'glicose', 'pressao_sangue', 'espessura_pele', 'insulina',\n",
        "        'IMC', 'predisposicao_diabetes', 'idade']).sort_values('importancia', ascending=False\n",
        ")"
      ],
      "metadata": {
        "id": "QUuws-S7LtiT",
        "outputId": "437431fe-4686-47ca-ceda-f67a91a13c6e",
        "colab": {
          "base_uri": "https://localhost:8080/",
          "height": 300
        }
      },
      "execution_count": 25,
      "outputs": [
        {
          "output_type": "execute_result",
          "data": {
            "text/plain": [
              "                        importancia\n",
              "glicose                    0.391360\n",
              "IMC                        0.206200\n",
              "idade                      0.166157\n",
              "espessura_pele             0.067907\n",
              "pressao_sangue             0.042184\n",
              "predisposicao_diabetes     0.042141\n",
              "insulina                   0.042074\n",
              "gravidez                   0.041975"
            ],
            "text/html": [
              "\n",
              "  <div id=\"df-5d1f4a84-22f9-475c-93bd-e5a0afa79ae5\">\n",
              "    <div class=\"colab-df-container\">\n",
              "      <div>\n",
              "<style scoped>\n",
              "    .dataframe tbody tr th:only-of-type {\n",
              "        vertical-align: middle;\n",
              "    }\n",
              "\n",
              "    .dataframe tbody tr th {\n",
              "        vertical-align: top;\n",
              "    }\n",
              "\n",
              "    .dataframe thead th {\n",
              "        text-align: right;\n",
              "    }\n",
              "</style>\n",
              "<table border=\"1\" class=\"dataframe\">\n",
              "  <thead>\n",
              "    <tr style=\"text-align: right;\">\n",
              "      <th></th>\n",
              "      <th>importancia</th>\n",
              "    </tr>\n",
              "  </thead>\n",
              "  <tbody>\n",
              "    <tr>\n",
              "      <th>glicose</th>\n",
              "      <td>0.391360</td>\n",
              "    </tr>\n",
              "    <tr>\n",
              "      <th>IMC</th>\n",
              "      <td>0.206200</td>\n",
              "    </tr>\n",
              "    <tr>\n",
              "      <th>idade</th>\n",
              "      <td>0.166157</td>\n",
              "    </tr>\n",
              "    <tr>\n",
              "      <th>espessura_pele</th>\n",
              "      <td>0.067907</td>\n",
              "    </tr>\n",
              "    <tr>\n",
              "      <th>pressao_sangue</th>\n",
              "      <td>0.042184</td>\n",
              "    </tr>\n",
              "    <tr>\n",
              "      <th>predisposicao_diabetes</th>\n",
              "      <td>0.042141</td>\n",
              "    </tr>\n",
              "    <tr>\n",
              "      <th>insulina</th>\n",
              "      <td>0.042074</td>\n",
              "    </tr>\n",
              "    <tr>\n",
              "      <th>gravidez</th>\n",
              "      <td>0.041975</td>\n",
              "    </tr>\n",
              "  </tbody>\n",
              "</table>\n",
              "</div>\n",
              "      <button class=\"colab-df-convert\" onclick=\"convertToInteractive('df-5d1f4a84-22f9-475c-93bd-e5a0afa79ae5')\"\n",
              "              title=\"Convert this dataframe to an interactive table.\"\n",
              "              style=\"display:none;\">\n",
              "        \n",
              "  <svg xmlns=\"http://www.w3.org/2000/svg\" height=\"24px\"viewBox=\"0 0 24 24\"\n",
              "       width=\"24px\">\n",
              "    <path d=\"M0 0h24v24H0V0z\" fill=\"none\"/>\n",
              "    <path d=\"M18.56 5.44l.94 2.06.94-2.06 2.06-.94-2.06-.94-.94-2.06-.94 2.06-2.06.94zm-11 1L8.5 8.5l.94-2.06 2.06-.94-2.06-.94L8.5 2.5l-.94 2.06-2.06.94zm10 10l.94 2.06.94-2.06 2.06-.94-2.06-.94-.94-2.06-.94 2.06-2.06.94z\"/><path d=\"M17.41 7.96l-1.37-1.37c-.4-.4-.92-.59-1.43-.59-.52 0-1.04.2-1.43.59L10.3 9.45l-7.72 7.72c-.78.78-.78 2.05 0 2.83L4 21.41c.39.39.9.59 1.41.59.51 0 1.02-.2 1.41-.59l7.78-7.78 2.81-2.81c.8-.78.8-2.07 0-2.86zM5.41 20L4 18.59l7.72-7.72 1.47 1.35L5.41 20z\"/>\n",
              "  </svg>\n",
              "      </button>\n",
              "      \n",
              "  <style>\n",
              "    .colab-df-container {\n",
              "      display:flex;\n",
              "      flex-wrap:wrap;\n",
              "      gap: 12px;\n",
              "    }\n",
              "\n",
              "    .colab-df-convert {\n",
              "      background-color: #E8F0FE;\n",
              "      border: none;\n",
              "      border-radius: 50%;\n",
              "      cursor: pointer;\n",
              "      display: none;\n",
              "      fill: #1967D2;\n",
              "      height: 32px;\n",
              "      padding: 0 0 0 0;\n",
              "      width: 32px;\n",
              "    }\n",
              "\n",
              "    .colab-df-convert:hover {\n",
              "      background-color: #E2EBFA;\n",
              "      box-shadow: 0px 1px 2px rgba(60, 64, 67, 0.3), 0px 1px 3px 1px rgba(60, 64, 67, 0.15);\n",
              "      fill: #174EA6;\n",
              "    }\n",
              "\n",
              "    [theme=dark] .colab-df-convert {\n",
              "      background-color: #3B4455;\n",
              "      fill: #D2E3FC;\n",
              "    }\n",
              "\n",
              "    [theme=dark] .colab-df-convert:hover {\n",
              "      background-color: #434B5C;\n",
              "      box-shadow: 0px 1px 3px 1px rgba(0, 0, 0, 0.15);\n",
              "      filter: drop-shadow(0px 1px 2px rgba(0, 0, 0, 0.3));\n",
              "      fill: #FFFFFF;\n",
              "    }\n",
              "  </style>\n",
              "\n",
              "      <script>\n",
              "        const buttonEl =\n",
              "          document.querySelector('#df-5d1f4a84-22f9-475c-93bd-e5a0afa79ae5 button.colab-df-convert');\n",
              "        buttonEl.style.display =\n",
              "          google.colab.kernel.accessAllowed ? 'block' : 'none';\n",
              "\n",
              "        async function convertToInteractive(key) {\n",
              "          const element = document.querySelector('#df-5d1f4a84-22f9-475c-93bd-e5a0afa79ae5');\n",
              "          const dataTable =\n",
              "            await google.colab.kernel.invokeFunction('convertToInteractive',\n",
              "                                                     [key], {});\n",
              "          if (!dataTable) return;\n",
              "\n",
              "          const docLinkHtml = 'Like what you see? Visit the ' +\n",
              "            '<a target=\"_blank\" href=https://colab.research.google.com/notebooks/data_table.ipynb>data table notebook</a>'\n",
              "            + ' to learn more about interactive tables.';\n",
              "          element.innerHTML = '';\n",
              "          dataTable['output_type'] = 'display_data';\n",
              "          await google.colab.output.renderOutput(dataTable, element);\n",
              "          const docLink = document.createElement('div');\n",
              "          docLink.innerHTML = docLinkHtml;\n",
              "          element.appendChild(docLink);\n",
              "        }\n",
              "      </script>\n",
              "    </div>\n",
              "  </div>\n",
              "  "
            ]
          },
          "metadata": {},
          "execution_count": 25
        }
      ]
    },
    {
      "cell_type": "code",
      "source": [
        "modelo.classes_"
      ],
      "metadata": {
        "id": "j0OxV6W5Nanx",
        "outputId": "3f04adc3-9895-4910-ea46-c761ade100d2",
        "colab": {
          "base_uri": "https://localhost:8080/"
        }
      },
      "execution_count": 26,
      "outputs": [
        {
          "output_type": "execute_result",
          "data": {
            "text/plain": [
              "array([0, 1])"
            ]
          },
          "metadata": {},
          "execution_count": 26
        }
      ]
    },
    {
      "cell_type": "code",
      "source": [
        "nomes_features = ['gravidez','glicose','pressao_sangue',\n",
        "                  'espessura_pele','insulina','IMC',\n",
        "                  'predisposicao_diabetes','idade']\n",
        "\n",
        "nomes_classes = ['NÃO DIABETICO','DIABETICO']"
      ],
      "metadata": {
        "id": "wQkp-0xNNai6"
      },
      "execution_count": 27,
      "outputs": []
    },
    {
      "cell_type": "markdown",
      "source": [
        "**Instalando biblioteca para visualização da árvore de decisão**\n",
        "\n",
        "Graphviz é um software de visualização de gráficos de código aberto. A visualização de gráficos é uma forma de representar informações estruturais como diagramas de gráficos abstratos e redes.\n",
        "\n",
        "link acesso: https://graphviz.org/"
      ],
      "metadata": {
        "id": "qyDKOqgR3BuA"
      }
    },
    {
      "cell_type": "code",
      "execution_count": 28,
      "metadata": {
        "id": "x-qnAA7XymoF"
      },
      "outputs": [],
      "source": [
        "# graphviz is installed already, but need lib too\n",
        "!pip install pygraphviz\n",
        "!apt install libgraphviz-dev"
      ]
    },
    {
      "cell_type": "code",
      "source": [
        "import graphviz\n",
        "def visualiza_arvore(modelo):   \n",
        "    arvore = tree.export_graphviz(modelo, \n",
        "                    feature_names=nomes_features,\n",
        "                    class_names=nomes_classes,\n",
        "                    rounded=True,\n",
        "                    special_characters=True, filled=True)\n",
        "    graph = graphviz.Source(arvore)  \n",
        "    return graph"
      ],
      "metadata": {
        "id": "EhCe4439Nz-N"
      },
      "execution_count": 29,
      "outputs": []
    },
    {
      "cell_type": "code",
      "source": [
        "#Visualização da arvóre completa\n",
        "visualiza_arvore(modelo)"
      ],
      "metadata": {
        "id": "2qWyLcAZN40_",
        "outputId": "8ead7d7a-43a3-4982-808e-83c058559deb",
        "colab": {
          "base_uri": "https://localhost:8080/",
          "height": 1000
        }
      },
      "execution_count": 30,
      "outputs": [
        {
          "output_type": "execute_result",
          "data": {
            "text/plain": [
              "<graphviz.files.Source at 0x7ff7a417e4d0>"
            ],
            "image/svg+xml": "<?xml version=\"1.0\" encoding=\"UTF-8\" standalone=\"no\"?>\n<!DOCTYPE svg PUBLIC \"-//W3C//DTD SVG 1.1//EN\"\n \"http://www.w3.org/Graphics/SVG/1.1/DTD/svg11.dtd\">\n<!-- Generated by graphviz version 2.40.1 (20161225.0304)\n -->\n<!-- Title: Tree Pages: 1 -->\n<svg width=\"4208pt\" height=\"1504pt\"\n viewBox=\"0.00 0.00 4207.50 1504.00\" xmlns=\"http://www.w3.org/2000/svg\" xmlns:xlink=\"http://www.w3.org/1999/xlink\">\n<g id=\"graph0\" class=\"graph\" transform=\"scale(1 1) rotate(0) translate(4 1500)\">\n<title>Tree</title>\n<polygon fill=\"#ffffff\" stroke=\"transparent\" points=\"-4,4 -4,-1500 4203.5,-1500 4203.5,4 -4,4\"/>\n<!-- 0 -->\n<g id=\"node1\" class=\"node\">\n<title>0</title>\n<path fill=\"#f9fcfe\" stroke=\"#000000\" d=\"M2271.5,-1496C2271.5,-1496 2151.5,-1496 2151.5,-1496 2145.5,-1496 2139.5,-1490 2139.5,-1484 2139.5,-1484 2139.5,-1425 2139.5,-1425 2139.5,-1419 2145.5,-1413 2151.5,-1413 2151.5,-1413 2271.5,-1413 2271.5,-1413 2277.5,-1413 2283.5,-1419 2283.5,-1425 2283.5,-1425 2283.5,-1484 2283.5,-1484 2283.5,-1490 2277.5,-1496 2271.5,-1496\"/>\n<text text-anchor=\"start\" x=\"2162.5\" y=\"-1480.8\" font-family=\"Helvetica,sans-Serif\" font-size=\"14.00\" fill=\"#000000\">glicose ≤ 127.5</text>\n<text text-anchor=\"start\" x=\"2182\" y=\"-1465.8\" font-family=\"Helvetica,sans-Serif\" font-size=\"14.00\" fill=\"#000000\">gini = 0.5</text>\n<text text-anchor=\"start\" x=\"2163.5\" y=\"-1450.8\" font-family=\"Helvetica,sans-Serif\" font-size=\"14.00\" fill=\"#000000\">samples = 364</text>\n<text text-anchor=\"start\" x=\"2153.5\" y=\"-1435.8\" font-family=\"Helvetica,sans-Serif\" font-size=\"14.00\" fill=\"#000000\">value = [179, 185]</text>\n<text text-anchor=\"start\" x=\"2147.5\" y=\"-1420.8\" font-family=\"Helvetica,sans-Serif\" font-size=\"14.00\" fill=\"#000000\">class = DIABETICO</text>\n</g>\n<!-- 1 -->\n<g id=\"node2\" class=\"node\">\n<title>1</title>\n<path fill=\"#efb286\" stroke=\"#000000\" d=\"M1623,-1377C1623,-1377 1468,-1377 1468,-1377 1462,-1377 1456,-1371 1456,-1365 1456,-1365 1456,-1306 1456,-1306 1456,-1300 1462,-1294 1468,-1294 1468,-1294 1623,-1294 1623,-1294 1629,-1294 1635,-1300 1635,-1306 1635,-1306 1635,-1365 1635,-1365 1635,-1371 1629,-1377 1623,-1377\"/>\n<text text-anchor=\"start\" x=\"1505.5\" y=\"-1361.8\" font-family=\"Helvetica,sans-Serif\" font-size=\"14.00\" fill=\"#000000\">idade ≤ 28.5</text>\n<text text-anchor=\"start\" x=\"1507.5\" y=\"-1346.8\" font-family=\"Helvetica,sans-Serif\" font-size=\"14.00\" fill=\"#000000\">gini = 0.404</text>\n<text text-anchor=\"start\" x=\"1497.5\" y=\"-1331.8\" font-family=\"Helvetica,sans-Serif\" font-size=\"14.00\" fill=\"#000000\">samples = 217</text>\n<text text-anchor=\"start\" x=\"1491.5\" y=\"-1316.8\" font-family=\"Helvetica,sans-Serif\" font-size=\"14.00\" fill=\"#000000\">value = [156, 61]</text>\n<text text-anchor=\"start\" x=\"1464\" y=\"-1301.8\" font-family=\"Helvetica,sans-Serif\" font-size=\"14.00\" fill=\"#000000\">class = NÃO DIABETICO</text>\n</g>\n<!-- 0&#45;&gt;1 -->\n<g id=\"edge1\" class=\"edge\">\n<title>0&#45;&gt;1</title>\n<path fill=\"none\" stroke=\"#000000\" d=\"M2139.2763,-1441.5952C2019.776,-1420.243 1780.6817,-1377.522 1645.1829,-1353.3112\"/>\n<polygon fill=\"#000000\" stroke=\"#000000\" points=\"1645.6681,-1349.8426 1635.2084,-1351.529 1644.4368,-1356.7334 1645.6681,-1349.8426\"/>\n<text text-anchor=\"middle\" x=\"1649.5011\" y=\"-1368.3404\" font-family=\"Helvetica,sans-Serif\" font-size=\"14.00\" fill=\"#000000\">True</text>\n</g>\n<!-- 76 -->\n<g id=\"node77\" class=\"node\">\n<title>76</title>\n<path fill=\"#5eafea\" stroke=\"#000000\" d=\"M2947.5,-1377C2947.5,-1377 2827.5,-1377 2827.5,-1377 2821.5,-1377 2815.5,-1371 2815.5,-1365 2815.5,-1365 2815.5,-1306 2815.5,-1306 2815.5,-1300 2821.5,-1294 2827.5,-1294 2827.5,-1294 2947.5,-1294 2947.5,-1294 2953.5,-1294 2959.5,-1300 2959.5,-1306 2959.5,-1306 2959.5,-1365 2959.5,-1365 2959.5,-1371 2953.5,-1377 2947.5,-1377\"/>\n<text text-anchor=\"start\" x=\"2848\" y=\"-1361.8\" font-family=\"Helvetica,sans-Serif\" font-size=\"14.00\" fill=\"#000000\">IMC ≤ 29.85</text>\n<text text-anchor=\"start\" x=\"2849.5\" y=\"-1346.8\" font-family=\"Helvetica,sans-Serif\" font-size=\"14.00\" fill=\"#000000\">gini = 0.264</text>\n<text text-anchor=\"start\" x=\"2839.5\" y=\"-1331.8\" font-family=\"Helvetica,sans-Serif\" font-size=\"14.00\" fill=\"#000000\">samples = 147</text>\n<text text-anchor=\"start\" x=\"2833.5\" y=\"-1316.8\" font-family=\"Helvetica,sans-Serif\" font-size=\"14.00\" fill=\"#000000\">value = [23, 124]</text>\n<text text-anchor=\"start\" x=\"2823.5\" y=\"-1301.8\" font-family=\"Helvetica,sans-Serif\" font-size=\"14.00\" fill=\"#000000\">class = DIABETICO</text>\n</g>\n<!-- 0&#45;&gt;76 -->\n<g id=\"edge76\" class=\"edge\">\n<title>0&#45;&gt;76</title>\n<path fill=\"none\" stroke=\"#000000\" d=\"M2283.5236,-1441.8213C2410.0983,-1419.5397 2671.6488,-1373.4975 2805.1698,-1349.993\"/>\n<polygon fill=\"#000000\" stroke=\"#000000\" points=\"2806.0982,-1353.3835 2815.34,-1348.2027 2804.8846,-1346.4895 2806.0982,-1353.3835\"/>\n<text text-anchor=\"middle\" x=\"2800.9948\" y=\"-1364.9775\" font-family=\"Helvetica,sans-Serif\" font-size=\"14.00\" fill=\"#000000\">False</text>\n</g>\n<!-- 2 -->\n<g id=\"node3\" class=\"node\">\n<title>2</title>\n<path fill=\"#e88f50\" stroke=\"#000000\" d=\"M1066,-1258C1066,-1258 911,-1258 911,-1258 905,-1258 899,-1252 899,-1246 899,-1246 899,-1187 899,-1187 899,-1181 905,-1175 911,-1175 911,-1175 1066,-1175 1066,-1175 1072,-1175 1078,-1181 1078,-1187 1078,-1187 1078,-1246 1078,-1246 1078,-1252 1072,-1258 1066,-1258\"/>\n<text text-anchor=\"start\" x=\"953.5\" y=\"-1242.8\" font-family=\"Helvetica,sans-Serif\" font-size=\"14.00\" fill=\"#000000\">IMC ≤ 42.8</text>\n<text text-anchor=\"start\" x=\"950.5\" y=\"-1227.8\" font-family=\"Helvetica,sans-Serif\" font-size=\"14.00\" fill=\"#000000\">gini = 0.184</text>\n<text text-anchor=\"start\" x=\"940.5\" y=\"-1212.8\" font-family=\"Helvetica,sans-Serif\" font-size=\"14.00\" fill=\"#000000\">samples = 107</text>\n<text text-anchor=\"start\" x=\"938.5\" y=\"-1197.8\" font-family=\"Helvetica,sans-Serif\" font-size=\"14.00\" fill=\"#000000\">value = [96, 11]</text>\n<text text-anchor=\"start\" x=\"907\" y=\"-1182.8\" font-family=\"Helvetica,sans-Serif\" font-size=\"14.00\" fill=\"#000000\">class = NÃO DIABETICO</text>\n</g>\n<!-- 1&#45;&gt;2 -->\n<g id=\"edge2\" class=\"edge\">\n<title>1&#45;&gt;2</title>\n<path fill=\"none\" stroke=\"#000000\" d=\"M1455.699,-1316.3145C1355.0923,-1294.8204 1192.4599,-1260.0749 1088.0444,-1237.7671\"/>\n<polygon fill=\"#000000\" stroke=\"#000000\" points=\"1088.636,-1234.3146 1078.1255,-1235.648 1087.1735,-1241.1601 1088.636,-1234.3146\"/>\n</g>\n<!-- 27 -->\n<g id=\"node28\" class=\"node\">\n<title>27</title>\n<path fill=\"#fbeade\" stroke=\"#000000\" d=\"M1623,-1258C1623,-1258 1468,-1258 1468,-1258 1462,-1258 1456,-1252 1456,-1246 1456,-1246 1456,-1187 1456,-1187 1456,-1181 1462,-1175 1468,-1175 1468,-1175 1623,-1175 1623,-1175 1629,-1175 1635,-1181 1635,-1187 1635,-1187 1635,-1246 1635,-1246 1635,-1252 1629,-1258 1623,-1258\"/>\n<text text-anchor=\"start\" x=\"1510.5\" y=\"-1242.8\" font-family=\"Helvetica,sans-Serif\" font-size=\"14.00\" fill=\"#000000\">IMC ≤ 26.8</text>\n<text text-anchor=\"start\" x=\"1507.5\" y=\"-1227.8\" font-family=\"Helvetica,sans-Serif\" font-size=\"14.00\" fill=\"#000000\">gini = 0.496</text>\n<text text-anchor=\"start\" x=\"1497.5\" y=\"-1212.8\" font-family=\"Helvetica,sans-Serif\" font-size=\"14.00\" fill=\"#000000\">samples = 110</text>\n<text text-anchor=\"start\" x=\"1495.5\" y=\"-1197.8\" font-family=\"Helvetica,sans-Serif\" font-size=\"14.00\" fill=\"#000000\">value = [60, 50]</text>\n<text text-anchor=\"start\" x=\"1464\" y=\"-1182.8\" font-family=\"Helvetica,sans-Serif\" font-size=\"14.00\" fill=\"#000000\">class = NÃO DIABETICO</text>\n</g>\n<!-- 1&#45;&gt;27 -->\n<g id=\"edge27\" class=\"edge\">\n<title>1&#45;&gt;27</title>\n<path fill=\"none\" stroke=\"#000000\" d=\"M1545.5,-1293.8796C1545.5,-1285.6838 1545.5,-1276.9891 1545.5,-1268.5013\"/>\n<polygon fill=\"#000000\" stroke=\"#000000\" points=\"1549.0001,-1268.298 1545.5,-1258.2981 1542.0001,-1268.2981 1549.0001,-1268.298\"/>\n</g>\n<!-- 3 -->\n<g id=\"node4\" class=\"node\">\n<title>3</title>\n<path fill=\"#e78c4a\" stroke=\"#000000\" d=\"M796,-1139C796,-1139 597,-1139 597,-1139 591,-1139 585,-1133 585,-1127 585,-1127 585,-1068 585,-1068 585,-1062 591,-1056 597,-1056 597,-1056 796,-1056 796,-1056 802,-1056 808,-1062 808,-1068 808,-1068 808,-1127 808,-1127 808,-1133 802,-1139 796,-1139\"/>\n<text text-anchor=\"start\" x=\"593\" y=\"-1123.8\" font-family=\"Helvetica,sans-Serif\" font-size=\"14.00\" fill=\"#000000\">predisposicao_diabetes ≤ 0.666</text>\n<text text-anchor=\"start\" x=\"658.5\" y=\"-1108.8\" font-family=\"Helvetica,sans-Serif\" font-size=\"14.00\" fill=\"#000000\">gini = 0.143</text>\n<text text-anchor=\"start\" x=\"648.5\" y=\"-1093.8\" font-family=\"Helvetica,sans-Serif\" font-size=\"14.00\" fill=\"#000000\">samples = 103</text>\n<text text-anchor=\"start\" x=\"651\" y=\"-1078.8\" font-family=\"Helvetica,sans-Serif\" font-size=\"14.00\" fill=\"#000000\">value = [95, 8]</text>\n<text text-anchor=\"start\" x=\"615\" y=\"-1063.8\" font-family=\"Helvetica,sans-Serif\" font-size=\"14.00\" fill=\"#000000\">class = NÃO DIABETICO</text>\n</g>\n<!-- 2&#45;&gt;3 -->\n<g id=\"edge3\" class=\"edge\">\n<title>2&#45;&gt;3</title>\n<path fill=\"none\" stroke=\"#000000\" d=\"M898.906,-1179.9874C870.1154,-1168.2542 837.8668,-1155.1118 807.719,-1142.8256\"/>\n<polygon fill=\"#000000\" stroke=\"#000000\" points=\"809.0179,-1139.5754 798.4364,-1139.0426 806.376,-1146.0578 809.0179,-1139.5754\"/>\n</g>\n<!-- 24 -->\n<g id=\"node25\" class=\"node\">\n<title>24</title>\n<path fill=\"#7bbeee\" stroke=\"#000000\" d=\"M1048.5,-1139C1048.5,-1139 928.5,-1139 928.5,-1139 922.5,-1139 916.5,-1133 916.5,-1127 916.5,-1127 916.5,-1068 916.5,-1068 916.5,-1062 922.5,-1056 928.5,-1056 928.5,-1056 1048.5,-1056 1048.5,-1056 1054.5,-1056 1060.5,-1062 1060.5,-1068 1060.5,-1068 1060.5,-1127 1060.5,-1127 1060.5,-1133 1054.5,-1139 1048.5,-1139\"/>\n<text text-anchor=\"start\" x=\"953.5\" y=\"-1123.8\" font-family=\"Helvetica,sans-Serif\" font-size=\"14.00\" fill=\"#000000\">IMC ≤ 55.1</text>\n<text text-anchor=\"start\" x=\"950.5\" y=\"-1108.8\" font-family=\"Helvetica,sans-Serif\" font-size=\"14.00\" fill=\"#000000\">gini = 0.375</text>\n<text text-anchor=\"start\" x=\"949\" y=\"-1093.8\" font-family=\"Helvetica,sans-Serif\" font-size=\"14.00\" fill=\"#000000\">samples = 4</text>\n<text text-anchor=\"start\" x=\"947\" y=\"-1078.8\" font-family=\"Helvetica,sans-Serif\" font-size=\"14.00\" fill=\"#000000\">value = [1, 3]</text>\n<text text-anchor=\"start\" x=\"924.5\" y=\"-1063.8\" font-family=\"Helvetica,sans-Serif\" font-size=\"14.00\" fill=\"#000000\">class = DIABETICO</text>\n</g>\n<!-- 2&#45;&gt;24 -->\n<g id=\"edge24\" class=\"edge\">\n<title>2&#45;&gt;24</title>\n<path fill=\"none\" stroke=\"#000000\" d=\"M988.5,-1174.8796C988.5,-1166.6838 988.5,-1157.9891 988.5,-1149.5013\"/>\n<polygon fill=\"#000000\" stroke=\"#000000\" points=\"992.0001,-1149.298 988.5,-1139.2981 985.0001,-1149.2981 992.0001,-1149.298\"/>\n</g>\n<!-- 4 -->\n<g id=\"node5\" class=\"node\">\n<title>4</title>\n<path fill=\"#e68742\" stroke=\"#000000\" d=\"M555,-1020C555,-1020 400,-1020 400,-1020 394,-1020 388,-1014 388,-1008 388,-1008 388,-949 388,-949 388,-943 394,-937 400,-937 400,-937 555,-937 555,-937 561,-937 567,-943 567,-949 567,-949 567,-1008 567,-1008 567,-1014 561,-1020 555,-1020\"/>\n<text text-anchor=\"start\" x=\"428.5\" y=\"-1004.8\" font-family=\"Helvetica,sans-Serif\" font-size=\"14.00\" fill=\"#000000\">glicose ≤ 112.5</text>\n<text text-anchor=\"start\" x=\"439.5\" y=\"-989.8\" font-family=\"Helvetica,sans-Serif\" font-size=\"14.00\" fill=\"#000000\">gini = 0.086</text>\n<text text-anchor=\"start\" x=\"433.5\" y=\"-974.8\" font-family=\"Helvetica,sans-Serif\" font-size=\"14.00\" fill=\"#000000\">samples = 89</text>\n<text text-anchor=\"start\" x=\"432\" y=\"-959.8\" font-family=\"Helvetica,sans-Serif\" font-size=\"14.00\" fill=\"#000000\">value = [85, 4]</text>\n<text text-anchor=\"start\" x=\"396\" y=\"-944.8\" font-family=\"Helvetica,sans-Serif\" font-size=\"14.00\" fill=\"#000000\">class = NÃO DIABETICO</text>\n</g>\n<!-- 3&#45;&gt;4 -->\n<g id=\"edge4\" class=\"edge\">\n<title>3&#45;&gt;4</title>\n<path fill=\"none\" stroke=\"#000000\" d=\"M619.9044,-1055.8796C601.483,-1045.8697 581.6918,-1035.1156 562.8974,-1024.9031\"/>\n<polygon fill=\"#000000\" stroke=\"#000000\" points=\"564.51,-1021.7961 554.0523,-1020.0969 561.1679,-1027.9468 564.51,-1021.7961\"/>\n</g>\n<!-- 15 -->\n<g id=\"node16\" class=\"node\">\n<title>15</title>\n<path fill=\"#efb388\" stroke=\"#000000\" d=\"M796,-1020C796,-1020 597,-1020 597,-1020 591,-1020 585,-1014 585,-1008 585,-1008 585,-949 585,-949 585,-943 591,-937 597,-937 597,-937 796,-937 796,-937 802,-937 808,-943 808,-949 808,-949 808,-1008 808,-1008 808,-1014 802,-1020 796,-1020\"/>\n<text text-anchor=\"start\" x=\"593\" y=\"-1004.8\" font-family=\"Helvetica,sans-Serif\" font-size=\"14.00\" fill=\"#000000\">predisposicao_diabetes ≤ 0.691</text>\n<text text-anchor=\"start\" x=\"658.5\" y=\"-989.8\" font-family=\"Helvetica,sans-Serif\" font-size=\"14.00\" fill=\"#000000\">gini = 0.408</text>\n<text text-anchor=\"start\" x=\"652.5\" y=\"-974.8\" font-family=\"Helvetica,sans-Serif\" font-size=\"14.00\" fill=\"#000000\">samples = 14</text>\n<text text-anchor=\"start\" x=\"651\" y=\"-959.8\" font-family=\"Helvetica,sans-Serif\" font-size=\"14.00\" fill=\"#000000\">value = [10, 4]</text>\n<text text-anchor=\"start\" x=\"615\" y=\"-944.8\" font-family=\"Helvetica,sans-Serif\" font-size=\"14.00\" fill=\"#000000\">class = NÃO DIABETICO</text>\n</g>\n<!-- 3&#45;&gt;15 -->\n<g id=\"edge15\" class=\"edge\">\n<title>3&#45;&gt;15</title>\n<path fill=\"none\" stroke=\"#000000\" d=\"M696.5,-1055.8796C696.5,-1047.6838 696.5,-1038.9891 696.5,-1030.5013\"/>\n<polygon fill=\"#000000\" stroke=\"#000000\" points=\"700.0001,-1030.298 696.5,-1020.2981 693.0001,-1030.2981 700.0001,-1030.298\"/>\n</g>\n<!-- 5 -->\n<g id=\"node6\" class=\"node\">\n<title>5</title>\n<path fill=\"#e5833c\" stroke=\"#000000\" d=\"M360,-901C360,-901 205,-901 205,-901 199,-901 193,-895 193,-889 193,-889 193,-830 193,-830 193,-824 199,-818 205,-818 205,-818 360,-818 360,-818 366,-818 372,-824 372,-830 372,-830 372,-889 372,-889 372,-895 366,-901 360,-901\"/>\n<text text-anchor=\"start\" x=\"208.5\" y=\"-885.8\" font-family=\"Helvetica,sans-Serif\" font-size=\"14.00\" fill=\"#000000\">espessura_pele ≤ 41.0</text>\n<text text-anchor=\"start\" x=\"244.5\" y=\"-870.8\" font-family=\"Helvetica,sans-Serif\" font-size=\"14.00\" fill=\"#000000\">gini = 0.028</text>\n<text text-anchor=\"start\" x=\"238.5\" y=\"-855.8\" font-family=\"Helvetica,sans-Serif\" font-size=\"14.00\" fill=\"#000000\">samples = 70</text>\n<text text-anchor=\"start\" x=\"237\" y=\"-840.8\" font-family=\"Helvetica,sans-Serif\" font-size=\"14.00\" fill=\"#000000\">value = [69, 1]</text>\n<text text-anchor=\"start\" x=\"201\" y=\"-825.8\" font-family=\"Helvetica,sans-Serif\" font-size=\"14.00\" fill=\"#000000\">class = NÃO DIABETICO</text>\n</g>\n<!-- 4&#45;&gt;5 -->\n<g id=\"edge5\" class=\"edge\">\n<title>4&#45;&gt;5</title>\n<path fill=\"none\" stroke=\"#000000\" d=\"M409.2985,-936.8796C393.1184,-927.0056 375.7517,-916.4075 359.2208,-906.3193\"/>\n<polygon fill=\"#000000\" stroke=\"#000000\" points=\"361.0223,-903.3185 350.663,-901.0969 357.3759,-909.2938 361.0223,-903.3185\"/>\n</g>\n<!-- 10 -->\n<g id=\"node11\" class=\"node\">\n<title>10</title>\n<path fill=\"#ea995e\" stroke=\"#000000\" d=\"M557,-901C557,-901 402,-901 402,-901 396,-901 390,-895 390,-889 390,-889 390,-830 390,-830 390,-824 396,-818 402,-818 402,-818 557,-818 557,-818 563,-818 569,-824 569,-830 569,-830 569,-889 569,-889 569,-895 563,-901 557,-901\"/>\n<text text-anchor=\"start\" x=\"409.5\" y=\"-885.8\" font-family=\"Helvetica,sans-Serif\" font-size=\"14.00\" fill=\"#000000\">espessura_pele ≤ 5.0</text>\n<text text-anchor=\"start\" x=\"441.5\" y=\"-870.8\" font-family=\"Helvetica,sans-Serif\" font-size=\"14.00\" fill=\"#000000\">gini = 0.266</text>\n<text text-anchor=\"start\" x=\"435.5\" y=\"-855.8\" font-family=\"Helvetica,sans-Serif\" font-size=\"14.00\" fill=\"#000000\">samples = 19</text>\n<text text-anchor=\"start\" x=\"434\" y=\"-840.8\" font-family=\"Helvetica,sans-Serif\" font-size=\"14.00\" fill=\"#000000\">value = [16, 3]</text>\n<text text-anchor=\"start\" x=\"398\" y=\"-825.8\" font-family=\"Helvetica,sans-Serif\" font-size=\"14.00\" fill=\"#000000\">class = NÃO DIABETICO</text>\n</g>\n<!-- 4&#45;&gt;10 -->\n<g id=\"edge10\" class=\"edge\">\n<title>4&#45;&gt;10</title>\n<path fill=\"none\" stroke=\"#000000\" d=\"M478.1995,-936.8796C478.3372,-928.6838 478.4834,-919.9891 478.626,-911.5013\"/>\n<polygon fill=\"#000000\" stroke=\"#000000\" points=\"482.1289,-911.3555 478.7975,-901.2981 475.1299,-911.2378 482.1289,-911.3555\"/>\n</g>\n<!-- 6 -->\n<g id=\"node7\" class=\"node\">\n<title>6</title>\n<path fill=\"#e58139\" stroke=\"#000000\" d=\"M167,-774.5C167,-774.5 12,-774.5 12,-774.5 6,-774.5 0,-768.5 0,-762.5 0,-762.5 0,-718.5 0,-718.5 0,-712.5 6,-706.5 12,-706.5 12,-706.5 167,-706.5 167,-706.5 173,-706.5 179,-712.5 179,-718.5 179,-718.5 179,-762.5 179,-762.5 179,-768.5 173,-774.5 167,-774.5\"/>\n<text text-anchor=\"start\" x=\"60\" y=\"-759.3\" font-family=\"Helvetica,sans-Serif\" font-size=\"14.00\" fill=\"#000000\">gini = 0.0</text>\n<text text-anchor=\"start\" x=\"45.5\" y=\"-744.3\" font-family=\"Helvetica,sans-Serif\" font-size=\"14.00\" fill=\"#000000\">samples = 67</text>\n<text text-anchor=\"start\" x=\"44\" y=\"-729.3\" font-family=\"Helvetica,sans-Serif\" font-size=\"14.00\" fill=\"#000000\">value = [67, 0]</text>\n<text text-anchor=\"start\" x=\"8\" y=\"-714.3\" font-family=\"Helvetica,sans-Serif\" font-size=\"14.00\" fill=\"#000000\">class = NÃO DIABETICO</text>\n</g>\n<!-- 5&#45;&gt;6 -->\n<g id=\"edge6\" class=\"edge\">\n<title>5&#45;&gt;6</title>\n<path fill=\"none\" stroke=\"#000000\" d=\"M214.998,-817.8796C195.0184,-805.5606 173.2105,-792.1143 153.4619,-779.9376\"/>\n<polygon fill=\"#000000\" stroke=\"#000000\" points=\"155.1914,-776.8922 144.8424,-774.623 151.5175,-782.8507 155.1914,-776.8922\"/>\n</g>\n<!-- 7 -->\n<g id=\"node8\" class=\"node\">\n<title>7</title>\n<path fill=\"#f2c09c\" stroke=\"#000000\" d=\"M364,-782C364,-782 209,-782 209,-782 203,-782 197,-776 197,-770 197,-770 197,-711 197,-711 197,-705 203,-699 209,-699 209,-699 364,-699 364,-699 370,-699 376,-705 376,-711 376,-711 376,-770 376,-770 376,-776 370,-782 364,-782\"/>\n<text text-anchor=\"start\" x=\"246.5\" y=\"-766.8\" font-family=\"Helvetica,sans-Serif\" font-size=\"14.00\" fill=\"#000000\">idade ≤ 25.5</text>\n<text text-anchor=\"start\" x=\"248.5\" y=\"-751.8\" font-family=\"Helvetica,sans-Serif\" font-size=\"14.00\" fill=\"#000000\">gini = 0.444</text>\n<text text-anchor=\"start\" x=\"247\" y=\"-736.8\" font-family=\"Helvetica,sans-Serif\" font-size=\"14.00\" fill=\"#000000\">samples = 3</text>\n<text text-anchor=\"start\" x=\"245\" y=\"-721.8\" font-family=\"Helvetica,sans-Serif\" font-size=\"14.00\" fill=\"#000000\">value = [2, 1]</text>\n<text text-anchor=\"start\" x=\"205\" y=\"-706.8\" font-family=\"Helvetica,sans-Serif\" font-size=\"14.00\" fill=\"#000000\">class = NÃO DIABETICO</text>\n</g>\n<!-- 5&#45;&gt;7 -->\n<g id=\"edge7\" class=\"edge\">\n<title>5&#45;&gt;7</title>\n<path fill=\"none\" stroke=\"#000000\" d=\"M283.899,-817.8796C284.1745,-809.6838 284.4668,-800.9891 284.7521,-792.5013\"/>\n<polygon fill=\"#000000\" stroke=\"#000000\" points=\"288.257,-792.41 285.095,-782.2981 281.261,-792.1748 288.257,-792.41\"/>\n</g>\n<!-- 8 -->\n<g id=\"node9\" class=\"node\">\n<title>8</title>\n<path fill=\"#e58139\" stroke=\"#000000\" d=\"M185,-655.5C185,-655.5 30,-655.5 30,-655.5 24,-655.5 18,-649.5 18,-643.5 18,-643.5 18,-599.5 18,-599.5 18,-593.5 24,-587.5 30,-587.5 30,-587.5 185,-587.5 185,-587.5 191,-587.5 197,-593.5 197,-599.5 197,-599.5 197,-643.5 197,-643.5 197,-649.5 191,-655.5 185,-655.5\"/>\n<text text-anchor=\"start\" x=\"78\" y=\"-640.3\" font-family=\"Helvetica,sans-Serif\" font-size=\"14.00\" fill=\"#000000\">gini = 0.0</text>\n<text text-anchor=\"start\" x=\"68\" y=\"-625.3\" font-family=\"Helvetica,sans-Serif\" font-size=\"14.00\" fill=\"#000000\">samples = 2</text>\n<text text-anchor=\"start\" x=\"66\" y=\"-610.3\" font-family=\"Helvetica,sans-Serif\" font-size=\"14.00\" fill=\"#000000\">value = [2, 0]</text>\n<text text-anchor=\"start\" x=\"26\" y=\"-595.3\" font-family=\"Helvetica,sans-Serif\" font-size=\"14.00\" fill=\"#000000\">class = NÃO DIABETICO</text>\n</g>\n<!-- 7&#45;&gt;8 -->\n<g id=\"edge8\" class=\"edge\">\n<title>7&#45;&gt;8</title>\n<path fill=\"none\" stroke=\"#000000\" d=\"M223.8945,-698.8796C205.6135,-686.7263 185.6822,-673.4759 167.5624,-661.4297\"/>\n<polygon fill=\"#000000\" stroke=\"#000000\" points=\"169.0933,-658.2447 158.8279,-655.623 165.2179,-664.074 169.0933,-658.2447\"/>\n</g>\n<!-- 9 -->\n<g id=\"node10\" class=\"node\">\n<title>9</title>\n<path fill=\"#399de5\" stroke=\"#000000\" d=\"M347.5,-655.5C347.5,-655.5 227.5,-655.5 227.5,-655.5 221.5,-655.5 215.5,-649.5 215.5,-643.5 215.5,-643.5 215.5,-599.5 215.5,-599.5 215.5,-593.5 221.5,-587.5 227.5,-587.5 227.5,-587.5 347.5,-587.5 347.5,-587.5 353.5,-587.5 359.5,-593.5 359.5,-599.5 359.5,-599.5 359.5,-643.5 359.5,-643.5 359.5,-649.5 353.5,-655.5 347.5,-655.5\"/>\n<text text-anchor=\"start\" x=\"258\" y=\"-640.3\" font-family=\"Helvetica,sans-Serif\" font-size=\"14.00\" fill=\"#000000\">gini = 0.0</text>\n<text text-anchor=\"start\" x=\"248\" y=\"-625.3\" font-family=\"Helvetica,sans-Serif\" font-size=\"14.00\" fill=\"#000000\">samples = 1</text>\n<text text-anchor=\"start\" x=\"246\" y=\"-610.3\" font-family=\"Helvetica,sans-Serif\" font-size=\"14.00\" fill=\"#000000\">value = [0, 1]</text>\n<text text-anchor=\"start\" x=\"223.5\" y=\"-595.3\" font-family=\"Helvetica,sans-Serif\" font-size=\"14.00\" fill=\"#000000\">class = DIABETICO</text>\n</g>\n<!-- 7&#45;&gt;9 -->\n<g id=\"edge9\" class=\"edge\">\n<title>7&#45;&gt;9</title>\n<path fill=\"none\" stroke=\"#000000\" d=\"M286.8498,-698.8796C286.9394,-688.2134 287.0361,-676.7021 287.1269,-665.9015\"/>\n<polygon fill=\"#000000\" stroke=\"#000000\" points=\"290.6274,-665.844 287.2116,-655.8149 283.6276,-665.7851 290.6274,-665.844\"/>\n</g>\n<!-- 11 -->\n<g id=\"node12\" class=\"node\">\n<title>11</title>\n<path fill=\"#7bbeee\" stroke=\"#000000\" d=\"M537.5,-782C537.5,-782 417.5,-782 417.5,-782 411.5,-782 405.5,-776 405.5,-770 405.5,-770 405.5,-711 405.5,-711 405.5,-705 411.5,-699 417.5,-699 417.5,-699 537.5,-699 537.5,-699 543.5,-699 549.5,-705 549.5,-711 549.5,-711 549.5,-770 549.5,-770 549.5,-776 543.5,-782 537.5,-782\"/>\n<text text-anchor=\"start\" x=\"442.5\" y=\"-766.8\" font-family=\"Helvetica,sans-Serif\" font-size=\"14.00\" fill=\"#000000\">IMC ≤ 28.5</text>\n<text text-anchor=\"start\" x=\"439.5\" y=\"-751.8\" font-family=\"Helvetica,sans-Serif\" font-size=\"14.00\" fill=\"#000000\">gini = 0.375</text>\n<text text-anchor=\"start\" x=\"438\" y=\"-736.8\" font-family=\"Helvetica,sans-Serif\" font-size=\"14.00\" fill=\"#000000\">samples = 4</text>\n<text text-anchor=\"start\" x=\"436\" y=\"-721.8\" font-family=\"Helvetica,sans-Serif\" font-size=\"14.00\" fill=\"#000000\">value = [1, 3]</text>\n<text text-anchor=\"start\" x=\"413.5\" y=\"-706.8\" font-family=\"Helvetica,sans-Serif\" font-size=\"14.00\" fill=\"#000000\">class = DIABETICO</text>\n</g>\n<!-- 10&#45;&gt;11 -->\n<g id=\"edge11\" class=\"edge\">\n<title>10&#45;&gt;11</title>\n<path fill=\"none\" stroke=\"#000000\" d=\"M478.8005,-817.8796C478.6628,-809.6838 478.5166,-800.9891 478.374,-792.5013\"/>\n<polygon fill=\"#000000\" stroke=\"#000000\" points=\"481.8701,-792.2378 478.2025,-782.2981 474.8711,-792.3555 481.8701,-792.2378\"/>\n</g>\n<!-- 14 -->\n<g id=\"node15\" class=\"node\">\n<title>14</title>\n<path fill=\"#e58139\" stroke=\"#000000\" d=\"M735,-774.5C735,-774.5 580,-774.5 580,-774.5 574,-774.5 568,-768.5 568,-762.5 568,-762.5 568,-718.5 568,-718.5 568,-712.5 574,-706.5 580,-706.5 580,-706.5 735,-706.5 735,-706.5 741,-706.5 747,-712.5 747,-718.5 747,-718.5 747,-762.5 747,-762.5 747,-768.5 741,-774.5 735,-774.5\"/>\n<text text-anchor=\"start\" x=\"628\" y=\"-759.3\" font-family=\"Helvetica,sans-Serif\" font-size=\"14.00\" fill=\"#000000\">gini = 0.0</text>\n<text text-anchor=\"start\" x=\"613.5\" y=\"-744.3\" font-family=\"Helvetica,sans-Serif\" font-size=\"14.00\" fill=\"#000000\">samples = 15</text>\n<text text-anchor=\"start\" x=\"612\" y=\"-729.3\" font-family=\"Helvetica,sans-Serif\" font-size=\"14.00\" fill=\"#000000\">value = [15, 0]</text>\n<text text-anchor=\"start\" x=\"576\" y=\"-714.3\" font-family=\"Helvetica,sans-Serif\" font-size=\"14.00\" fill=\"#000000\">class = NÃO DIABETICO</text>\n</g>\n<!-- 10&#45;&gt;14 -->\n<g id=\"edge14\" class=\"edge\">\n<title>10&#45;&gt;14</title>\n<path fill=\"none\" stroke=\"#000000\" d=\"M541.7558,-817.8796C559.9346,-805.7263 579.7546,-792.4759 597.7731,-780.4297\"/>\n<polygon fill=\"#000000\" stroke=\"#000000\" points=\"600.0907,-783.0905 606.4588,-774.623 596.2003,-777.2712 600.0907,-783.0905\"/>\n</g>\n<!-- 12 -->\n<g id=\"node13\" class=\"node\">\n<title>12</title>\n<path fill=\"#e58139\" stroke=\"#000000\" d=\"M552,-655.5C552,-655.5 397,-655.5 397,-655.5 391,-655.5 385,-649.5 385,-643.5 385,-643.5 385,-599.5 385,-599.5 385,-593.5 391,-587.5 397,-587.5 397,-587.5 552,-587.5 552,-587.5 558,-587.5 564,-593.5 564,-599.5 564,-599.5 564,-643.5 564,-643.5 564,-649.5 558,-655.5 552,-655.5\"/>\n<text text-anchor=\"start\" x=\"445\" y=\"-640.3\" font-family=\"Helvetica,sans-Serif\" font-size=\"14.00\" fill=\"#000000\">gini = 0.0</text>\n<text text-anchor=\"start\" x=\"435\" y=\"-625.3\" font-family=\"Helvetica,sans-Serif\" font-size=\"14.00\" fill=\"#000000\">samples = 1</text>\n<text text-anchor=\"start\" x=\"433\" y=\"-610.3\" font-family=\"Helvetica,sans-Serif\" font-size=\"14.00\" fill=\"#000000\">value = [1, 0]</text>\n<text text-anchor=\"start\" x=\"393\" y=\"-595.3\" font-family=\"Helvetica,sans-Serif\" font-size=\"14.00\" fill=\"#000000\">class = NÃO DIABETICO</text>\n</g>\n<!-- 11&#45;&gt;12 -->\n<g id=\"edge12\" class=\"edge\">\n<title>11&#45;&gt;12</title>\n<path fill=\"none\" stroke=\"#000000\" d=\"M476.4507,-698.8796C476.1818,-688.2134 475.8916,-676.7021 475.6194,-665.9015\"/>\n<polygon fill=\"#000000\" stroke=\"#000000\" points=\"479.1161,-665.7235 475.3651,-655.8149 472.1183,-665.9 479.1161,-665.7235\"/>\n</g>\n<!-- 13 -->\n<g id=\"node14\" class=\"node\">\n<title>13</title>\n<path fill=\"#399de5\" stroke=\"#000000\" d=\"M714.5,-655.5C714.5,-655.5 594.5,-655.5 594.5,-655.5 588.5,-655.5 582.5,-649.5 582.5,-643.5 582.5,-643.5 582.5,-599.5 582.5,-599.5 582.5,-593.5 588.5,-587.5 594.5,-587.5 594.5,-587.5 714.5,-587.5 714.5,-587.5 720.5,-587.5 726.5,-593.5 726.5,-599.5 726.5,-599.5 726.5,-643.5 726.5,-643.5 726.5,-649.5 720.5,-655.5 714.5,-655.5\"/>\n<text text-anchor=\"start\" x=\"625\" y=\"-640.3\" font-family=\"Helvetica,sans-Serif\" font-size=\"14.00\" fill=\"#000000\">gini = 0.0</text>\n<text text-anchor=\"start\" x=\"615\" y=\"-625.3\" font-family=\"Helvetica,sans-Serif\" font-size=\"14.00\" fill=\"#000000\">samples = 3</text>\n<text text-anchor=\"start\" x=\"613\" y=\"-610.3\" font-family=\"Helvetica,sans-Serif\" font-size=\"14.00\" fill=\"#000000\">value = [0, 3]</text>\n<text text-anchor=\"start\" x=\"590.5\" y=\"-595.3\" font-family=\"Helvetica,sans-Serif\" font-size=\"14.00\" fill=\"#000000\">class = DIABETICO</text>\n</g>\n<!-- 11&#45;&gt;13 -->\n<g id=\"edge13\" class=\"edge\">\n<title>11&#45;&gt;13</title>\n<path fill=\"none\" stroke=\"#000000\" d=\"M539.406,-698.8796C557.4828,-686.7263 577.1914,-673.4759 595.1087,-661.4297\"/>\n<polygon fill=\"#000000\" stroke=\"#000000\" points=\"597.3996,-664.1071 603.7456,-655.623 593.4939,-658.2979 597.3996,-664.1071\"/>\n</g>\n<!-- 16 -->\n<g id=\"node17\" class=\"node\">\n<title>16</title>\n<path fill=\"#399de5\" stroke=\"#000000\" d=\"M745.5,-893.5C745.5,-893.5 625.5,-893.5 625.5,-893.5 619.5,-893.5 613.5,-887.5 613.5,-881.5 613.5,-881.5 613.5,-837.5 613.5,-837.5 613.5,-831.5 619.5,-825.5 625.5,-825.5 625.5,-825.5 745.5,-825.5 745.5,-825.5 751.5,-825.5 757.5,-831.5 757.5,-837.5 757.5,-837.5 757.5,-881.5 757.5,-881.5 757.5,-887.5 751.5,-893.5 745.5,-893.5\"/>\n<text text-anchor=\"start\" x=\"656\" y=\"-878.3\" font-family=\"Helvetica,sans-Serif\" font-size=\"14.00\" fill=\"#000000\">gini = 0.0</text>\n<text text-anchor=\"start\" x=\"646\" y=\"-863.3\" font-family=\"Helvetica,sans-Serif\" font-size=\"14.00\" fill=\"#000000\">samples = 2</text>\n<text text-anchor=\"start\" x=\"644\" y=\"-848.3\" font-family=\"Helvetica,sans-Serif\" font-size=\"14.00\" fill=\"#000000\">value = [0, 2]</text>\n<text text-anchor=\"start\" x=\"621.5\" y=\"-833.3\" font-family=\"Helvetica,sans-Serif\" font-size=\"14.00\" fill=\"#000000\">class = DIABETICO</text>\n</g>\n<!-- 15&#45;&gt;16 -->\n<g id=\"edge16\" class=\"edge\">\n<title>15&#45;&gt;16</title>\n<path fill=\"none\" stroke=\"#000000\" d=\"M692.6527,-936.8796C691.6668,-926.2134 690.6027,-914.7021 689.6043,-903.9015\"/>\n<polygon fill=\"#000000\" stroke=\"#000000\" points=\"693.0776,-903.4503 688.672,-893.8149 686.1074,-904.0947 693.0776,-903.4503\"/>\n</g>\n<!-- 17 -->\n<g id=\"node18\" class=\"node\">\n<title>17</title>\n<path fill=\"#ea9a61\" stroke=\"#000000\" d=\"M943,-901C943,-901 788,-901 788,-901 782,-901 776,-895 776,-889 776,-889 776,-830 776,-830 776,-824 782,-818 788,-818 788,-818 943,-818 943,-818 949,-818 955,-824 955,-830 955,-830 955,-889 955,-889 955,-895 949,-901 943,-901\"/>\n<text text-anchor=\"start\" x=\"820\" y=\"-885.8\" font-family=\"Helvetica,sans-Serif\" font-size=\"14.00\" fill=\"#000000\">gravidez ≤ 3.5</text>\n<text text-anchor=\"start\" x=\"827.5\" y=\"-870.8\" font-family=\"Helvetica,sans-Serif\" font-size=\"14.00\" fill=\"#000000\">gini = 0.278</text>\n<text text-anchor=\"start\" x=\"821.5\" y=\"-855.8\" font-family=\"Helvetica,sans-Serif\" font-size=\"14.00\" fill=\"#000000\">samples = 12</text>\n<text text-anchor=\"start\" x=\"820\" y=\"-840.8\" font-family=\"Helvetica,sans-Serif\" font-size=\"14.00\" fill=\"#000000\">value = [10, 2]</text>\n<text text-anchor=\"start\" x=\"784\" y=\"-825.8\" font-family=\"Helvetica,sans-Serif\" font-size=\"14.00\" fill=\"#000000\">class = NÃO DIABETICO</text>\n</g>\n<!-- 15&#45;&gt;17 -->\n<g id=\"edge17\" class=\"edge\">\n<title>15&#45;&gt;17</title>\n<path fill=\"none\" stroke=\"#000000\" d=\"M755.608,-936.8796C769.3734,-927.1868 784.1299,-916.7961 798.2193,-906.8752\"/>\n<polygon fill=\"#000000\" stroke=\"#000000\" points=\"800.2641,-909.716 806.4254,-901.0969 796.2339,-903.9926 800.2641,-909.716\"/>\n</g>\n<!-- 18 -->\n<g id=\"node19\" class=\"node\">\n<title>18</title>\n<path fill=\"#e88e4d\" stroke=\"#000000\" d=\"M938,-782C938,-782 783,-782 783,-782 777,-782 771,-776 771,-770 771,-770 771,-711 771,-711 771,-705 777,-699 783,-699 783,-699 938,-699 938,-699 944,-699 950,-705 950,-711 950,-711 950,-770 950,-770 950,-776 944,-782 938,-782\"/>\n<text text-anchor=\"start\" x=\"820.5\" y=\"-766.8\" font-family=\"Helvetica,sans-Serif\" font-size=\"14.00\" fill=\"#000000\">idade ≤ 27.5</text>\n<text text-anchor=\"start\" x=\"822.5\" y=\"-751.8\" font-family=\"Helvetica,sans-Serif\" font-size=\"14.00\" fill=\"#000000\">gini = 0.165</text>\n<text text-anchor=\"start\" x=\"816.5\" y=\"-736.8\" font-family=\"Helvetica,sans-Serif\" font-size=\"14.00\" fill=\"#000000\">samples = 11</text>\n<text text-anchor=\"start\" x=\"815\" y=\"-721.8\" font-family=\"Helvetica,sans-Serif\" font-size=\"14.00\" fill=\"#000000\">value = [10, 1]</text>\n<text text-anchor=\"start\" x=\"779\" y=\"-706.8\" font-family=\"Helvetica,sans-Serif\" font-size=\"14.00\" fill=\"#000000\">class = NÃO DIABETICO</text>\n</g>\n<!-- 17&#45;&gt;18 -->\n<g id=\"edge18\" class=\"edge\">\n<title>17&#45;&gt;18</title>\n<path fill=\"none\" stroke=\"#000000\" d=\"M863.7512,-817.8796C863.4069,-809.6838 863.0416,-800.9891 862.6849,-792.5013\"/>\n<polygon fill=\"#000000\" stroke=\"#000000\" points=\"866.173,-792.1423 862.2562,-782.2981 859.1792,-792.4362 866.173,-792.1423\"/>\n</g>\n<!-- 23 -->\n<g id=\"node24\" class=\"node\">\n<title>23</title>\n<path fill=\"#399de5\" stroke=\"#000000\" d=\"M1100.5,-774.5C1100.5,-774.5 980.5,-774.5 980.5,-774.5 974.5,-774.5 968.5,-768.5 968.5,-762.5 968.5,-762.5 968.5,-718.5 968.5,-718.5 968.5,-712.5 974.5,-706.5 980.5,-706.5 980.5,-706.5 1100.5,-706.5 1100.5,-706.5 1106.5,-706.5 1112.5,-712.5 1112.5,-718.5 1112.5,-718.5 1112.5,-762.5 1112.5,-762.5 1112.5,-768.5 1106.5,-774.5 1100.5,-774.5\"/>\n<text text-anchor=\"start\" x=\"1011\" y=\"-759.3\" font-family=\"Helvetica,sans-Serif\" font-size=\"14.00\" fill=\"#000000\">gini = 0.0</text>\n<text text-anchor=\"start\" x=\"1001\" y=\"-744.3\" font-family=\"Helvetica,sans-Serif\" font-size=\"14.00\" fill=\"#000000\">samples = 1</text>\n<text text-anchor=\"start\" x=\"999\" y=\"-729.3\" font-family=\"Helvetica,sans-Serif\" font-size=\"14.00\" fill=\"#000000\">value = [0, 1]</text>\n<text text-anchor=\"start\" x=\"976.5\" y=\"-714.3\" font-family=\"Helvetica,sans-Serif\" font-size=\"14.00\" fill=\"#000000\">class = DIABETICO</text>\n</g>\n<!-- 17&#45;&gt;23 -->\n<g id=\"edge23\" class=\"edge\">\n<title>17&#45;&gt;23</title>\n<path fill=\"none\" stroke=\"#000000\" d=\"M926.7065,-817.8796C944.579,-805.7263 964.0649,-792.4759 981.7798,-780.4297\"/>\n<polygon fill=\"#000000\" stroke=\"#000000\" points=\"984.0179,-783.1404 990.3191,-774.623 980.0817,-777.3519 984.0179,-783.1404\"/>\n</g>\n<!-- 19 -->\n<g id=\"node20\" class=\"node\">\n<title>19</title>\n<path fill=\"#e58139\" stroke=\"#000000\" d=\"M916,-655.5C916,-655.5 761,-655.5 761,-655.5 755,-655.5 749,-649.5 749,-643.5 749,-643.5 749,-599.5 749,-599.5 749,-593.5 755,-587.5 761,-587.5 761,-587.5 916,-587.5 916,-587.5 922,-587.5 928,-593.5 928,-599.5 928,-599.5 928,-643.5 928,-643.5 928,-649.5 922,-655.5 916,-655.5\"/>\n<text text-anchor=\"start\" x=\"809\" y=\"-640.3\" font-family=\"Helvetica,sans-Serif\" font-size=\"14.00\" fill=\"#000000\">gini = 0.0</text>\n<text text-anchor=\"start\" x=\"799\" y=\"-625.3\" font-family=\"Helvetica,sans-Serif\" font-size=\"14.00\" fill=\"#000000\">samples = 9</text>\n<text text-anchor=\"start\" x=\"797\" y=\"-610.3\" font-family=\"Helvetica,sans-Serif\" font-size=\"14.00\" fill=\"#000000\">value = [9, 0]</text>\n<text text-anchor=\"start\" x=\"757\" y=\"-595.3\" font-family=\"Helvetica,sans-Serif\" font-size=\"14.00\" fill=\"#000000\">class = NÃO DIABETICO</text>\n</g>\n<!-- 18&#45;&gt;19 -->\n<g id=\"edge19\" class=\"edge\">\n<title>18&#45;&gt;19</title>\n<path fill=\"none\" stroke=\"#000000\" d=\"M852.8055,-698.8796C850.8336,-688.2134 848.7054,-676.7021 846.7087,-665.9015\"/>\n<polygon fill=\"#000000\" stroke=\"#000000\" points=\"850.1036,-665.012 844.8439,-655.8149 843.2203,-666.2846 850.1036,-665.012\"/>\n</g>\n<!-- 20 -->\n<g id=\"node21\" class=\"node\">\n<title>20</title>\n<path fill=\"#ffffff\" stroke=\"#000000\" d=\"M1113,-663C1113,-663 958,-663 958,-663 952,-663 946,-657 946,-651 946,-651 946,-592 946,-592 946,-586 952,-580 958,-580 958,-580 1113,-580 1113,-580 1119,-580 1125,-586 1125,-592 1125,-592 1125,-651 1125,-651 1125,-657 1119,-663 1113,-663\"/>\n<text text-anchor=\"start\" x=\"988.5\" y=\"-647.8\" font-family=\"Helvetica,sans-Serif\" font-size=\"14.00\" fill=\"#000000\">insulina ≤ 45.0</text>\n<text text-anchor=\"start\" x=\"1006\" y=\"-632.8\" font-family=\"Helvetica,sans-Serif\" font-size=\"14.00\" fill=\"#000000\">gini = 0.5</text>\n<text text-anchor=\"start\" x=\"996\" y=\"-617.8\" font-family=\"Helvetica,sans-Serif\" font-size=\"14.00\" fill=\"#000000\">samples = 2</text>\n<text text-anchor=\"start\" x=\"994\" y=\"-602.8\" font-family=\"Helvetica,sans-Serif\" font-size=\"14.00\" fill=\"#000000\">value = [1, 1]</text>\n<text text-anchor=\"start\" x=\"954\" y=\"-587.8\" font-family=\"Helvetica,sans-Serif\" font-size=\"14.00\" fill=\"#000000\">class = NÃO DIABETICO</text>\n</g>\n<!-- 18&#45;&gt;20 -->\n<g id=\"edge20\" class=\"edge\">\n<title>18&#45;&gt;20</title>\n<path fill=\"none\" stroke=\"#000000\" d=\"M921.7065,-698.8796C935.9606,-689.1868 951.241,-678.7961 965.8307,-668.8752\"/>\n<polygon fill=\"#000000\" stroke=\"#000000\" points=\"968.0269,-671.6143 974.3281,-663.0969 964.0907,-665.8258 968.0269,-671.6143\"/>\n</g>\n<!-- 21 -->\n<g id=\"node22\" class=\"node\">\n<title>21</title>\n<path fill=\"#e58139\" stroke=\"#000000\" d=\"M933,-536.5C933,-536.5 778,-536.5 778,-536.5 772,-536.5 766,-530.5 766,-524.5 766,-524.5 766,-480.5 766,-480.5 766,-474.5 772,-468.5 778,-468.5 778,-468.5 933,-468.5 933,-468.5 939,-468.5 945,-474.5 945,-480.5 945,-480.5 945,-524.5 945,-524.5 945,-530.5 939,-536.5 933,-536.5\"/>\n<text text-anchor=\"start\" x=\"826\" y=\"-521.3\" font-family=\"Helvetica,sans-Serif\" font-size=\"14.00\" fill=\"#000000\">gini = 0.0</text>\n<text text-anchor=\"start\" x=\"816\" y=\"-506.3\" font-family=\"Helvetica,sans-Serif\" font-size=\"14.00\" fill=\"#000000\">samples = 1</text>\n<text text-anchor=\"start\" x=\"814\" y=\"-491.3\" font-family=\"Helvetica,sans-Serif\" font-size=\"14.00\" fill=\"#000000\">value = [1, 0]</text>\n<text text-anchor=\"start\" x=\"774\" y=\"-476.3\" font-family=\"Helvetica,sans-Serif\" font-size=\"14.00\" fill=\"#000000\">class = NÃO DIABETICO</text>\n</g>\n<!-- 20&#45;&gt;21 -->\n<g id=\"edge21\" class=\"edge\">\n<title>20&#45;&gt;21</title>\n<path fill=\"none\" stroke=\"#000000\" d=\"M972.5447,-579.8796C954.1616,-567.7263 934.1189,-554.4759 915.8979,-542.4297\"/>\n<polygon fill=\"#000000\" stroke=\"#000000\" points=\"917.3867,-539.2183 907.1147,-536.623 913.5263,-545.0576 917.3867,-539.2183\"/>\n</g>\n<!-- 22 -->\n<g id=\"node23\" class=\"node\">\n<title>22</title>\n<path fill=\"#399de5\" stroke=\"#000000\" d=\"M1095.5,-536.5C1095.5,-536.5 975.5,-536.5 975.5,-536.5 969.5,-536.5 963.5,-530.5 963.5,-524.5 963.5,-524.5 963.5,-480.5 963.5,-480.5 963.5,-474.5 969.5,-468.5 975.5,-468.5 975.5,-468.5 1095.5,-468.5 1095.5,-468.5 1101.5,-468.5 1107.5,-474.5 1107.5,-480.5 1107.5,-480.5 1107.5,-524.5 1107.5,-524.5 1107.5,-530.5 1101.5,-536.5 1095.5,-536.5\"/>\n<text text-anchor=\"start\" x=\"1006\" y=\"-521.3\" font-family=\"Helvetica,sans-Serif\" font-size=\"14.00\" fill=\"#000000\">gini = 0.0</text>\n<text text-anchor=\"start\" x=\"996\" y=\"-506.3\" font-family=\"Helvetica,sans-Serif\" font-size=\"14.00\" fill=\"#000000\">samples = 1</text>\n<text text-anchor=\"start\" x=\"994\" y=\"-491.3\" font-family=\"Helvetica,sans-Serif\" font-size=\"14.00\" fill=\"#000000\">value = [0, 1]</text>\n<text text-anchor=\"start\" x=\"971.5\" y=\"-476.3\" font-family=\"Helvetica,sans-Serif\" font-size=\"14.00\" fill=\"#000000\">class = DIABETICO</text>\n</g>\n<!-- 20&#45;&gt;22 -->\n<g id=\"edge22\" class=\"edge\">\n<title>20&#45;&gt;22</title>\n<path fill=\"none\" stroke=\"#000000\" d=\"M1035.5,-579.8796C1035.5,-569.2134 1035.5,-557.7021 1035.5,-546.9015\"/>\n<polygon fill=\"#000000\" stroke=\"#000000\" points=\"1039.0001,-546.8149 1035.5,-536.8149 1032.0001,-546.815 1039.0001,-546.8149\"/>\n</g>\n<!-- 25 -->\n<g id=\"node26\" class=\"node\">\n<title>25</title>\n<path fill=\"#399de5\" stroke=\"#000000\" d=\"M958.5,-1012.5C958.5,-1012.5 838.5,-1012.5 838.5,-1012.5 832.5,-1012.5 826.5,-1006.5 826.5,-1000.5 826.5,-1000.5 826.5,-956.5 826.5,-956.5 826.5,-950.5 832.5,-944.5 838.5,-944.5 838.5,-944.5 958.5,-944.5 958.5,-944.5 964.5,-944.5 970.5,-950.5 970.5,-956.5 970.5,-956.5 970.5,-1000.5 970.5,-1000.5 970.5,-1006.5 964.5,-1012.5 958.5,-1012.5\"/>\n<text text-anchor=\"start\" x=\"869\" y=\"-997.3\" font-family=\"Helvetica,sans-Serif\" font-size=\"14.00\" fill=\"#000000\">gini = 0.0</text>\n<text text-anchor=\"start\" x=\"859\" y=\"-982.3\" font-family=\"Helvetica,sans-Serif\" font-size=\"14.00\" fill=\"#000000\">samples = 3</text>\n<text text-anchor=\"start\" x=\"857\" y=\"-967.3\" font-family=\"Helvetica,sans-Serif\" font-size=\"14.00\" fill=\"#000000\">value = [0, 3]</text>\n<text text-anchor=\"start\" x=\"834.5\" y=\"-952.3\" font-family=\"Helvetica,sans-Serif\" font-size=\"14.00\" fill=\"#000000\">class = DIABETICO</text>\n</g>\n<!-- 24&#45;&gt;25 -->\n<g id=\"edge25\" class=\"edge\">\n<title>24&#45;&gt;25</title>\n<path fill=\"none\" stroke=\"#000000\" d=\"M957.0224,-1055.8796C948.4565,-1044.5536 939.17,-1032.2748 930.5717,-1020.9058\"/>\n<polygon fill=\"#000000\" stroke=\"#000000\" points=\"933.2762,-1018.6795 924.4525,-1012.8149 927.6931,-1022.902 933.2762,-1018.6795\"/>\n</g>\n<!-- 26 -->\n<g id=\"node27\" class=\"node\">\n<title>26</title>\n<path fill=\"#e58139\" stroke=\"#000000\" d=\"M1156,-1012.5C1156,-1012.5 1001,-1012.5 1001,-1012.5 995,-1012.5 989,-1006.5 989,-1000.5 989,-1000.5 989,-956.5 989,-956.5 989,-950.5 995,-944.5 1001,-944.5 1001,-944.5 1156,-944.5 1156,-944.5 1162,-944.5 1168,-950.5 1168,-956.5 1168,-956.5 1168,-1000.5 1168,-1000.5 1168,-1006.5 1162,-1012.5 1156,-1012.5\"/>\n<text text-anchor=\"start\" x=\"1049\" y=\"-997.3\" font-family=\"Helvetica,sans-Serif\" font-size=\"14.00\" fill=\"#000000\">gini = 0.0</text>\n<text text-anchor=\"start\" x=\"1039\" y=\"-982.3\" font-family=\"Helvetica,sans-Serif\" font-size=\"14.00\" fill=\"#000000\">samples = 1</text>\n<text text-anchor=\"start\" x=\"1037\" y=\"-967.3\" font-family=\"Helvetica,sans-Serif\" font-size=\"14.00\" fill=\"#000000\">value = [1, 0]</text>\n<text text-anchor=\"start\" x=\"997\" y=\"-952.3\" font-family=\"Helvetica,sans-Serif\" font-size=\"14.00\" fill=\"#000000\">class = NÃO DIABETICO</text>\n</g>\n<!-- 24&#45;&gt;26 -->\n<g id=\"edge26\" class=\"edge\">\n<title>24&#45;&gt;26</title>\n<path fill=\"none\" stroke=\"#000000\" d=\"M1019.9776,-1055.8796C1028.5435,-1044.5536 1037.83,-1032.2748 1046.4283,-1020.9058\"/>\n<polygon fill=\"#000000\" stroke=\"#000000\" points=\"1049.3069,-1022.902 1052.5475,-1012.8149 1043.7238,-1018.6795 1049.3069,-1022.902\"/>\n</g>\n<!-- 28 -->\n<g id=\"node29\" class=\"node\">\n<title>28</title>\n<path fill=\"#e68843\" stroke=\"#000000\" d=\"M1516,-1139C1516,-1139 1361,-1139 1361,-1139 1355,-1139 1349,-1133 1349,-1127 1349,-1127 1349,-1068 1349,-1068 1349,-1062 1355,-1056 1361,-1056 1361,-1056 1516,-1056 1516,-1056 1522,-1056 1528,-1062 1528,-1068 1528,-1068 1528,-1127 1528,-1127 1528,-1133 1522,-1139 1516,-1139\"/>\n<text text-anchor=\"start\" x=\"1403.5\" y=\"-1123.8\" font-family=\"Helvetica,sans-Serif\" font-size=\"14.00\" fill=\"#000000\">IMC ≤ 9.65</text>\n<text text-anchor=\"start\" x=\"1400.5\" y=\"-1108.8\" font-family=\"Helvetica,sans-Serif\" font-size=\"14.00\" fill=\"#000000\">gini = 0.095</text>\n<text text-anchor=\"start\" x=\"1394.5\" y=\"-1093.8\" font-family=\"Helvetica,sans-Serif\" font-size=\"14.00\" fill=\"#000000\">samples = 20</text>\n<text text-anchor=\"start\" x=\"1393\" y=\"-1078.8\" font-family=\"Helvetica,sans-Serif\" font-size=\"14.00\" fill=\"#000000\">value = [19, 1]</text>\n<text text-anchor=\"start\" x=\"1357\" y=\"-1063.8\" font-family=\"Helvetica,sans-Serif\" font-size=\"14.00\" fill=\"#000000\">class = NÃO DIABETICO</text>\n</g>\n<!-- 27&#45;&gt;28 -->\n<g id=\"edge28\" class=\"edge\">\n<title>27&#45;&gt;28</title>\n<path fill=\"none\" stroke=\"#000000\" d=\"M1508.0766,-1174.8796C1499.9785,-1165.8733 1491.3386,-1156.2644 1482.9991,-1146.9897\"/>\n<polygon fill=\"#000000\" stroke=\"#000000\" points=\"1485.372,-1144.394 1476.0831,-1139.2981 1480.1667,-1149.0743 1485.372,-1144.394\"/>\n</g>\n<!-- 31 -->\n<g id=\"node32\" class=\"node\">\n<title>31</title>\n<path fill=\"#dfeffb\" stroke=\"#000000\" d=\"M1713.5,-1139C1713.5,-1139 1593.5,-1139 1593.5,-1139 1587.5,-1139 1581.5,-1133 1581.5,-1127 1581.5,-1127 1581.5,-1068 1581.5,-1068 1581.5,-1062 1587.5,-1056 1593.5,-1056 1593.5,-1056 1713.5,-1056 1713.5,-1056 1719.5,-1056 1725.5,-1062 1725.5,-1068 1725.5,-1068 1725.5,-1127 1725.5,-1127 1725.5,-1133 1719.5,-1139 1713.5,-1139\"/>\n<text text-anchor=\"start\" x=\"1608.5\" y=\"-1123.8\" font-family=\"Helvetica,sans-Serif\" font-size=\"14.00\" fill=\"#000000\">glicose ≤ 91.0</text>\n<text text-anchor=\"start\" x=\"1615.5\" y=\"-1108.8\" font-family=\"Helvetica,sans-Serif\" font-size=\"14.00\" fill=\"#000000\">gini = 0.496</text>\n<text text-anchor=\"start\" x=\"1609.5\" y=\"-1093.8\" font-family=\"Helvetica,sans-Serif\" font-size=\"14.00\" fill=\"#000000\">samples = 90</text>\n<text text-anchor=\"start\" x=\"1603.5\" y=\"-1078.8\" font-family=\"Helvetica,sans-Serif\" font-size=\"14.00\" fill=\"#000000\">value = [41, 49]</text>\n<text text-anchor=\"start\" x=\"1589.5\" y=\"-1063.8\" font-family=\"Helvetica,sans-Serif\" font-size=\"14.00\" fill=\"#000000\">class = DIABETICO</text>\n</g>\n<!-- 27&#45;&gt;31 -->\n<g id=\"edge31\" class=\"edge\">\n<title>27&#45;&gt;31</title>\n<path fill=\"none\" stroke=\"#000000\" d=\"M1583.2732,-1174.8796C1591.5287,-1165.7832 1600.342,-1156.0722 1608.8374,-1146.7116\"/>\n<polygon fill=\"#000000\" stroke=\"#000000\" points=\"1611.4368,-1149.0553 1615.5656,-1139.2981 1606.2533,-1144.3509 1611.4368,-1149.0553\"/>\n</g>\n<!-- 29 -->\n<g id=\"node30\" class=\"node\">\n<title>29</title>\n<path fill=\"#399de5\" stroke=\"#000000\" d=\"M1318.5,-1012.5C1318.5,-1012.5 1198.5,-1012.5 1198.5,-1012.5 1192.5,-1012.5 1186.5,-1006.5 1186.5,-1000.5 1186.5,-1000.5 1186.5,-956.5 1186.5,-956.5 1186.5,-950.5 1192.5,-944.5 1198.5,-944.5 1198.5,-944.5 1318.5,-944.5 1318.5,-944.5 1324.5,-944.5 1330.5,-950.5 1330.5,-956.5 1330.5,-956.5 1330.5,-1000.5 1330.5,-1000.5 1330.5,-1006.5 1324.5,-1012.5 1318.5,-1012.5\"/>\n<text text-anchor=\"start\" x=\"1229\" y=\"-997.3\" font-family=\"Helvetica,sans-Serif\" font-size=\"14.00\" fill=\"#000000\">gini = 0.0</text>\n<text text-anchor=\"start\" x=\"1219\" y=\"-982.3\" font-family=\"Helvetica,sans-Serif\" font-size=\"14.00\" fill=\"#000000\">samples = 1</text>\n<text text-anchor=\"start\" x=\"1217\" y=\"-967.3\" font-family=\"Helvetica,sans-Serif\" font-size=\"14.00\" fill=\"#000000\">value = [0, 1]</text>\n<text text-anchor=\"start\" x=\"1194.5\" y=\"-952.3\" font-family=\"Helvetica,sans-Serif\" font-size=\"14.00\" fill=\"#000000\">class = DIABETICO</text>\n</g>\n<!-- 28&#45;&gt;29 -->\n<g id=\"edge29\" class=\"edge\">\n<title>28&#45;&gt;29</title>\n<path fill=\"none\" stroke=\"#000000\" d=\"M1375.5447,-1055.8796C1357.1616,-1043.7263 1337.1189,-1030.4759 1318.8979,-1018.4297\"/>\n<polygon fill=\"#000000\" stroke=\"#000000\" points=\"1320.3867,-1015.2183 1310.1147,-1012.623 1316.5263,-1021.0576 1320.3867,-1015.2183\"/>\n</g>\n<!-- 30 -->\n<g id=\"node31\" class=\"node\">\n<title>30</title>\n<path fill=\"#e58139\" stroke=\"#000000\" d=\"M1516,-1012.5C1516,-1012.5 1361,-1012.5 1361,-1012.5 1355,-1012.5 1349,-1006.5 1349,-1000.5 1349,-1000.5 1349,-956.5 1349,-956.5 1349,-950.5 1355,-944.5 1361,-944.5 1361,-944.5 1516,-944.5 1516,-944.5 1522,-944.5 1528,-950.5 1528,-956.5 1528,-956.5 1528,-1000.5 1528,-1000.5 1528,-1006.5 1522,-1012.5 1516,-1012.5\"/>\n<text text-anchor=\"start\" x=\"1409\" y=\"-997.3\" font-family=\"Helvetica,sans-Serif\" font-size=\"14.00\" fill=\"#000000\">gini = 0.0</text>\n<text text-anchor=\"start\" x=\"1394.5\" y=\"-982.3\" font-family=\"Helvetica,sans-Serif\" font-size=\"14.00\" fill=\"#000000\">samples = 19</text>\n<text text-anchor=\"start\" x=\"1393\" y=\"-967.3\" font-family=\"Helvetica,sans-Serif\" font-size=\"14.00\" fill=\"#000000\">value = [19, 0]</text>\n<text text-anchor=\"start\" x=\"1357\" y=\"-952.3\" font-family=\"Helvetica,sans-Serif\" font-size=\"14.00\" fill=\"#000000\">class = NÃO DIABETICO</text>\n</g>\n<!-- 28&#45;&gt;30 -->\n<g id=\"edge30\" class=\"edge\">\n<title>28&#45;&gt;30</title>\n<path fill=\"none\" stroke=\"#000000\" d=\"M1438.5,-1055.8796C1438.5,-1045.2134 1438.5,-1033.7021 1438.5,-1022.9015\"/>\n<polygon fill=\"#000000\" stroke=\"#000000\" points=\"1442.0001,-1022.8149 1438.5,-1012.8149 1435.0001,-1022.815 1442.0001,-1022.8149\"/>\n</g>\n<!-- 32 -->\n<g id=\"node33\" class=\"node\">\n<title>32</title>\n<path fill=\"#e78b48\" stroke=\"#000000\" d=\"M1749,-1020C1749,-1020 1558,-1020 1558,-1020 1552,-1020 1546,-1014 1546,-1008 1546,-1008 1546,-949 1546,-949 1546,-943 1552,-937 1558,-937 1558,-937 1749,-937 1749,-937 1755,-937 1761,-943 1761,-949 1761,-949 1761,-1008 1761,-1008 1761,-1014 1755,-1020 1749,-1020\"/>\n<text text-anchor=\"start\" x=\"1554\" y=\"-1004.8\" font-family=\"Helvetica,sans-Serif\" font-size=\"14.00\" fill=\"#000000\">predisposicao_diabetes ≤ 1.16</text>\n<text text-anchor=\"start\" x=\"1615.5\" y=\"-989.8\" font-family=\"Helvetica,sans-Serif\" font-size=\"14.00\" fill=\"#000000\">gini = 0.133</text>\n<text text-anchor=\"start\" x=\"1609.5\" y=\"-974.8\" font-family=\"Helvetica,sans-Serif\" font-size=\"14.00\" fill=\"#000000\">samples = 14</text>\n<text text-anchor=\"start\" x=\"1608\" y=\"-959.8\" font-family=\"Helvetica,sans-Serif\" font-size=\"14.00\" fill=\"#000000\">value = [13, 1]</text>\n<text text-anchor=\"start\" x=\"1572\" y=\"-944.8\" font-family=\"Helvetica,sans-Serif\" font-size=\"14.00\" fill=\"#000000\">class = NÃO DIABETICO</text>\n</g>\n<!-- 31&#45;&gt;32 -->\n<g id=\"edge32\" class=\"edge\">\n<title>31&#45;&gt;32</title>\n<path fill=\"none\" stroke=\"#000000\" d=\"M1653.5,-1055.8796C1653.5,-1047.6838 1653.5,-1038.9891 1653.5,-1030.5013\"/>\n<polygon fill=\"#000000\" stroke=\"#000000\" points=\"1657.0001,-1030.298 1653.5,-1020.2981 1650.0001,-1030.2981 1657.0001,-1030.298\"/>\n</g>\n<!-- 35 -->\n<g id=\"node36\" class=\"node\">\n<title>35</title>\n<path fill=\"#acd6f4\" stroke=\"#000000\" d=\"M1911.5,-1020C1911.5,-1020 1791.5,-1020 1791.5,-1020 1785.5,-1020 1779.5,-1014 1779.5,-1008 1779.5,-1008 1779.5,-949 1779.5,-949 1779.5,-943 1785.5,-937 1791.5,-937 1791.5,-937 1911.5,-937 1911.5,-937 1917.5,-937 1923.5,-943 1923.5,-949 1923.5,-949 1923.5,-1008 1923.5,-1008 1923.5,-1014 1917.5,-1020 1911.5,-1020\"/>\n<text text-anchor=\"start\" x=\"1811.5\" y=\"-1004.8\" font-family=\"Helvetica,sans-Serif\" font-size=\"14.00\" fill=\"#000000\">idade ≤ 34.5</text>\n<text text-anchor=\"start\" x=\"1813.5\" y=\"-989.8\" font-family=\"Helvetica,sans-Serif\" font-size=\"14.00\" fill=\"#000000\">gini = 0.465</text>\n<text text-anchor=\"start\" x=\"1807.5\" y=\"-974.8\" font-family=\"Helvetica,sans-Serif\" font-size=\"14.00\" fill=\"#000000\">samples = 76</text>\n<text text-anchor=\"start\" x=\"1801.5\" y=\"-959.8\" font-family=\"Helvetica,sans-Serif\" font-size=\"14.00\" fill=\"#000000\">value = [28, 48]</text>\n<text text-anchor=\"start\" x=\"1787.5\" y=\"-944.8\" font-family=\"Helvetica,sans-Serif\" font-size=\"14.00\" fill=\"#000000\">class = DIABETICO</text>\n</g>\n<!-- 31&#45;&gt;35 -->\n<g id=\"edge35\" class=\"edge\">\n<title>31&#45;&gt;35</title>\n<path fill=\"none\" stroke=\"#000000\" d=\"M1722.7508,-1055.8796C1739.1797,-1046.0056 1756.8136,-1035.4075 1773.5989,-1025.3193\"/>\n<polygon fill=\"#000000\" stroke=\"#000000\" points=\"1775.5202,-1028.2482 1782.2883,-1020.0969 1771.9142,-1022.2484 1775.5202,-1028.2482\"/>\n</g>\n<!-- 33 -->\n<g id=\"node34\" class=\"node\">\n<title>33</title>\n<path fill=\"#e58139\" stroke=\"#000000\" d=\"M1551,-893.5C1551,-893.5 1396,-893.5 1396,-893.5 1390,-893.5 1384,-887.5 1384,-881.5 1384,-881.5 1384,-837.5 1384,-837.5 1384,-831.5 1390,-825.5 1396,-825.5 1396,-825.5 1551,-825.5 1551,-825.5 1557,-825.5 1563,-831.5 1563,-837.5 1563,-837.5 1563,-881.5 1563,-881.5 1563,-887.5 1557,-893.5 1551,-893.5\"/>\n<text text-anchor=\"start\" x=\"1444\" y=\"-878.3\" font-family=\"Helvetica,sans-Serif\" font-size=\"14.00\" fill=\"#000000\">gini = 0.0</text>\n<text text-anchor=\"start\" x=\"1429.5\" y=\"-863.3\" font-family=\"Helvetica,sans-Serif\" font-size=\"14.00\" fill=\"#000000\">samples = 13</text>\n<text text-anchor=\"start\" x=\"1428\" y=\"-848.3\" font-family=\"Helvetica,sans-Serif\" font-size=\"14.00\" fill=\"#000000\">value = [13, 0]</text>\n<text text-anchor=\"start\" x=\"1392\" y=\"-833.3\" font-family=\"Helvetica,sans-Serif\" font-size=\"14.00\" fill=\"#000000\">class = NÃO DIABETICO</text>\n</g>\n<!-- 32&#45;&gt;33 -->\n<g id=\"edge33\" class=\"edge\">\n<title>32&#45;&gt;33</title>\n<path fill=\"none\" stroke=\"#000000\" d=\"M1590.5447,-936.8796C1572.1616,-924.7263 1552.1189,-911.4759 1533.8979,-899.4297\"/>\n<polygon fill=\"#000000\" stroke=\"#000000\" points=\"1535.3867,-896.2183 1525.1147,-893.623 1531.5263,-902.0576 1535.3867,-896.2183\"/>\n</g>\n<!-- 34 -->\n<g id=\"node35\" class=\"node\">\n<title>34</title>\n<path fill=\"#399de5\" stroke=\"#000000\" d=\"M1713.5,-893.5C1713.5,-893.5 1593.5,-893.5 1593.5,-893.5 1587.5,-893.5 1581.5,-887.5 1581.5,-881.5 1581.5,-881.5 1581.5,-837.5 1581.5,-837.5 1581.5,-831.5 1587.5,-825.5 1593.5,-825.5 1593.5,-825.5 1713.5,-825.5 1713.5,-825.5 1719.5,-825.5 1725.5,-831.5 1725.5,-837.5 1725.5,-837.5 1725.5,-881.5 1725.5,-881.5 1725.5,-887.5 1719.5,-893.5 1713.5,-893.5\"/>\n<text text-anchor=\"start\" x=\"1624\" y=\"-878.3\" font-family=\"Helvetica,sans-Serif\" font-size=\"14.00\" fill=\"#000000\">gini = 0.0</text>\n<text text-anchor=\"start\" x=\"1614\" y=\"-863.3\" font-family=\"Helvetica,sans-Serif\" font-size=\"14.00\" fill=\"#000000\">samples = 1</text>\n<text text-anchor=\"start\" x=\"1612\" y=\"-848.3\" font-family=\"Helvetica,sans-Serif\" font-size=\"14.00\" fill=\"#000000\">value = [0, 1]</text>\n<text text-anchor=\"start\" x=\"1589.5\" y=\"-833.3\" font-family=\"Helvetica,sans-Serif\" font-size=\"14.00\" fill=\"#000000\">class = DIABETICO</text>\n</g>\n<!-- 32&#45;&gt;34 -->\n<g id=\"edge34\" class=\"edge\">\n<title>32&#45;&gt;34</title>\n<path fill=\"none\" stroke=\"#000000\" d=\"M1653.5,-936.8796C1653.5,-926.2134 1653.5,-914.7021 1653.5,-903.9015\"/>\n<polygon fill=\"#000000\" stroke=\"#000000\" points=\"1657.0001,-903.8149 1653.5,-893.8149 1650.0001,-903.815 1657.0001,-903.8149\"/>\n</g>\n<!-- 36 -->\n<g id=\"node37\" class=\"node\">\n<title>36</title>\n<path fill=\"#ffffff\" stroke=\"#000000\" d=\"M1911,-901C1911,-901 1756,-901 1756,-901 1750,-901 1744,-895 1744,-889 1744,-889 1744,-830 1744,-830 1744,-824 1750,-818 1756,-818 1756,-818 1911,-818 1911,-818 1917,-818 1923,-824 1923,-830 1923,-830 1923,-889 1923,-889 1923,-895 1917,-901 1911,-901\"/>\n<text text-anchor=\"start\" x=\"1788\" y=\"-885.8\" font-family=\"Helvetica,sans-Serif\" font-size=\"14.00\" fill=\"#000000\">gravidez ≤ 6.5</text>\n<text text-anchor=\"start\" x=\"1804\" y=\"-870.8\" font-family=\"Helvetica,sans-Serif\" font-size=\"14.00\" fill=\"#000000\">gini = 0.5</text>\n<text text-anchor=\"start\" x=\"1789.5\" y=\"-855.8\" font-family=\"Helvetica,sans-Serif\" font-size=\"14.00\" fill=\"#000000\">samples = 34</text>\n<text text-anchor=\"start\" x=\"1783.5\" y=\"-840.8\" font-family=\"Helvetica,sans-Serif\" font-size=\"14.00\" fill=\"#000000\">value = [17, 17]</text>\n<text text-anchor=\"start\" x=\"1752\" y=\"-825.8\" font-family=\"Helvetica,sans-Serif\" font-size=\"14.00\" fill=\"#000000\">class = NÃO DIABETICO</text>\n</g>\n<!-- 35&#45;&gt;36 -->\n<g id=\"edge36\" class=\"edge\">\n<title>35&#45;&gt;36</title>\n<path fill=\"none\" stroke=\"#000000\" d=\"M1845.2045,-936.8796C1843.9512,-928.5938 1842.6207,-919.798 1841.3234,-911.2216\"/>\n<polygon fill=\"#000000\" stroke=\"#000000\" points=\"1844.7787,-910.6621 1839.8224,-901.2981 1837.8574,-911.7091 1844.7787,-910.6621\"/>\n</g>\n<!-- 53 -->\n<g id=\"node54\" class=\"node\">\n<title>53</title>\n<path fill=\"#7fc0ee\" stroke=\"#000000\" d=\"M2099.5,-901C2099.5,-901 1953.5,-901 1953.5,-901 1947.5,-901 1941.5,-895 1941.5,-889 1941.5,-889 1941.5,-830 1941.5,-830 1941.5,-824 1947.5,-818 1953.5,-818 1953.5,-818 2099.5,-818 2099.5,-818 2105.5,-818 2111.5,-824 2111.5,-830 2111.5,-830 2111.5,-889 2111.5,-889 2111.5,-895 2105.5,-901 2099.5,-901\"/>\n<text text-anchor=\"start\" x=\"1949.5\" y=\"-885.8\" font-family=\"Helvetica,sans-Serif\" font-size=\"14.00\" fill=\"#000000\">pressao_sangue ≤ 59.0</text>\n<text text-anchor=\"start\" x=\"1988.5\" y=\"-870.8\" font-family=\"Helvetica,sans-Serif\" font-size=\"14.00\" fill=\"#000000\">gini = 0.387</text>\n<text text-anchor=\"start\" x=\"1982.5\" y=\"-855.8\" font-family=\"Helvetica,sans-Serif\" font-size=\"14.00\" fill=\"#000000\">samples = 42</text>\n<text text-anchor=\"start\" x=\"1976.5\" y=\"-840.8\" font-family=\"Helvetica,sans-Serif\" font-size=\"14.00\" fill=\"#000000\">value = [11, 31]</text>\n<text text-anchor=\"start\" x=\"1962.5\" y=\"-825.8\" font-family=\"Helvetica,sans-Serif\" font-size=\"14.00\" fill=\"#000000\">class = DIABETICO</text>\n</g>\n<!-- 35&#45;&gt;53 -->\n<g id=\"edge53\" class=\"edge\">\n<title>35&#45;&gt;53</title>\n<path fill=\"none\" stroke=\"#000000\" d=\"M1912.7065,-936.8796C1926.9606,-927.1868 1942.241,-916.7961 1956.8307,-906.8752\"/>\n<polygon fill=\"#000000\" stroke=\"#000000\" points=\"1959.0269,-909.6143 1965.3281,-901.0969 1955.0907,-903.8258 1959.0269,-909.6143\"/>\n</g>\n<!-- 37 -->\n<g id=\"node38\" class=\"node\">\n<title>37</title>\n<path fill=\"#f5d0b5\" stroke=\"#000000\" d=\"M1696,-782C1696,-782 1541,-782 1541,-782 1535,-782 1529,-776 1529,-770 1529,-770 1529,-711 1529,-711 1529,-705 1535,-699 1541,-699 1541,-699 1696,-699 1696,-699 1702,-699 1708,-705 1708,-711 1708,-711 1708,-770 1708,-770 1708,-776 1702,-782 1696,-782\"/>\n<text text-anchor=\"start\" x=\"1567.5\" y=\"-766.8\" font-family=\"Helvetica,sans-Serif\" font-size=\"14.00\" fill=\"#000000\">insulina ≤ 148.0</text>\n<text text-anchor=\"start\" x=\"1580.5\" y=\"-751.8\" font-family=\"Helvetica,sans-Serif\" font-size=\"14.00\" fill=\"#000000\">gini = 0.473</text>\n<text text-anchor=\"start\" x=\"1574.5\" y=\"-736.8\" font-family=\"Helvetica,sans-Serif\" font-size=\"14.00\" fill=\"#000000\">samples = 26</text>\n<text text-anchor=\"start\" x=\"1568.5\" y=\"-721.8\" font-family=\"Helvetica,sans-Serif\" font-size=\"14.00\" fill=\"#000000\">value = [16, 10]</text>\n<text text-anchor=\"start\" x=\"1537\" y=\"-706.8\" font-family=\"Helvetica,sans-Serif\" font-size=\"14.00\" fill=\"#000000\">class = NÃO DIABETICO</text>\n</g>\n<!-- 36&#45;&gt;37 -->\n<g id=\"edge37\" class=\"edge\">\n<title>36&#45;&gt;37</title>\n<path fill=\"none\" stroke=\"#000000\" d=\"M1758.3034,-817.8796C1740.3003,-807.915 1720.9645,-797.2129 1702.5881,-787.0418\"/>\n<polygon fill=\"#000000\" stroke=\"#000000\" points=\"1704.0983,-783.8773 1693.6541,-782.0969 1700.7084,-790.0018 1704.0983,-783.8773\"/>\n</g>\n<!-- 50 -->\n<g id=\"node51\" class=\"node\">\n<title>50</title>\n<path fill=\"#55abe9\" stroke=\"#000000\" d=\"M1903.5,-782C1903.5,-782 1763.5,-782 1763.5,-782 1757.5,-782 1751.5,-776 1751.5,-770 1751.5,-770 1751.5,-711 1751.5,-711 1751.5,-705 1757.5,-699 1763.5,-699 1763.5,-699 1903.5,-699 1903.5,-699 1909.5,-699 1915.5,-705 1915.5,-711 1915.5,-711 1915.5,-770 1915.5,-770 1915.5,-776 1909.5,-782 1903.5,-782\"/>\n<text text-anchor=\"start\" x=\"1759.5\" y=\"-766.8\" font-family=\"Helvetica,sans-Serif\" font-size=\"14.00\" fill=\"#000000\">espessura_pele ≤ 32.5</text>\n<text text-anchor=\"start\" x=\"1795.5\" y=\"-751.8\" font-family=\"Helvetica,sans-Serif\" font-size=\"14.00\" fill=\"#000000\">gini = 0.219</text>\n<text text-anchor=\"start\" x=\"1794\" y=\"-736.8\" font-family=\"Helvetica,sans-Serif\" font-size=\"14.00\" fill=\"#000000\">samples = 8</text>\n<text text-anchor=\"start\" x=\"1792\" y=\"-721.8\" font-family=\"Helvetica,sans-Serif\" font-size=\"14.00\" fill=\"#000000\">value = [1, 7]</text>\n<text text-anchor=\"start\" x=\"1769.5\" y=\"-706.8\" font-family=\"Helvetica,sans-Serif\" font-size=\"14.00\" fill=\"#000000\">class = DIABETICO</text>\n</g>\n<!-- 36&#45;&gt;50 -->\n<g id=\"edge50\" class=\"edge\">\n<title>36&#45;&gt;50</title>\n<path fill=\"none\" stroke=\"#000000\" d=\"M1833.5,-817.8796C1833.5,-809.6838 1833.5,-800.9891 1833.5,-792.5013\"/>\n<polygon fill=\"#000000\" stroke=\"#000000\" points=\"1837.0001,-792.298 1833.5,-782.2981 1830.0001,-792.2981 1837.0001,-792.298\"/>\n</g>\n<!-- 38 -->\n<g id=\"node39\" class=\"node\">\n<title>38</title>\n<path fill=\"#eb9c63\" stroke=\"#000000\" d=\"M1479,-663C1479,-663 1324,-663 1324,-663 1318,-663 1312,-657 1312,-651 1312,-651 1312,-592 1312,-592 1312,-586 1318,-580 1324,-580 1324,-580 1479,-580 1479,-580 1485,-580 1491,-586 1491,-592 1491,-592 1491,-651 1491,-651 1491,-657 1485,-663 1479,-663\"/>\n<text text-anchor=\"start\" x=\"1362\" y=\"-647.8\" font-family=\"Helvetica,sans-Serif\" font-size=\"14.00\" fill=\"#000000\">IMC ≤ 27.95</text>\n<text text-anchor=\"start\" x=\"1363.5\" y=\"-632.8\" font-family=\"Helvetica,sans-Serif\" font-size=\"14.00\" fill=\"#000000\">gini = 0.291</text>\n<text text-anchor=\"start\" x=\"1357.5\" y=\"-617.8\" font-family=\"Helvetica,sans-Serif\" font-size=\"14.00\" fill=\"#000000\">samples = 17</text>\n<text text-anchor=\"start\" x=\"1356\" y=\"-602.8\" font-family=\"Helvetica,sans-Serif\" font-size=\"14.00\" fill=\"#000000\">value = [14, 3]</text>\n<text text-anchor=\"start\" x=\"1320\" y=\"-587.8\" font-family=\"Helvetica,sans-Serif\" font-size=\"14.00\" fill=\"#000000\">class = NÃO DIABETICO</text>\n</g>\n<!-- 37&#45;&gt;38 -->\n<g id=\"edge38\" class=\"edge\">\n<title>37&#45;&gt;38</title>\n<path fill=\"none\" stroke=\"#000000\" d=\"M1542.6039,-698.8796C1524.4333,-688.915 1504.9177,-678.2129 1486.3704,-668.0418\"/>\n<polygon fill=\"#000000\" stroke=\"#000000\" points=\"1487.8043,-664.8365 1477.3532,-663.0969 1484.4384,-670.9741 1487.8043,-664.8365\"/>\n</g>\n<!-- 47 -->\n<g id=\"node48\" class=\"node\">\n<title>47</title>\n<path fill=\"#72b9ec\" stroke=\"#000000\" d=\"M1678.5,-663C1678.5,-663 1558.5,-663 1558.5,-663 1552.5,-663 1546.5,-657 1546.5,-651 1546.5,-651 1546.5,-592 1546.5,-592 1546.5,-586 1552.5,-580 1558.5,-580 1558.5,-580 1678.5,-580 1678.5,-580 1684.5,-580 1690.5,-586 1690.5,-592 1690.5,-592 1690.5,-651 1690.5,-651 1690.5,-657 1684.5,-663 1678.5,-663\"/>\n<text text-anchor=\"start\" x=\"1578.5\" y=\"-647.8\" font-family=\"Helvetica,sans-Serif\" font-size=\"14.00\" fill=\"#000000\">idade ≤ 33.5</text>\n<text text-anchor=\"start\" x=\"1580.5\" y=\"-632.8\" font-family=\"Helvetica,sans-Serif\" font-size=\"14.00\" fill=\"#000000\">gini = 0.346</text>\n<text text-anchor=\"start\" x=\"1579\" y=\"-617.8\" font-family=\"Helvetica,sans-Serif\" font-size=\"14.00\" fill=\"#000000\">samples = 9</text>\n<text text-anchor=\"start\" x=\"1577\" y=\"-602.8\" font-family=\"Helvetica,sans-Serif\" font-size=\"14.00\" fill=\"#000000\">value = [2, 7]</text>\n<text text-anchor=\"start\" x=\"1554.5\" y=\"-587.8\" font-family=\"Helvetica,sans-Serif\" font-size=\"14.00\" fill=\"#000000\">class = DIABETICO</text>\n</g>\n<!-- 37&#45;&gt;47 -->\n<g id=\"edge47\" class=\"edge\">\n<title>37&#45;&gt;47</title>\n<path fill=\"none\" stroke=\"#000000\" d=\"M1618.5,-698.8796C1618.5,-690.6838 1618.5,-681.9891 1618.5,-673.5013\"/>\n<polygon fill=\"#000000\" stroke=\"#000000\" points=\"1622.0001,-673.298 1618.5,-663.2981 1615.0001,-673.2981 1622.0001,-673.298\"/>\n</g>\n<!-- 39 -->\n<g id=\"node40\" class=\"node\">\n<title>39</title>\n<path fill=\"#399de5\" stroke=\"#000000\" d=\"M1281.5,-536.5C1281.5,-536.5 1161.5,-536.5 1161.5,-536.5 1155.5,-536.5 1149.5,-530.5 1149.5,-524.5 1149.5,-524.5 1149.5,-480.5 1149.5,-480.5 1149.5,-474.5 1155.5,-468.5 1161.5,-468.5 1161.5,-468.5 1281.5,-468.5 1281.5,-468.5 1287.5,-468.5 1293.5,-474.5 1293.5,-480.5 1293.5,-480.5 1293.5,-524.5 1293.5,-524.5 1293.5,-530.5 1287.5,-536.5 1281.5,-536.5\"/>\n<text text-anchor=\"start\" x=\"1192\" y=\"-521.3\" font-family=\"Helvetica,sans-Serif\" font-size=\"14.00\" fill=\"#000000\">gini = 0.0</text>\n<text text-anchor=\"start\" x=\"1182\" y=\"-506.3\" font-family=\"Helvetica,sans-Serif\" font-size=\"14.00\" fill=\"#000000\">samples = 1</text>\n<text text-anchor=\"start\" x=\"1180\" y=\"-491.3\" font-family=\"Helvetica,sans-Serif\" font-size=\"14.00\" fill=\"#000000\">value = [0, 1]</text>\n<text text-anchor=\"start\" x=\"1157.5\" y=\"-476.3\" font-family=\"Helvetica,sans-Serif\" font-size=\"14.00\" fill=\"#000000\">class = DIABETICO</text>\n</g>\n<!-- 38&#45;&gt;39 -->\n<g id=\"edge39\" class=\"edge\">\n<title>38&#45;&gt;39</title>\n<path fill=\"none\" stroke=\"#000000\" d=\"M1338.5447,-579.8796C1320.1616,-567.7263 1300.1189,-554.4759 1281.8979,-542.4297\"/>\n<polygon fill=\"#000000\" stroke=\"#000000\" points=\"1283.3867,-539.2183 1273.1147,-536.623 1279.5263,-545.0576 1283.3867,-539.2183\"/>\n</g>\n<!-- 40 -->\n<g id=\"node41\" class=\"node\">\n<title>40</title>\n<path fill=\"#e99355\" stroke=\"#000000\" d=\"M1479,-544C1479,-544 1324,-544 1324,-544 1318,-544 1312,-538 1312,-532 1312,-532 1312,-473 1312,-473 1312,-467 1318,-461 1324,-461 1324,-461 1479,-461 1479,-461 1485,-461 1491,-467 1491,-473 1491,-473 1491,-532 1491,-532 1491,-538 1485,-544 1479,-544\"/>\n<text text-anchor=\"start\" x=\"1356.5\" y=\"-528.8\" font-family=\"Helvetica,sans-Serif\" font-size=\"14.00\" fill=\"#000000\">glicose ≤ 97.0</text>\n<text text-anchor=\"start\" x=\"1363.5\" y=\"-513.8\" font-family=\"Helvetica,sans-Serif\" font-size=\"14.00\" fill=\"#000000\">gini = 0.219</text>\n<text text-anchor=\"start\" x=\"1357.5\" y=\"-498.8\" font-family=\"Helvetica,sans-Serif\" font-size=\"14.00\" fill=\"#000000\">samples = 16</text>\n<text text-anchor=\"start\" x=\"1356\" y=\"-483.8\" font-family=\"Helvetica,sans-Serif\" font-size=\"14.00\" fill=\"#000000\">value = [14, 2]</text>\n<text text-anchor=\"start\" x=\"1320\" y=\"-468.8\" font-family=\"Helvetica,sans-Serif\" font-size=\"14.00\" fill=\"#000000\">class = NÃO DIABETICO</text>\n</g>\n<!-- 38&#45;&gt;40 -->\n<g id=\"edge40\" class=\"edge\">\n<title>38&#45;&gt;40</title>\n<path fill=\"none\" stroke=\"#000000\" d=\"M1401.5,-579.8796C1401.5,-571.6838 1401.5,-562.9891 1401.5,-554.5013\"/>\n<polygon fill=\"#000000\" stroke=\"#000000\" points=\"1405.0001,-554.298 1401.5,-544.2981 1398.0001,-554.2981 1405.0001,-554.298\"/>\n</g>\n<!-- 41 -->\n<g id=\"node42\" class=\"node\">\n<title>41</title>\n<path fill=\"#399de5\" stroke=\"#000000\" d=\"M1281.5,-417.5C1281.5,-417.5 1161.5,-417.5 1161.5,-417.5 1155.5,-417.5 1149.5,-411.5 1149.5,-405.5 1149.5,-405.5 1149.5,-361.5 1149.5,-361.5 1149.5,-355.5 1155.5,-349.5 1161.5,-349.5 1161.5,-349.5 1281.5,-349.5 1281.5,-349.5 1287.5,-349.5 1293.5,-355.5 1293.5,-361.5 1293.5,-361.5 1293.5,-405.5 1293.5,-405.5 1293.5,-411.5 1287.5,-417.5 1281.5,-417.5\"/>\n<text text-anchor=\"start\" x=\"1192\" y=\"-402.3\" font-family=\"Helvetica,sans-Serif\" font-size=\"14.00\" fill=\"#000000\">gini = 0.0</text>\n<text text-anchor=\"start\" x=\"1182\" y=\"-387.3\" font-family=\"Helvetica,sans-Serif\" font-size=\"14.00\" fill=\"#000000\">samples = 1</text>\n<text text-anchor=\"start\" x=\"1180\" y=\"-372.3\" font-family=\"Helvetica,sans-Serif\" font-size=\"14.00\" fill=\"#000000\">value = [0, 1]</text>\n<text text-anchor=\"start\" x=\"1157.5\" y=\"-357.3\" font-family=\"Helvetica,sans-Serif\" font-size=\"14.00\" fill=\"#000000\">class = DIABETICO</text>\n</g>\n<!-- 40&#45;&gt;41 -->\n<g id=\"edge41\" class=\"edge\">\n<title>40&#45;&gt;41</title>\n<path fill=\"none\" stroke=\"#000000\" d=\"M1338.5447,-460.8796C1320.1616,-448.7263 1300.1189,-435.4759 1281.8979,-423.4297\"/>\n<polygon fill=\"#000000\" stroke=\"#000000\" points=\"1283.3867,-420.2183 1273.1147,-417.623 1279.5263,-426.0576 1283.3867,-420.2183\"/>\n</g>\n<!-- 42 -->\n<g id=\"node43\" class=\"node\">\n<title>42</title>\n<path fill=\"#e78a47\" stroke=\"#000000\" d=\"M1479,-425C1479,-425 1324,-425 1324,-425 1318,-425 1312,-419 1312,-413 1312,-413 1312,-354 1312,-354 1312,-348 1318,-342 1324,-342 1324,-342 1479,-342 1479,-342 1485,-342 1491,-348 1491,-354 1491,-354 1491,-413 1491,-413 1491,-419 1485,-425 1479,-425\"/>\n<text text-anchor=\"start\" x=\"1352.5\" y=\"-409.8\" font-family=\"Helvetica,sans-Serif\" font-size=\"14.00\" fill=\"#000000\">glicose ≤ 114.0</text>\n<text text-anchor=\"start\" x=\"1363.5\" y=\"-394.8\" font-family=\"Helvetica,sans-Serif\" font-size=\"14.00\" fill=\"#000000\">gini = 0.124</text>\n<text text-anchor=\"start\" x=\"1357.5\" y=\"-379.8\" font-family=\"Helvetica,sans-Serif\" font-size=\"14.00\" fill=\"#000000\">samples = 15</text>\n<text text-anchor=\"start\" x=\"1356\" y=\"-364.8\" font-family=\"Helvetica,sans-Serif\" font-size=\"14.00\" fill=\"#000000\">value = [14, 1]</text>\n<text text-anchor=\"start\" x=\"1320\" y=\"-349.8\" font-family=\"Helvetica,sans-Serif\" font-size=\"14.00\" fill=\"#000000\">class = NÃO DIABETICO</text>\n</g>\n<!-- 40&#45;&gt;42 -->\n<g id=\"edge42\" class=\"edge\">\n<title>40&#45;&gt;42</title>\n<path fill=\"none\" stroke=\"#000000\" d=\"M1401.5,-460.8796C1401.5,-452.6838 1401.5,-443.9891 1401.5,-435.5013\"/>\n<polygon fill=\"#000000\" stroke=\"#000000\" points=\"1405.0001,-435.298 1401.5,-425.2981 1398.0001,-435.2981 1405.0001,-435.298\"/>\n</g>\n<!-- 43 -->\n<g id=\"node44\" class=\"node\">\n<title>43</title>\n<path fill=\"#e58139\" stroke=\"#000000\" d=\"M1282,-298.5C1282,-298.5 1127,-298.5 1127,-298.5 1121,-298.5 1115,-292.5 1115,-286.5 1115,-286.5 1115,-242.5 1115,-242.5 1115,-236.5 1121,-230.5 1127,-230.5 1127,-230.5 1282,-230.5 1282,-230.5 1288,-230.5 1294,-236.5 1294,-242.5 1294,-242.5 1294,-286.5 1294,-286.5 1294,-292.5 1288,-298.5 1282,-298.5\"/>\n<text text-anchor=\"start\" x=\"1175\" y=\"-283.3\" font-family=\"Helvetica,sans-Serif\" font-size=\"14.00\" fill=\"#000000\">gini = 0.0</text>\n<text text-anchor=\"start\" x=\"1160.5\" y=\"-268.3\" font-family=\"Helvetica,sans-Serif\" font-size=\"14.00\" fill=\"#000000\">samples = 10</text>\n<text text-anchor=\"start\" x=\"1159\" y=\"-253.3\" font-family=\"Helvetica,sans-Serif\" font-size=\"14.00\" fill=\"#000000\">value = [10, 0]</text>\n<text text-anchor=\"start\" x=\"1123\" y=\"-238.3\" font-family=\"Helvetica,sans-Serif\" font-size=\"14.00\" fill=\"#000000\">class = NÃO DIABETICO</text>\n</g>\n<!-- 42&#45;&gt;43 -->\n<g id=\"edge43\" class=\"edge\">\n<title>42&#45;&gt;43</title>\n<path fill=\"none\" stroke=\"#000000\" d=\"M1332.599,-341.8796C1312.2053,-329.5606 1289.9455,-316.1143 1269.7875,-303.9376\"/>\n<polygon fill=\"#000000\" stroke=\"#000000\" points=\"1271.3587,-300.7977 1260.9894,-298.623 1267.7393,-306.7894 1271.3587,-300.7977\"/>\n</g>\n<!-- 44 -->\n<g id=\"node45\" class=\"node\">\n<title>44</title>\n<path fill=\"#eca06a\" stroke=\"#000000\" d=\"M1479,-306C1479,-306 1324,-306 1324,-306 1318,-306 1312,-300 1312,-294 1312,-294 1312,-235 1312,-235 1312,-229 1318,-223 1324,-223 1324,-223 1479,-223 1479,-223 1485,-223 1491,-229 1491,-235 1491,-235 1491,-294 1491,-294 1491,-300 1485,-306 1479,-306\"/>\n<text text-anchor=\"start\" x=\"1362\" y=\"-290.8\" font-family=\"Helvetica,sans-Serif\" font-size=\"14.00\" fill=\"#000000\">IMC ≤ 31.75</text>\n<text text-anchor=\"start\" x=\"1368\" y=\"-275.8\" font-family=\"Helvetica,sans-Serif\" font-size=\"14.00\" fill=\"#000000\">gini = 0.32</text>\n<text text-anchor=\"start\" x=\"1362\" y=\"-260.8\" font-family=\"Helvetica,sans-Serif\" font-size=\"14.00\" fill=\"#000000\">samples = 5</text>\n<text text-anchor=\"start\" x=\"1360\" y=\"-245.8\" font-family=\"Helvetica,sans-Serif\" font-size=\"14.00\" fill=\"#000000\">value = [4, 1]</text>\n<text text-anchor=\"start\" x=\"1320\" y=\"-230.8\" font-family=\"Helvetica,sans-Serif\" font-size=\"14.00\" fill=\"#000000\">class = NÃO DIABETICO</text>\n</g>\n<!-- 42&#45;&gt;44 -->\n<g id=\"edge44\" class=\"edge\">\n<title>42&#45;&gt;44</title>\n<path fill=\"none\" stroke=\"#000000\" d=\"M1401.5,-341.8796C1401.5,-333.6838 1401.5,-324.9891 1401.5,-316.5013\"/>\n<polygon fill=\"#000000\" stroke=\"#000000\" points=\"1405.0001,-316.298 1401.5,-306.2981 1398.0001,-316.2981 1405.0001,-316.298\"/>\n</g>\n<!-- 45 -->\n<g id=\"node46\" class=\"node\">\n<title>45</title>\n<path fill=\"#399de5\" stroke=\"#000000\" d=\"M1371.5,-179.5C1371.5,-179.5 1251.5,-179.5 1251.5,-179.5 1245.5,-179.5 1239.5,-173.5 1239.5,-167.5 1239.5,-167.5 1239.5,-123.5 1239.5,-123.5 1239.5,-117.5 1245.5,-111.5 1251.5,-111.5 1251.5,-111.5 1371.5,-111.5 1371.5,-111.5 1377.5,-111.5 1383.5,-117.5 1383.5,-123.5 1383.5,-123.5 1383.5,-167.5 1383.5,-167.5 1383.5,-173.5 1377.5,-179.5 1371.5,-179.5\"/>\n<text text-anchor=\"start\" x=\"1282\" y=\"-164.3\" font-family=\"Helvetica,sans-Serif\" font-size=\"14.00\" fill=\"#000000\">gini = 0.0</text>\n<text text-anchor=\"start\" x=\"1272\" y=\"-149.3\" font-family=\"Helvetica,sans-Serif\" font-size=\"14.00\" fill=\"#000000\">samples = 1</text>\n<text text-anchor=\"start\" x=\"1270\" y=\"-134.3\" font-family=\"Helvetica,sans-Serif\" font-size=\"14.00\" fill=\"#000000\">value = [0, 1]</text>\n<text text-anchor=\"start\" x=\"1247.5\" y=\"-119.3\" font-family=\"Helvetica,sans-Serif\" font-size=\"14.00\" fill=\"#000000\">class = DIABETICO</text>\n</g>\n<!-- 44&#45;&gt;45 -->\n<g id=\"edge45\" class=\"edge\">\n<title>44&#45;&gt;45</title>\n<path fill=\"none\" stroke=\"#000000\" d=\"M1370.0224,-222.8796C1361.4565,-211.5536 1352.17,-199.2748 1343.5717,-187.9058\"/>\n<polygon fill=\"#000000\" stroke=\"#000000\" points=\"1346.2762,-185.6795 1337.4525,-179.8149 1340.6931,-189.902 1346.2762,-185.6795\"/>\n</g>\n<!-- 46 -->\n<g id=\"node47\" class=\"node\">\n<title>46</title>\n<path fill=\"#e58139\" stroke=\"#000000\" d=\"M1569,-179.5C1569,-179.5 1414,-179.5 1414,-179.5 1408,-179.5 1402,-173.5 1402,-167.5 1402,-167.5 1402,-123.5 1402,-123.5 1402,-117.5 1408,-111.5 1414,-111.5 1414,-111.5 1569,-111.5 1569,-111.5 1575,-111.5 1581,-117.5 1581,-123.5 1581,-123.5 1581,-167.5 1581,-167.5 1581,-173.5 1575,-179.5 1569,-179.5\"/>\n<text text-anchor=\"start\" x=\"1462\" y=\"-164.3\" font-family=\"Helvetica,sans-Serif\" font-size=\"14.00\" fill=\"#000000\">gini = 0.0</text>\n<text text-anchor=\"start\" x=\"1452\" y=\"-149.3\" font-family=\"Helvetica,sans-Serif\" font-size=\"14.00\" fill=\"#000000\">samples = 4</text>\n<text text-anchor=\"start\" x=\"1450\" y=\"-134.3\" font-family=\"Helvetica,sans-Serif\" font-size=\"14.00\" fill=\"#000000\">value = [4, 0]</text>\n<text text-anchor=\"start\" x=\"1410\" y=\"-119.3\" font-family=\"Helvetica,sans-Serif\" font-size=\"14.00\" fill=\"#000000\">class = NÃO DIABETICO</text>\n</g>\n<!-- 44&#45;&gt;46 -->\n<g id=\"edge46\" class=\"edge\">\n<title>44&#45;&gt;46</title>\n<path fill=\"none\" stroke=\"#000000\" d=\"M1432.9776,-222.8796C1441.5435,-211.5536 1450.83,-199.2748 1459.4283,-187.9058\"/>\n<polygon fill=\"#000000\" stroke=\"#000000\" points=\"1462.3069,-189.902 1465.5475,-179.8149 1456.7238,-185.6795 1462.3069,-189.902\"/>\n</g>\n<!-- 48 -->\n<g id=\"node49\" class=\"node\">\n<title>48</title>\n<path fill=\"#399de5\" stroke=\"#000000\" d=\"M1669.5,-536.5C1669.5,-536.5 1549.5,-536.5 1549.5,-536.5 1543.5,-536.5 1537.5,-530.5 1537.5,-524.5 1537.5,-524.5 1537.5,-480.5 1537.5,-480.5 1537.5,-474.5 1543.5,-468.5 1549.5,-468.5 1549.5,-468.5 1669.5,-468.5 1669.5,-468.5 1675.5,-468.5 1681.5,-474.5 1681.5,-480.5 1681.5,-480.5 1681.5,-524.5 1681.5,-524.5 1681.5,-530.5 1675.5,-536.5 1669.5,-536.5\"/>\n<text text-anchor=\"start\" x=\"1580\" y=\"-521.3\" font-family=\"Helvetica,sans-Serif\" font-size=\"14.00\" fill=\"#000000\">gini = 0.0</text>\n<text text-anchor=\"start\" x=\"1570\" y=\"-506.3\" font-family=\"Helvetica,sans-Serif\" font-size=\"14.00\" fill=\"#000000\">samples = 7</text>\n<text text-anchor=\"start\" x=\"1568\" y=\"-491.3\" font-family=\"Helvetica,sans-Serif\" font-size=\"14.00\" fill=\"#000000\">value = [0, 7]</text>\n<text text-anchor=\"start\" x=\"1545.5\" y=\"-476.3\" font-family=\"Helvetica,sans-Serif\" font-size=\"14.00\" fill=\"#000000\">class = DIABETICO</text>\n</g>\n<!-- 47&#45;&gt;48 -->\n<g id=\"edge48\" class=\"edge\">\n<title>47&#45;&gt;48</title>\n<path fill=\"none\" stroke=\"#000000\" d=\"M1615.3522,-579.8796C1614.5455,-569.2134 1613.6749,-557.7021 1612.8581,-546.9015\"/>\n<polygon fill=\"#000000\" stroke=\"#000000\" points=\"1616.3395,-546.5225 1612.0952,-536.8149 1609.3595,-547.0504 1616.3395,-546.5225\"/>\n</g>\n<!-- 49 -->\n<g id=\"node50\" class=\"node\">\n<title>49</title>\n<path fill=\"#e58139\" stroke=\"#000000\" d=\"M1867,-536.5C1867,-536.5 1712,-536.5 1712,-536.5 1706,-536.5 1700,-530.5 1700,-524.5 1700,-524.5 1700,-480.5 1700,-480.5 1700,-474.5 1706,-468.5 1712,-468.5 1712,-468.5 1867,-468.5 1867,-468.5 1873,-468.5 1879,-474.5 1879,-480.5 1879,-480.5 1879,-524.5 1879,-524.5 1879,-530.5 1873,-536.5 1867,-536.5\"/>\n<text text-anchor=\"start\" x=\"1760\" y=\"-521.3\" font-family=\"Helvetica,sans-Serif\" font-size=\"14.00\" fill=\"#000000\">gini = 0.0</text>\n<text text-anchor=\"start\" x=\"1750\" y=\"-506.3\" font-family=\"Helvetica,sans-Serif\" font-size=\"14.00\" fill=\"#000000\">samples = 2</text>\n<text text-anchor=\"start\" x=\"1748\" y=\"-491.3\" font-family=\"Helvetica,sans-Serif\" font-size=\"14.00\" fill=\"#000000\">value = [2, 0]</text>\n<text text-anchor=\"start\" x=\"1708\" y=\"-476.3\" font-family=\"Helvetica,sans-Serif\" font-size=\"14.00\" fill=\"#000000\">class = NÃO DIABETICO</text>\n</g>\n<!-- 47&#45;&gt;49 -->\n<g id=\"edge49\" class=\"edge\">\n<title>47&#45;&gt;49</title>\n<path fill=\"none\" stroke=\"#000000\" d=\"M1678.3075,-579.8796C1695.7715,-567.7263 1714.812,-554.4759 1732.122,-542.4297\"/>\n<polygon fill=\"#000000\" stroke=\"#000000\" points=\"1734.2572,-545.208 1740.4661,-536.623 1730.2587,-539.4623 1734.2572,-545.208\"/>\n</g>\n<!-- 51 -->\n<g id=\"node52\" class=\"node\">\n<title>51</title>\n<path fill=\"#399de5\" stroke=\"#000000\" d=\"M1892.5,-655.5C1892.5,-655.5 1772.5,-655.5 1772.5,-655.5 1766.5,-655.5 1760.5,-649.5 1760.5,-643.5 1760.5,-643.5 1760.5,-599.5 1760.5,-599.5 1760.5,-593.5 1766.5,-587.5 1772.5,-587.5 1772.5,-587.5 1892.5,-587.5 1892.5,-587.5 1898.5,-587.5 1904.5,-593.5 1904.5,-599.5 1904.5,-599.5 1904.5,-643.5 1904.5,-643.5 1904.5,-649.5 1898.5,-655.5 1892.5,-655.5\"/>\n<text text-anchor=\"start\" x=\"1803\" y=\"-640.3\" font-family=\"Helvetica,sans-Serif\" font-size=\"14.00\" fill=\"#000000\">gini = 0.0</text>\n<text text-anchor=\"start\" x=\"1793\" y=\"-625.3\" font-family=\"Helvetica,sans-Serif\" font-size=\"14.00\" fill=\"#000000\">samples = 7</text>\n<text text-anchor=\"start\" x=\"1791\" y=\"-610.3\" font-family=\"Helvetica,sans-Serif\" font-size=\"14.00\" fill=\"#000000\">value = [0, 7]</text>\n<text text-anchor=\"start\" x=\"1768.5\" y=\"-595.3\" font-family=\"Helvetica,sans-Serif\" font-size=\"14.00\" fill=\"#000000\">class = DIABETICO</text>\n</g>\n<!-- 50&#45;&gt;51 -->\n<g id=\"edge51\" class=\"edge\">\n<title>50&#45;&gt;51</title>\n<path fill=\"none\" stroke=\"#000000\" d=\"M1833.1502,-698.8796C1833.0606,-688.2134 1832.9639,-676.7021 1832.8731,-665.9015\"/>\n<polygon fill=\"#000000\" stroke=\"#000000\" points=\"1836.3724,-665.7851 1832.7884,-655.8149 1829.3726,-665.844 1836.3724,-665.7851\"/>\n</g>\n<!-- 52 -->\n<g id=\"node53\" class=\"node\">\n<title>52</title>\n<path fill=\"#e58139\" stroke=\"#000000\" d=\"M2090,-655.5C2090,-655.5 1935,-655.5 1935,-655.5 1929,-655.5 1923,-649.5 1923,-643.5 1923,-643.5 1923,-599.5 1923,-599.5 1923,-593.5 1929,-587.5 1935,-587.5 1935,-587.5 2090,-587.5 2090,-587.5 2096,-587.5 2102,-593.5 2102,-599.5 2102,-599.5 2102,-643.5 2102,-643.5 2102,-649.5 2096,-655.5 2090,-655.5\"/>\n<text text-anchor=\"start\" x=\"1983\" y=\"-640.3\" font-family=\"Helvetica,sans-Serif\" font-size=\"14.00\" fill=\"#000000\">gini = 0.0</text>\n<text text-anchor=\"start\" x=\"1973\" y=\"-625.3\" font-family=\"Helvetica,sans-Serif\" font-size=\"14.00\" fill=\"#000000\">samples = 1</text>\n<text text-anchor=\"start\" x=\"1971\" y=\"-610.3\" font-family=\"Helvetica,sans-Serif\" font-size=\"14.00\" fill=\"#000000\">value = [1, 0]</text>\n<text text-anchor=\"start\" x=\"1931\" y=\"-595.3\" font-family=\"Helvetica,sans-Serif\" font-size=\"14.00\" fill=\"#000000\">class = NÃO DIABETICO</text>\n</g>\n<!-- 50&#45;&gt;52 -->\n<g id=\"edge52\" class=\"edge\">\n<title>50&#45;&gt;52</title>\n<path fill=\"none\" stroke=\"#000000\" d=\"M1896.1055,-698.8796C1914.3865,-686.7263 1934.3178,-673.4759 1952.4376,-661.4297\"/>\n<polygon fill=\"#000000\" stroke=\"#000000\" points=\"1954.7821,-664.074 1961.1721,-655.623 1950.9067,-658.2447 1954.7821,-664.074\"/>\n</g>\n<!-- 54 -->\n<g id=\"node55\" class=\"node\">\n<title>54</title>\n<path fill=\"#e58139\" stroke=\"#000000\" d=\"M2103,-774.5C2103,-774.5 1948,-774.5 1948,-774.5 1942,-774.5 1936,-768.5 1936,-762.5 1936,-762.5 1936,-718.5 1936,-718.5 1936,-712.5 1942,-706.5 1948,-706.5 1948,-706.5 2103,-706.5 2103,-706.5 2109,-706.5 2115,-712.5 2115,-718.5 2115,-718.5 2115,-762.5 2115,-762.5 2115,-768.5 2109,-774.5 2103,-774.5\"/>\n<text text-anchor=\"start\" x=\"1996\" y=\"-759.3\" font-family=\"Helvetica,sans-Serif\" font-size=\"14.00\" fill=\"#000000\">gini = 0.0</text>\n<text text-anchor=\"start\" x=\"1986\" y=\"-744.3\" font-family=\"Helvetica,sans-Serif\" font-size=\"14.00\" fill=\"#000000\">samples = 2</text>\n<text text-anchor=\"start\" x=\"1984\" y=\"-729.3\" font-family=\"Helvetica,sans-Serif\" font-size=\"14.00\" fill=\"#000000\">value = [2, 0]</text>\n<text text-anchor=\"start\" x=\"1944\" y=\"-714.3\" font-family=\"Helvetica,sans-Serif\" font-size=\"14.00\" fill=\"#000000\">class = NÃO DIABETICO</text>\n</g>\n<!-- 53&#45;&gt;54 -->\n<g id=\"edge54\" class=\"edge\">\n<title>53&#45;&gt;54</title>\n<path fill=\"none\" stroke=\"#000000\" d=\"M2026.1502,-817.8796C2026.0606,-807.2134 2025.9639,-795.7021 2025.8731,-784.9015\"/>\n<polygon fill=\"#000000\" stroke=\"#000000\" points=\"2029.3724,-784.7851 2025.7884,-774.8149 2022.3726,-784.844 2029.3724,-784.7851\"/>\n</g>\n<!-- 55 -->\n<g id=\"node56\" class=\"node\">\n<title>55</title>\n<path fill=\"#72b9ed\" stroke=\"#000000\" d=\"M2285.5,-782C2285.5,-782 2145.5,-782 2145.5,-782 2139.5,-782 2133.5,-776 2133.5,-770 2133.5,-770 2133.5,-711 2133.5,-711 2133.5,-705 2139.5,-699 2145.5,-699 2145.5,-699 2285.5,-699 2285.5,-699 2291.5,-699 2297.5,-705 2297.5,-711 2297.5,-711 2297.5,-770 2297.5,-770 2297.5,-776 2291.5,-782 2285.5,-782\"/>\n<text text-anchor=\"start\" x=\"2141.5\" y=\"-766.8\" font-family=\"Helvetica,sans-Serif\" font-size=\"14.00\" fill=\"#000000\">espessura_pele ≤ 39.5</text>\n<text text-anchor=\"start\" x=\"2177.5\" y=\"-751.8\" font-family=\"Helvetica,sans-Serif\" font-size=\"14.00\" fill=\"#000000\">gini = 0.349</text>\n<text text-anchor=\"start\" x=\"2171.5\" y=\"-736.8\" font-family=\"Helvetica,sans-Serif\" font-size=\"14.00\" fill=\"#000000\">samples = 40</text>\n<text text-anchor=\"start\" x=\"2170\" y=\"-721.8\" font-family=\"Helvetica,sans-Serif\" font-size=\"14.00\" fill=\"#000000\">value = [9, 31]</text>\n<text text-anchor=\"start\" x=\"2151.5\" y=\"-706.8\" font-family=\"Helvetica,sans-Serif\" font-size=\"14.00\" fill=\"#000000\">class = DIABETICO</text>\n</g>\n<!-- 53&#45;&gt;55 -->\n<g id=\"edge55\" class=\"edge\">\n<title>53&#45;&gt;55</title>\n<path fill=\"none\" stroke=\"#000000\" d=\"M2092.603,-817.8796C2108.1413,-808.0962 2124.8088,-797.6019 2140.6987,-787.5971\"/>\n<polygon fill=\"#000000\" stroke=\"#000000\" points=\"2142.8368,-790.3869 2149.4343,-782.0969 2139.1071,-784.4633 2142.8368,-790.3869\"/>\n</g>\n<!-- 56 -->\n<g id=\"node57\" class=\"node\">\n<title>56</title>\n<path fill=\"#62b1ea\" stroke=\"#000000\" d=\"M2256.5,-663C2256.5,-663 2136.5,-663 2136.5,-663 2130.5,-663 2124.5,-657 2124.5,-651 2124.5,-651 2124.5,-592 2124.5,-592 2124.5,-586 2130.5,-580 2136.5,-580 2136.5,-580 2256.5,-580 2256.5,-580 2262.5,-580 2268.5,-586 2268.5,-592 2268.5,-592 2268.5,-651 2268.5,-651 2268.5,-657 2262.5,-663 2256.5,-663\"/>\n<text text-anchor=\"start\" x=\"2156.5\" y=\"-647.8\" font-family=\"Helvetica,sans-Serif\" font-size=\"14.00\" fill=\"#000000\">idade ≤ 53.0</text>\n<text text-anchor=\"start\" x=\"2158.5\" y=\"-632.8\" font-family=\"Helvetica,sans-Serif\" font-size=\"14.00\" fill=\"#000000\">gini = 0.284</text>\n<text text-anchor=\"start\" x=\"2152.5\" y=\"-617.8\" font-family=\"Helvetica,sans-Serif\" font-size=\"14.00\" fill=\"#000000\">samples = 35</text>\n<text text-anchor=\"start\" x=\"2151\" y=\"-602.8\" font-family=\"Helvetica,sans-Serif\" font-size=\"14.00\" fill=\"#000000\">value = [6, 29]</text>\n<text text-anchor=\"start\" x=\"2132.5\" y=\"-587.8\" font-family=\"Helvetica,sans-Serif\" font-size=\"14.00\" fill=\"#000000\">class = DIABETICO</text>\n</g>\n<!-- 55&#45;&gt;56 -->\n<g id=\"edge56\" class=\"edge\">\n<title>55&#45;&gt;56</title>\n<path fill=\"none\" stroke=\"#000000\" d=\"M2208.8547,-698.8796C2207.5318,-690.5938 2206.1274,-681.798 2204.7581,-673.2216\"/>\n<polygon fill=\"#000000\" stroke=\"#000000\" points=\"2208.2066,-672.6211 2203.1736,-663.2981 2201.2942,-673.7249 2208.2066,-672.6211\"/>\n</g>\n<!-- 73 -->\n<g id=\"node74\" class=\"node\">\n<title>73</title>\n<path fill=\"#f6d5bd\" stroke=\"#000000\" d=\"M2462,-663C2462,-663 2307,-663 2307,-663 2301,-663 2295,-657 2295,-651 2295,-651 2295,-592 2295,-592 2295,-586 2301,-580 2307,-580 2307,-580 2462,-580 2462,-580 2468,-580 2474,-586 2474,-592 2474,-592 2474,-651 2474,-651 2474,-657 2468,-663 2462,-663\"/>\n<text text-anchor=\"start\" x=\"2333.5\" y=\"-647.8\" font-family=\"Helvetica,sans-Serif\" font-size=\"14.00\" fill=\"#000000\">insulina ≤ 203.5</text>\n<text text-anchor=\"start\" x=\"2351\" y=\"-632.8\" font-family=\"Helvetica,sans-Serif\" font-size=\"14.00\" fill=\"#000000\">gini = 0.48</text>\n<text text-anchor=\"start\" x=\"2345\" y=\"-617.8\" font-family=\"Helvetica,sans-Serif\" font-size=\"14.00\" fill=\"#000000\">samples = 5</text>\n<text text-anchor=\"start\" x=\"2343\" y=\"-602.8\" font-family=\"Helvetica,sans-Serif\" font-size=\"14.00\" fill=\"#000000\">value = [3, 2]</text>\n<text text-anchor=\"start\" x=\"2303\" y=\"-587.8\" font-family=\"Helvetica,sans-Serif\" font-size=\"14.00\" fill=\"#000000\">class = NÃO DIABETICO</text>\n</g>\n<!-- 55&#45;&gt;73 -->\n<g id=\"edge73\" class=\"edge\">\n<title>55&#45;&gt;73</title>\n<path fill=\"none\" stroke=\"#000000\" d=\"M2274.608,-698.8796C2288.3734,-689.1868 2303.1299,-678.7961 2317.2193,-668.8752\"/>\n<polygon fill=\"#000000\" stroke=\"#000000\" points=\"2319.2641,-671.716 2325.4254,-663.0969 2315.2339,-665.9926 2319.2641,-671.716\"/>\n</g>\n<!-- 57 -->\n<g id=\"node58\" class=\"node\">\n<title>57</title>\n<path fill=\"#4fa8e8\" stroke=\"#000000\" d=\"M2057.5,-544C2057.5,-544 1937.5,-544 1937.5,-544 1931.5,-544 1925.5,-538 1925.5,-532 1925.5,-532 1925.5,-473 1925.5,-473 1925.5,-467 1931.5,-461 1937.5,-461 1937.5,-461 2057.5,-461 2057.5,-461 2063.5,-461 2069.5,-467 2069.5,-473 2069.5,-473 2069.5,-532 2069.5,-532 2069.5,-538 2063.5,-544 2057.5,-544\"/>\n<text text-anchor=\"start\" x=\"1952.5\" y=\"-528.8\" font-family=\"Helvetica,sans-Serif\" font-size=\"14.00\" fill=\"#000000\">glicose ≤ 95.5</text>\n<text text-anchor=\"start\" x=\"1964\" y=\"-513.8\" font-family=\"Helvetica,sans-Serif\" font-size=\"14.00\" fill=\"#000000\">gini = 0.18</text>\n<text text-anchor=\"start\" x=\"1953.5\" y=\"-498.8\" font-family=\"Helvetica,sans-Serif\" font-size=\"14.00\" fill=\"#000000\">samples = 30</text>\n<text text-anchor=\"start\" x=\"1952\" y=\"-483.8\" font-family=\"Helvetica,sans-Serif\" font-size=\"14.00\" fill=\"#000000\">value = [3, 27]</text>\n<text text-anchor=\"start\" x=\"1933.5\" y=\"-468.8\" font-family=\"Helvetica,sans-Serif\" font-size=\"14.00\" fill=\"#000000\">class = DIABETICO</text>\n</g>\n<!-- 56&#45;&gt;57 -->\n<g id=\"edge57\" class=\"edge\">\n<title>56&#45;&gt;57</title>\n<path fill=\"none\" stroke=\"#000000\" d=\"M2126.8995,-579.8796C2110.3875,-570.0056 2092.6646,-559.4075 2075.7945,-549.3193\"/>\n<polygon fill=\"#000000\" stroke=\"#000000\" points=\"2077.4401,-546.2253 2067.0612,-544.0969 2073.8475,-552.2331 2077.4401,-546.2253\"/>\n</g>\n<!-- 68 -->\n<g id=\"node69\" class=\"node\">\n<title>68</title>\n<path fill=\"#f6d5bd\" stroke=\"#000000\" d=\"M2274,-544C2274,-544 2119,-544 2119,-544 2113,-544 2107,-538 2107,-532 2107,-532 2107,-473 2107,-473 2107,-467 2113,-461 2119,-461 2119,-461 2274,-461 2274,-461 2280,-461 2286,-467 2286,-473 2286,-473 2286,-532 2286,-532 2286,-538 2280,-544 2274,-544\"/>\n<text text-anchor=\"start\" x=\"2161.5\" y=\"-528.8\" font-family=\"Helvetica,sans-Serif\" font-size=\"14.00\" fill=\"#000000\">IMC ≤ 35.3</text>\n<text text-anchor=\"start\" x=\"2163\" y=\"-513.8\" font-family=\"Helvetica,sans-Serif\" font-size=\"14.00\" fill=\"#000000\">gini = 0.48</text>\n<text text-anchor=\"start\" x=\"2157\" y=\"-498.8\" font-family=\"Helvetica,sans-Serif\" font-size=\"14.00\" fill=\"#000000\">samples = 5</text>\n<text text-anchor=\"start\" x=\"2155\" y=\"-483.8\" font-family=\"Helvetica,sans-Serif\" font-size=\"14.00\" fill=\"#000000\">value = [3, 2]</text>\n<text text-anchor=\"start\" x=\"2115\" y=\"-468.8\" font-family=\"Helvetica,sans-Serif\" font-size=\"14.00\" fill=\"#000000\">class = NÃO DIABETICO</text>\n</g>\n<!-- 56&#45;&gt;68 -->\n<g id=\"edge68\" class=\"edge\">\n<title>56&#45;&gt;68</title>\n<path fill=\"none\" stroke=\"#000000\" d=\"M2196.5,-579.8796C2196.5,-571.6838 2196.5,-562.9891 2196.5,-554.5013\"/>\n<polygon fill=\"#000000\" stroke=\"#000000\" points=\"2200.0001,-554.298 2196.5,-544.2981 2193.0001,-554.2981 2200.0001,-554.298\"/>\n</g>\n<!-- 58 -->\n<g id=\"node59\" class=\"node\">\n<title>58</title>\n<path fill=\"#ffffff\" stroke=\"#000000\" d=\"M1856,-425C1856,-425 1701,-425 1701,-425 1695,-425 1689,-419 1689,-413 1689,-413 1689,-354 1689,-354 1689,-348 1695,-342 1701,-342 1701,-342 1856,-342 1856,-342 1862,-342 1868,-348 1868,-354 1868,-354 1868,-413 1868,-413 1868,-419 1862,-425 1856,-425\"/>\n<text text-anchor=\"start\" x=\"1738.5\" y=\"-409.8\" font-family=\"Helvetica,sans-Serif\" font-size=\"14.00\" fill=\"#000000\">idade ≤ 42.5</text>\n<text text-anchor=\"start\" x=\"1749\" y=\"-394.8\" font-family=\"Helvetica,sans-Serif\" font-size=\"14.00\" fill=\"#000000\">gini = 0.5</text>\n<text text-anchor=\"start\" x=\"1739\" y=\"-379.8\" font-family=\"Helvetica,sans-Serif\" font-size=\"14.00\" fill=\"#000000\">samples = 2</text>\n<text text-anchor=\"start\" x=\"1737\" y=\"-364.8\" font-family=\"Helvetica,sans-Serif\" font-size=\"14.00\" fill=\"#000000\">value = [1, 1]</text>\n<text text-anchor=\"start\" x=\"1697\" y=\"-349.8\" font-family=\"Helvetica,sans-Serif\" font-size=\"14.00\" fill=\"#000000\">class = NÃO DIABETICO</text>\n</g>\n<!-- 57&#45;&gt;58 -->\n<g id=\"edge58\" class=\"edge\">\n<title>57&#45;&gt;58</title>\n<path fill=\"none\" stroke=\"#000000\" d=\"M1925.4879,-463.3701C1905.8317,-452.6894 1884.3427,-441.0127 1864.0136,-429.9663\"/>\n<polygon fill=\"#000000\" stroke=\"#000000\" points=\"1865.5323,-426.8082 1855.0745,-425.109 1862.1901,-432.9588 1865.5323,-426.8082\"/>\n</g>\n<!-- 61 -->\n<g id=\"node62\" class=\"node\">\n<title>61</title>\n<path fill=\"#48a5e7\" stroke=\"#000000\" d=\"M2097,-425C2097,-425 1898,-425 1898,-425 1892,-425 1886,-419 1886,-413 1886,-413 1886,-354 1886,-354 1886,-348 1892,-342 1898,-342 1898,-342 2097,-342 2097,-342 2103,-342 2109,-348 2109,-354 2109,-354 2109,-413 2109,-413 2109,-419 2103,-425 2097,-425\"/>\n<text text-anchor=\"start\" x=\"1894\" y=\"-409.8\" font-family=\"Helvetica,sans-Serif\" font-size=\"14.00\" fill=\"#000000\">predisposicao_diabetes ≤ 0.258</text>\n<text text-anchor=\"start\" x=\"1959.5\" y=\"-394.8\" font-family=\"Helvetica,sans-Serif\" font-size=\"14.00\" fill=\"#000000\">gini = 0.133</text>\n<text text-anchor=\"start\" x=\"1953.5\" y=\"-379.8\" font-family=\"Helvetica,sans-Serif\" font-size=\"14.00\" fill=\"#000000\">samples = 28</text>\n<text text-anchor=\"start\" x=\"1952\" y=\"-364.8\" font-family=\"Helvetica,sans-Serif\" font-size=\"14.00\" fill=\"#000000\">value = [2, 26]</text>\n<text text-anchor=\"start\" x=\"1933.5\" y=\"-349.8\" font-family=\"Helvetica,sans-Serif\" font-size=\"14.00\" fill=\"#000000\">class = DIABETICO</text>\n</g>\n<!-- 57&#45;&gt;61 -->\n<g id=\"edge61\" class=\"edge\">\n<title>57&#45;&gt;61</title>\n<path fill=\"none\" stroke=\"#000000\" d=\"M1997.5,-460.8796C1997.5,-452.6838 1997.5,-443.9891 1997.5,-435.5013\"/>\n<polygon fill=\"#000000\" stroke=\"#000000\" points=\"2001.0001,-435.298 1997.5,-425.2981 1994.0001,-435.2981 2001.0001,-435.298\"/>\n</g>\n<!-- 59 -->\n<g id=\"node60\" class=\"node\">\n<title>59</title>\n<path fill=\"#e58139\" stroke=\"#000000\" d=\"M1676,-298.5C1676,-298.5 1521,-298.5 1521,-298.5 1515,-298.5 1509,-292.5 1509,-286.5 1509,-286.5 1509,-242.5 1509,-242.5 1509,-236.5 1515,-230.5 1521,-230.5 1521,-230.5 1676,-230.5 1676,-230.5 1682,-230.5 1688,-236.5 1688,-242.5 1688,-242.5 1688,-286.5 1688,-286.5 1688,-292.5 1682,-298.5 1676,-298.5\"/>\n<text text-anchor=\"start\" x=\"1569\" y=\"-283.3\" font-family=\"Helvetica,sans-Serif\" font-size=\"14.00\" fill=\"#000000\">gini = 0.0</text>\n<text text-anchor=\"start\" x=\"1559\" y=\"-268.3\" font-family=\"Helvetica,sans-Serif\" font-size=\"14.00\" fill=\"#000000\">samples = 1</text>\n<text text-anchor=\"start\" x=\"1557\" y=\"-253.3\" font-family=\"Helvetica,sans-Serif\" font-size=\"14.00\" fill=\"#000000\">value = [1, 0]</text>\n<text text-anchor=\"start\" x=\"1517\" y=\"-238.3\" font-family=\"Helvetica,sans-Serif\" font-size=\"14.00\" fill=\"#000000\">class = NÃO DIABETICO</text>\n</g>\n<!-- 58&#45;&gt;59 -->\n<g id=\"edge59\" class=\"edge\">\n<title>58&#45;&gt;59</title>\n<path fill=\"none\" stroke=\"#000000\" d=\"M1715.5447,-341.8796C1697.1616,-329.7263 1677.1189,-316.4759 1658.8979,-304.4297\"/>\n<polygon fill=\"#000000\" stroke=\"#000000\" points=\"1660.3867,-301.2183 1650.1147,-298.623 1656.5263,-307.0576 1660.3867,-301.2183\"/>\n</g>\n<!-- 60 -->\n<g id=\"node61\" class=\"node\">\n<title>60</title>\n<path fill=\"#399de5\" stroke=\"#000000\" d=\"M1838.5,-298.5C1838.5,-298.5 1718.5,-298.5 1718.5,-298.5 1712.5,-298.5 1706.5,-292.5 1706.5,-286.5 1706.5,-286.5 1706.5,-242.5 1706.5,-242.5 1706.5,-236.5 1712.5,-230.5 1718.5,-230.5 1718.5,-230.5 1838.5,-230.5 1838.5,-230.5 1844.5,-230.5 1850.5,-236.5 1850.5,-242.5 1850.5,-242.5 1850.5,-286.5 1850.5,-286.5 1850.5,-292.5 1844.5,-298.5 1838.5,-298.5\"/>\n<text text-anchor=\"start\" x=\"1749\" y=\"-283.3\" font-family=\"Helvetica,sans-Serif\" font-size=\"14.00\" fill=\"#000000\">gini = 0.0</text>\n<text text-anchor=\"start\" x=\"1739\" y=\"-268.3\" font-family=\"Helvetica,sans-Serif\" font-size=\"14.00\" fill=\"#000000\">samples = 1</text>\n<text text-anchor=\"start\" x=\"1737\" y=\"-253.3\" font-family=\"Helvetica,sans-Serif\" font-size=\"14.00\" fill=\"#000000\">value = [0, 1]</text>\n<text text-anchor=\"start\" x=\"1714.5\" y=\"-238.3\" font-family=\"Helvetica,sans-Serif\" font-size=\"14.00\" fill=\"#000000\">class = DIABETICO</text>\n</g>\n<!-- 58&#45;&gt;60 -->\n<g id=\"edge60\" class=\"edge\">\n<title>58&#45;&gt;60</title>\n<path fill=\"none\" stroke=\"#000000\" d=\"M1778.5,-341.8796C1778.5,-331.2134 1778.5,-319.7021 1778.5,-308.9015\"/>\n<polygon fill=\"#000000\" stroke=\"#000000\" points=\"1782.0001,-308.8149 1778.5,-298.8149 1775.0001,-308.815 1782.0001,-308.8149\"/>\n</g>\n<!-- 62 -->\n<g id=\"node63\" class=\"node\">\n<title>62</title>\n<path fill=\"#6ab6ec\" stroke=\"#000000\" d=\"M2000.5,-306C2000.5,-306 1880.5,-306 1880.5,-306 1874.5,-306 1868.5,-300 1868.5,-294 1868.5,-294 1868.5,-235 1868.5,-235 1868.5,-229 1874.5,-223 1880.5,-223 1880.5,-223 2000.5,-223 2000.5,-223 2006.5,-223 2012.5,-229 2012.5,-235 2012.5,-235 2012.5,-294 2012.5,-294 2012.5,-300 2006.5,-306 2000.5,-306\"/>\n<text text-anchor=\"start\" x=\"1900.5\" y=\"-290.8\" font-family=\"Helvetica,sans-Serif\" font-size=\"14.00\" fill=\"#000000\">idade ≤ 40.5</text>\n<text text-anchor=\"start\" x=\"1907\" y=\"-275.8\" font-family=\"Helvetica,sans-Serif\" font-size=\"14.00\" fill=\"#000000\">gini = 0.32</text>\n<text text-anchor=\"start\" x=\"1896.5\" y=\"-260.8\" font-family=\"Helvetica,sans-Serif\" font-size=\"14.00\" fill=\"#000000\">samples = 10</text>\n<text text-anchor=\"start\" x=\"1899\" y=\"-245.8\" font-family=\"Helvetica,sans-Serif\" font-size=\"14.00\" fill=\"#000000\">value = [2, 8]</text>\n<text text-anchor=\"start\" x=\"1876.5\" y=\"-230.8\" font-family=\"Helvetica,sans-Serif\" font-size=\"14.00\" fill=\"#000000\">class = DIABETICO</text>\n</g>\n<!-- 61&#45;&gt;62 -->\n<g id=\"edge62\" class=\"edge\">\n<title>61&#45;&gt;62</title>\n<path fill=\"none\" stroke=\"#000000\" d=\"M1977.5642,-341.8796C1973.4659,-333.3236 1969.1072,-324.2238 1964.8727,-315.3833\"/>\n<polygon fill=\"#000000\" stroke=\"#000000\" points=\"1967.9975,-313.8049 1960.5209,-306.2981 1961.6843,-316.8288 1967.9975,-313.8049\"/>\n</g>\n<!-- 67 -->\n<g id=\"node68\" class=\"node\">\n<title>67</title>\n<path fill=\"#399de5\" stroke=\"#000000\" d=\"M2162.5,-298.5C2162.5,-298.5 2042.5,-298.5 2042.5,-298.5 2036.5,-298.5 2030.5,-292.5 2030.5,-286.5 2030.5,-286.5 2030.5,-242.5 2030.5,-242.5 2030.5,-236.5 2036.5,-230.5 2042.5,-230.5 2042.5,-230.5 2162.5,-230.5 2162.5,-230.5 2168.5,-230.5 2174.5,-236.5 2174.5,-242.5 2174.5,-242.5 2174.5,-286.5 2174.5,-286.5 2174.5,-292.5 2168.5,-298.5 2162.5,-298.5\"/>\n<text text-anchor=\"start\" x=\"2073\" y=\"-283.3\" font-family=\"Helvetica,sans-Serif\" font-size=\"14.00\" fill=\"#000000\">gini = 0.0</text>\n<text text-anchor=\"start\" x=\"2058.5\" y=\"-268.3\" font-family=\"Helvetica,sans-Serif\" font-size=\"14.00\" fill=\"#000000\">samples = 18</text>\n<text text-anchor=\"start\" x=\"2057\" y=\"-253.3\" font-family=\"Helvetica,sans-Serif\" font-size=\"14.00\" fill=\"#000000\">value = [0, 18]</text>\n<text text-anchor=\"start\" x=\"2038.5\" y=\"-238.3\" font-family=\"Helvetica,sans-Serif\" font-size=\"14.00\" fill=\"#000000\">class = DIABETICO</text>\n</g>\n<!-- 61&#45;&gt;67 -->\n<g id=\"edge67\" class=\"edge\">\n<title>61&#45;&gt;67</title>\n<path fill=\"none\" stroke=\"#000000\" d=\"M2034.2239,-341.8796C2044.3144,-330.4436 2055.2621,-318.0363 2065.375,-306.575\"/>\n<polygon fill=\"#000000\" stroke=\"#000000\" points=\"2068.2303,-308.629 2072.2221,-298.8149 2062.9814,-303.9977 2068.2303,-308.629\"/>\n</g>\n<!-- 63 -->\n<g id=\"node64\" class=\"node\">\n<title>63</title>\n<path fill=\"#399de5\" stroke=\"#000000\" d=\"M1919.5,-179.5C1919.5,-179.5 1799.5,-179.5 1799.5,-179.5 1793.5,-179.5 1787.5,-173.5 1787.5,-167.5 1787.5,-167.5 1787.5,-123.5 1787.5,-123.5 1787.5,-117.5 1793.5,-111.5 1799.5,-111.5 1799.5,-111.5 1919.5,-111.5 1919.5,-111.5 1925.5,-111.5 1931.5,-117.5 1931.5,-123.5 1931.5,-123.5 1931.5,-167.5 1931.5,-167.5 1931.5,-173.5 1925.5,-179.5 1919.5,-179.5\"/>\n<text text-anchor=\"start\" x=\"1830\" y=\"-164.3\" font-family=\"Helvetica,sans-Serif\" font-size=\"14.00\" fill=\"#000000\">gini = 0.0</text>\n<text text-anchor=\"start\" x=\"1820\" y=\"-149.3\" font-family=\"Helvetica,sans-Serif\" font-size=\"14.00\" fill=\"#000000\">samples = 5</text>\n<text text-anchor=\"start\" x=\"1818\" y=\"-134.3\" font-family=\"Helvetica,sans-Serif\" font-size=\"14.00\" fill=\"#000000\">value = [0, 5]</text>\n<text text-anchor=\"start\" x=\"1795.5\" y=\"-119.3\" font-family=\"Helvetica,sans-Serif\" font-size=\"14.00\" fill=\"#000000\">class = DIABETICO</text>\n</g>\n<!-- 62&#45;&gt;63 -->\n<g id=\"edge63\" class=\"edge\">\n<title>62&#45;&gt;63</title>\n<path fill=\"none\" stroke=\"#000000\" d=\"M1912.1701,-222.8796C1904.5357,-211.6636 1896.2652,-199.5131 1888.5901,-188.2372\"/>\n<polygon fill=\"#000000\" stroke=\"#000000\" points=\"1891.3775,-186.1122 1882.8572,-179.8149 1885.5908,-190.0511 1891.3775,-186.1122\"/>\n</g>\n<!-- 64 -->\n<g id=\"node65\" class=\"node\">\n<title>64</title>\n<path fill=\"#bddef6\" stroke=\"#000000\" d=\"M2081.5,-187C2081.5,-187 1961.5,-187 1961.5,-187 1955.5,-187 1949.5,-181 1949.5,-175 1949.5,-175 1949.5,-116 1949.5,-116 1949.5,-110 1955.5,-104 1961.5,-104 1961.5,-104 2081.5,-104 2081.5,-104 2087.5,-104 2093.5,-110 2093.5,-116 2093.5,-116 2093.5,-175 2093.5,-175 2093.5,-181 2087.5,-187 2081.5,-187\"/>\n<text text-anchor=\"start\" x=\"1986.5\" y=\"-171.8\" font-family=\"Helvetica,sans-Serif\" font-size=\"14.00\" fill=\"#000000\">IMC ≤ 32.0</text>\n<text text-anchor=\"start\" x=\"1988\" y=\"-156.8\" font-family=\"Helvetica,sans-Serif\" font-size=\"14.00\" fill=\"#000000\">gini = 0.48</text>\n<text text-anchor=\"start\" x=\"1982\" y=\"-141.8\" font-family=\"Helvetica,sans-Serif\" font-size=\"14.00\" fill=\"#000000\">samples = 5</text>\n<text text-anchor=\"start\" x=\"1980\" y=\"-126.8\" font-family=\"Helvetica,sans-Serif\" font-size=\"14.00\" fill=\"#000000\">value = [2, 3]</text>\n<text text-anchor=\"start\" x=\"1957.5\" y=\"-111.8\" font-family=\"Helvetica,sans-Serif\" font-size=\"14.00\" fill=\"#000000\">class = DIABETICO</text>\n</g>\n<!-- 62&#45;&gt;64 -->\n<g id=\"edge64\" class=\"edge\">\n<title>62&#45;&gt;64</title>\n<path fill=\"none\" stroke=\"#000000\" d=\"M1968.8299,-222.8796C1974.7763,-214.1434 1981.1086,-204.8404 1987.245,-195.8253\"/>\n<polygon fill=\"#000000\" stroke=\"#000000\" points=\"1990.3156,-197.5342 1993.0492,-187.2981 1984.5289,-193.5953 1990.3156,-197.5342\"/>\n</g>\n<!-- 65 -->\n<g id=\"node66\" class=\"node\">\n<title>65</title>\n<path fill=\"#e58139\" stroke=\"#000000\" d=\"M2009,-68C2009,-68 1854,-68 1854,-68 1848,-68 1842,-62 1842,-56 1842,-56 1842,-12 1842,-12 1842,-6 1848,0 1854,0 1854,0 2009,0 2009,0 2015,0 2021,-6 2021,-12 2021,-12 2021,-56 2021,-56 2021,-62 2015,-68 2009,-68\"/>\n<text text-anchor=\"start\" x=\"1902\" y=\"-52.8\" font-family=\"Helvetica,sans-Serif\" font-size=\"14.00\" fill=\"#000000\">gini = 0.0</text>\n<text text-anchor=\"start\" x=\"1892\" y=\"-37.8\" font-family=\"Helvetica,sans-Serif\" font-size=\"14.00\" fill=\"#000000\">samples = 2</text>\n<text text-anchor=\"start\" x=\"1890\" y=\"-22.8\" font-family=\"Helvetica,sans-Serif\" font-size=\"14.00\" fill=\"#000000\">value = [2, 0]</text>\n<text text-anchor=\"start\" x=\"1850\" y=\"-7.8\" font-family=\"Helvetica,sans-Serif\" font-size=\"14.00\" fill=\"#000000\">class = NÃO DIABETICO</text>\n</g>\n<!-- 64&#45;&gt;65 -->\n<g id=\"edge65\" class=\"edge\">\n<title>64&#45;&gt;65</title>\n<path fill=\"none\" stroke=\"#000000\" d=\"M1987.9873,-103.9815C1980.643,-94.8828 1972.8612,-85.242 1965.4981,-76.1199\"/>\n<polygon fill=\"#000000\" stroke=\"#000000\" points=\"1968.1612,-73.8467 1959.1568,-68.2637 1962.7143,-78.2434 1968.1612,-73.8467\"/>\n</g>\n<!-- 66 -->\n<g id=\"node67\" class=\"node\">\n<title>66</title>\n<path fill=\"#399de5\" stroke=\"#000000\" d=\"M2171.5,-68C2171.5,-68 2051.5,-68 2051.5,-68 2045.5,-68 2039.5,-62 2039.5,-56 2039.5,-56 2039.5,-12 2039.5,-12 2039.5,-6 2045.5,0 2051.5,0 2051.5,0 2171.5,0 2171.5,0 2177.5,0 2183.5,-6 2183.5,-12 2183.5,-12 2183.5,-56 2183.5,-56 2183.5,-62 2177.5,-68 2171.5,-68\"/>\n<text text-anchor=\"start\" x=\"2082\" y=\"-52.8\" font-family=\"Helvetica,sans-Serif\" font-size=\"14.00\" fill=\"#000000\">gini = 0.0</text>\n<text text-anchor=\"start\" x=\"2072\" y=\"-37.8\" font-family=\"Helvetica,sans-Serif\" font-size=\"14.00\" fill=\"#000000\">samples = 3</text>\n<text text-anchor=\"start\" x=\"2070\" y=\"-22.8\" font-family=\"Helvetica,sans-Serif\" font-size=\"14.00\" fill=\"#000000\">value = [0, 3]</text>\n<text text-anchor=\"start\" x=\"2047.5\" y=\"-7.8\" font-family=\"Helvetica,sans-Serif\" font-size=\"14.00\" fill=\"#000000\">class = DIABETICO</text>\n</g>\n<!-- 64&#45;&gt;66 -->\n<g id=\"edge66\" class=\"edge\">\n<title>64&#45;&gt;66</title>\n<path fill=\"none\" stroke=\"#000000\" d=\"M2055.0127,-103.9815C2062.357,-94.8828 2070.1388,-85.242 2077.5019,-76.1199\"/>\n<polygon fill=\"#000000\" stroke=\"#000000\" points=\"2080.2857,-78.2434 2083.8432,-68.2637 2074.8388,-73.8467 2080.2857,-78.2434\"/>\n</g>\n<!-- 69 -->\n<g id=\"node70\" class=\"node\">\n<title>69</title>\n<path fill=\"#9ccef2\" stroke=\"#000000\" d=\"M2292.5,-425C2292.5,-425 2172.5,-425 2172.5,-425 2166.5,-425 2160.5,-419 2160.5,-413 2160.5,-413 2160.5,-354 2160.5,-354 2160.5,-348 2166.5,-342 2172.5,-342 2172.5,-342 2292.5,-342 2292.5,-342 2298.5,-342 2304.5,-348 2304.5,-354 2304.5,-354 2304.5,-413 2304.5,-413 2304.5,-419 2298.5,-425 2292.5,-425\"/>\n<text text-anchor=\"start\" x=\"2187\" y=\"-409.8\" font-family=\"Helvetica,sans-Serif\" font-size=\"14.00\" fill=\"#000000\">gravidez ≤ 7.0</text>\n<text text-anchor=\"start\" x=\"2194.5\" y=\"-394.8\" font-family=\"Helvetica,sans-Serif\" font-size=\"14.00\" fill=\"#000000\">gini = 0.444</text>\n<text text-anchor=\"start\" x=\"2193\" y=\"-379.8\" font-family=\"Helvetica,sans-Serif\" font-size=\"14.00\" fill=\"#000000\">samples = 3</text>\n<text text-anchor=\"start\" x=\"2191\" y=\"-364.8\" font-family=\"Helvetica,sans-Serif\" font-size=\"14.00\" fill=\"#000000\">value = [1, 2]</text>\n<text text-anchor=\"start\" x=\"2168.5\" y=\"-349.8\" font-family=\"Helvetica,sans-Serif\" font-size=\"14.00\" fill=\"#000000\">class = DIABETICO</text>\n</g>\n<!-- 68&#45;&gt;69 -->\n<g id=\"edge69\" class=\"edge\">\n<title>68&#45;&gt;69</title>\n<path fill=\"none\" stroke=\"#000000\" d=\"M2209.0911,-460.8796C2211.6249,-452.5037 2214.3165,-443.6067 2216.9377,-434.942\"/>\n<polygon fill=\"#000000\" stroke=\"#000000\" points=\"2220.3096,-435.8832 2219.8552,-425.2981 2213.6095,-433.8562 2220.3096,-435.8832\"/>\n</g>\n<!-- 72 -->\n<g id=\"node73\" class=\"node\">\n<title>72</title>\n<path fill=\"#e58139\" stroke=\"#000000\" d=\"M2490,-417.5C2490,-417.5 2335,-417.5 2335,-417.5 2329,-417.5 2323,-411.5 2323,-405.5 2323,-405.5 2323,-361.5 2323,-361.5 2323,-355.5 2329,-349.5 2335,-349.5 2335,-349.5 2490,-349.5 2490,-349.5 2496,-349.5 2502,-355.5 2502,-361.5 2502,-361.5 2502,-405.5 2502,-405.5 2502,-411.5 2496,-417.5 2490,-417.5\"/>\n<text text-anchor=\"start\" x=\"2383\" y=\"-402.3\" font-family=\"Helvetica,sans-Serif\" font-size=\"14.00\" fill=\"#000000\">gini = 0.0</text>\n<text text-anchor=\"start\" x=\"2373\" y=\"-387.3\" font-family=\"Helvetica,sans-Serif\" font-size=\"14.00\" fill=\"#000000\">samples = 2</text>\n<text text-anchor=\"start\" x=\"2371\" y=\"-372.3\" font-family=\"Helvetica,sans-Serif\" font-size=\"14.00\" fill=\"#000000\">value = [2, 0]</text>\n<text text-anchor=\"start\" x=\"2331\" y=\"-357.3\" font-family=\"Helvetica,sans-Serif\" font-size=\"14.00\" fill=\"#000000\">class = NÃO DIABETICO</text>\n</g>\n<!-- 68&#45;&gt;72 -->\n<g id=\"edge72\" class=\"edge\">\n<title>68&#45;&gt;72</title>\n<path fill=\"none\" stroke=\"#000000\" d=\"M2272.0463,-460.8796C2294.6074,-448.4501 2319.2515,-434.873 2341.5098,-422.6103\"/>\n<polygon fill=\"#000000\" stroke=\"#000000\" points=\"2343.4926,-425.5141 2350.5624,-417.623 2340.1147,-419.3829 2343.4926,-425.5141\"/>\n</g>\n<!-- 70 -->\n<g id=\"node71\" class=\"node\">\n<title>70</title>\n<path fill=\"#399de5\" stroke=\"#000000\" d=\"M2324.5,-298.5C2324.5,-298.5 2204.5,-298.5 2204.5,-298.5 2198.5,-298.5 2192.5,-292.5 2192.5,-286.5 2192.5,-286.5 2192.5,-242.5 2192.5,-242.5 2192.5,-236.5 2198.5,-230.5 2204.5,-230.5 2204.5,-230.5 2324.5,-230.5 2324.5,-230.5 2330.5,-230.5 2336.5,-236.5 2336.5,-242.5 2336.5,-242.5 2336.5,-286.5 2336.5,-286.5 2336.5,-292.5 2330.5,-298.5 2324.5,-298.5\"/>\n<text text-anchor=\"start\" x=\"2235\" y=\"-283.3\" font-family=\"Helvetica,sans-Serif\" font-size=\"14.00\" fill=\"#000000\">gini = 0.0</text>\n<text text-anchor=\"start\" x=\"2225\" y=\"-268.3\" font-family=\"Helvetica,sans-Serif\" font-size=\"14.00\" fill=\"#000000\">samples = 2</text>\n<text text-anchor=\"start\" x=\"2223\" y=\"-253.3\" font-family=\"Helvetica,sans-Serif\" font-size=\"14.00\" fill=\"#000000\">value = [0, 2]</text>\n<text text-anchor=\"start\" x=\"2200.5\" y=\"-238.3\" font-family=\"Helvetica,sans-Serif\" font-size=\"14.00\" fill=\"#000000\">class = DIABETICO</text>\n</g>\n<!-- 69&#45;&gt;70 -->\n<g id=\"edge70\" class=\"edge\">\n<title>69&#45;&gt;70</title>\n<path fill=\"none\" stroke=\"#000000\" d=\"M2243.692,-341.8796C2246.5898,-331.1034 2249.7196,-319.4647 2252.6499,-308.5677\"/>\n<polygon fill=\"#000000\" stroke=\"#000000\" points=\"2256.0555,-309.3808 2255.2725,-298.8149 2249.2956,-307.563 2256.0555,-309.3808\"/>\n</g>\n<!-- 71 -->\n<g id=\"node72\" class=\"node\">\n<title>71</title>\n<path fill=\"#e58139\" stroke=\"#000000\" d=\"M2522,-298.5C2522,-298.5 2367,-298.5 2367,-298.5 2361,-298.5 2355,-292.5 2355,-286.5 2355,-286.5 2355,-242.5 2355,-242.5 2355,-236.5 2361,-230.5 2367,-230.5 2367,-230.5 2522,-230.5 2522,-230.5 2528,-230.5 2534,-236.5 2534,-242.5 2534,-242.5 2534,-286.5 2534,-286.5 2534,-292.5 2528,-298.5 2522,-298.5\"/>\n<text text-anchor=\"start\" x=\"2415\" y=\"-283.3\" font-family=\"Helvetica,sans-Serif\" font-size=\"14.00\" fill=\"#000000\">gini = 0.0</text>\n<text text-anchor=\"start\" x=\"2405\" y=\"-268.3\" font-family=\"Helvetica,sans-Serif\" font-size=\"14.00\" fill=\"#000000\">samples = 1</text>\n<text text-anchor=\"start\" x=\"2403\" y=\"-253.3\" font-family=\"Helvetica,sans-Serif\" font-size=\"14.00\" fill=\"#000000\">value = [1, 0]</text>\n<text text-anchor=\"start\" x=\"2363\" y=\"-238.3\" font-family=\"Helvetica,sans-Serif\" font-size=\"14.00\" fill=\"#000000\">class = NÃO DIABETICO</text>\n</g>\n<!-- 69&#45;&gt;71 -->\n<g id=\"edge71\" class=\"edge\">\n<title>69&#45;&gt;71</title>\n<path fill=\"none\" stroke=\"#000000\" d=\"M2304.5693,-343.046C2327.353,-330.257 2352.4746,-316.1557 2375.0697,-303.4727\"/>\n<polygon fill=\"#000000\" stroke=\"#000000\" points=\"2376.9158,-306.4501 2383.9228,-298.5032 2373.4894,-300.346 2376.9158,-306.4501\"/>\n</g>\n<!-- 74 -->\n<g id=\"node75\" class=\"node\">\n<title>74</title>\n<path fill=\"#e58139\" stroke=\"#000000\" d=\"M2471,-536.5C2471,-536.5 2316,-536.5 2316,-536.5 2310,-536.5 2304,-530.5 2304,-524.5 2304,-524.5 2304,-480.5 2304,-480.5 2304,-474.5 2310,-468.5 2316,-468.5 2316,-468.5 2471,-468.5 2471,-468.5 2477,-468.5 2483,-474.5 2483,-480.5 2483,-480.5 2483,-524.5 2483,-524.5 2483,-530.5 2477,-536.5 2471,-536.5\"/>\n<text text-anchor=\"start\" x=\"2364\" y=\"-521.3\" font-family=\"Helvetica,sans-Serif\" font-size=\"14.00\" fill=\"#000000\">gini = 0.0</text>\n<text text-anchor=\"start\" x=\"2354\" y=\"-506.3\" font-family=\"Helvetica,sans-Serif\" font-size=\"14.00\" fill=\"#000000\">samples = 3</text>\n<text text-anchor=\"start\" x=\"2352\" y=\"-491.3\" font-family=\"Helvetica,sans-Serif\" font-size=\"14.00\" fill=\"#000000\">value = [3, 0]</text>\n<text text-anchor=\"start\" x=\"2312\" y=\"-476.3\" font-family=\"Helvetica,sans-Serif\" font-size=\"14.00\" fill=\"#000000\">class = NÃO DIABETICO</text>\n</g>\n<!-- 73&#45;&gt;74 -->\n<g id=\"edge74\" class=\"edge\">\n<title>73&#45;&gt;74</title>\n<path fill=\"none\" stroke=\"#000000\" d=\"M2387.6478,-579.8796C2388.4545,-569.2134 2389.3251,-557.7021 2390.1419,-546.9015\"/>\n<polygon fill=\"#000000\" stroke=\"#000000\" points=\"2393.6405,-547.0504 2390.9048,-536.8149 2386.6605,-546.5225 2393.6405,-547.0504\"/>\n</g>\n<!-- 75 -->\n<g id=\"node76\" class=\"node\">\n<title>75</title>\n<path fill=\"#399de5\" stroke=\"#000000\" d=\"M2633.5,-536.5C2633.5,-536.5 2513.5,-536.5 2513.5,-536.5 2507.5,-536.5 2501.5,-530.5 2501.5,-524.5 2501.5,-524.5 2501.5,-480.5 2501.5,-480.5 2501.5,-474.5 2507.5,-468.5 2513.5,-468.5 2513.5,-468.5 2633.5,-468.5 2633.5,-468.5 2639.5,-468.5 2645.5,-474.5 2645.5,-480.5 2645.5,-480.5 2645.5,-524.5 2645.5,-524.5 2645.5,-530.5 2639.5,-536.5 2633.5,-536.5\"/>\n<text text-anchor=\"start\" x=\"2544\" y=\"-521.3\" font-family=\"Helvetica,sans-Serif\" font-size=\"14.00\" fill=\"#000000\">gini = 0.0</text>\n<text text-anchor=\"start\" x=\"2534\" y=\"-506.3\" font-family=\"Helvetica,sans-Serif\" font-size=\"14.00\" fill=\"#000000\">samples = 2</text>\n<text text-anchor=\"start\" x=\"2532\" y=\"-491.3\" font-family=\"Helvetica,sans-Serif\" font-size=\"14.00\" fill=\"#000000\">value = [0, 2]</text>\n<text text-anchor=\"start\" x=\"2509.5\" y=\"-476.3\" font-family=\"Helvetica,sans-Serif\" font-size=\"14.00\" fill=\"#000000\">class = DIABETICO</text>\n</g>\n<!-- 73&#45;&gt;75 -->\n<g id=\"edge75\" class=\"edge\">\n<title>73&#45;&gt;75</title>\n<path fill=\"none\" stroke=\"#000000\" d=\"M2450.603,-579.8796C2470.0808,-567.6158 2491.3329,-554.2348 2510.6035,-542.1015\"/>\n<polygon fill=\"#000000\" stroke=\"#000000\" points=\"2512.7071,-544.913 2519.3046,-536.623 2508.9774,-538.9894 2512.7071,-544.913\"/>\n</g>\n<!-- 77 -->\n<g id=\"node78\" class=\"node\">\n<title>77</title>\n<path fill=\"#fdf7f3\" stroke=\"#000000\" d=\"M2965,-1258C2965,-1258 2810,-1258 2810,-1258 2804,-1258 2798,-1252 2798,-1246 2798,-1246 2798,-1187 2798,-1187 2798,-1181 2804,-1175 2810,-1175 2810,-1175 2965,-1175 2965,-1175 2971,-1175 2977,-1181 2977,-1187 2977,-1187 2977,-1246 2977,-1246 2977,-1252 2971,-1258 2965,-1258\"/>\n<text text-anchor=\"start\" x=\"2838.5\" y=\"-1242.8\" font-family=\"Helvetica,sans-Serif\" font-size=\"14.00\" fill=\"#000000\">glicose ≤ 154.5</text>\n<text text-anchor=\"start\" x=\"2849.5\" y=\"-1227.8\" font-family=\"Helvetica,sans-Serif\" font-size=\"14.00\" fill=\"#000000\">gini = 0.499</text>\n<text text-anchor=\"start\" x=\"2843.5\" y=\"-1212.8\" font-family=\"Helvetica,sans-Serif\" font-size=\"14.00\" fill=\"#000000\">samples = 31</text>\n<text text-anchor=\"start\" x=\"2837.5\" y=\"-1197.8\" font-family=\"Helvetica,sans-Serif\" font-size=\"14.00\" fill=\"#000000\">value = [16, 15]</text>\n<text text-anchor=\"start\" x=\"2806\" y=\"-1182.8\" font-family=\"Helvetica,sans-Serif\" font-size=\"14.00\" fill=\"#000000\">class = NÃO DIABETICO</text>\n</g>\n<!-- 76&#45;&gt;77 -->\n<g id=\"edge77\" class=\"edge\">\n<title>76&#45;&gt;77</title>\n<path fill=\"none\" stroke=\"#000000\" d=\"M2887.5,-1293.8796C2887.5,-1285.6838 2887.5,-1276.9891 2887.5,-1268.5013\"/>\n<polygon fill=\"#000000\" stroke=\"#000000\" points=\"2891.0001,-1268.298 2887.5,-1258.2981 2884.0001,-1268.2981 2891.0001,-1268.298\"/>\n</g>\n<!-- 92 -->\n<g id=\"node93\" class=\"node\">\n<title>92</title>\n<path fill=\"#46a3e7\" stroke=\"#000000\" d=\"M3526.5,-1258C3526.5,-1258 3406.5,-1258 3406.5,-1258 3400.5,-1258 3394.5,-1252 3394.5,-1246 3394.5,-1246 3394.5,-1187 3394.5,-1187 3394.5,-1181 3400.5,-1175 3406.5,-1175 3406.5,-1175 3526.5,-1175 3526.5,-1175 3532.5,-1175 3538.5,-1181 3538.5,-1187 3538.5,-1187 3538.5,-1246 3538.5,-1246 3538.5,-1252 3532.5,-1258 3526.5,-1258\"/>\n<text text-anchor=\"start\" x=\"3427\" y=\"-1242.8\" font-family=\"Helvetica,sans-Serif\" font-size=\"14.00\" fill=\"#000000\">IMC ≤ 35.15</text>\n<text text-anchor=\"start\" x=\"3428.5\" y=\"-1227.8\" font-family=\"Helvetica,sans-Serif\" font-size=\"14.00\" fill=\"#000000\">gini = 0.113</text>\n<text text-anchor=\"start\" x=\"3418.5\" y=\"-1212.8\" font-family=\"Helvetica,sans-Serif\" font-size=\"14.00\" fill=\"#000000\">samples = 116</text>\n<text text-anchor=\"start\" x=\"3416.5\" y=\"-1197.8\" font-family=\"Helvetica,sans-Serif\" font-size=\"14.00\" fill=\"#000000\">value = [7, 109]</text>\n<text text-anchor=\"start\" x=\"3402.5\" y=\"-1182.8\" font-family=\"Helvetica,sans-Serif\" font-size=\"14.00\" fill=\"#000000\">class = DIABETICO</text>\n</g>\n<!-- 76&#45;&gt;92 -->\n<g id=\"edge92\" class=\"edge\">\n<title>76&#45;&gt;92</title>\n<path fill=\"none\" stroke=\"#000000\" d=\"M2959.6601,-1320.6692C3067.6555,-1298.4732 3270.7433,-1256.7332 3384.3093,-1233.3924\"/>\n<polygon fill=\"#000000\" stroke=\"#000000\" points=\"3385.2516,-1236.772 3394.3422,-1231.3304 3383.8423,-1229.9153 3385.2516,-1236.772\"/>\n</g>\n<!-- 78 -->\n<g id=\"node79\" class=\"node\">\n<title>78</title>\n<path fill=\"#f0b78e\" stroke=\"#000000\" d=\"M2875,-1139C2875,-1139 2720,-1139 2720,-1139 2714,-1139 2708,-1133 2708,-1127 2708,-1127 2708,-1068 2708,-1068 2708,-1062 2714,-1056 2720,-1056 2720,-1056 2875,-1056 2875,-1056 2881,-1056 2887,-1062 2887,-1068 2887,-1068 2887,-1127 2887,-1127 2887,-1133 2881,-1139 2875,-1139\"/>\n<text text-anchor=\"start\" x=\"2720.5\" y=\"-1123.8\" font-family=\"Helvetica,sans-Serif\" font-size=\"14.00\" fill=\"#000000\">pressao_sangue ≤ 55.0</text>\n<text text-anchor=\"start\" x=\"2764\" y=\"-1108.8\" font-family=\"Helvetica,sans-Serif\" font-size=\"14.00\" fill=\"#000000\">gini = 0.42</text>\n<text text-anchor=\"start\" x=\"2753.5\" y=\"-1093.8\" font-family=\"Helvetica,sans-Serif\" font-size=\"14.00\" fill=\"#000000\">samples = 20</text>\n<text text-anchor=\"start\" x=\"2752\" y=\"-1078.8\" font-family=\"Helvetica,sans-Serif\" font-size=\"14.00\" fill=\"#000000\">value = [14, 6]</text>\n<text text-anchor=\"start\" x=\"2716\" y=\"-1063.8\" font-family=\"Helvetica,sans-Serif\" font-size=\"14.00\" fill=\"#000000\">class = NÃO DIABETICO</text>\n</g>\n<!-- 77&#45;&gt;78 -->\n<g id=\"edge78\" class=\"edge\">\n<title>77&#45;&gt;78</title>\n<path fill=\"none\" stroke=\"#000000\" d=\"M2856.0224,-1174.8796C2849.3471,-1166.0534 2842.2342,-1156.6485 2835.3504,-1147.5466\"/>\n<polygon fill=\"#000000\" stroke=\"#000000\" points=\"2837.9357,-1145.1626 2829.112,-1139.2981 2832.3526,-1149.3852 2837.9357,-1145.1626\"/>\n</g>\n<!-- 89 -->\n<g id=\"node90\" class=\"node\">\n<title>89</title>\n<path fill=\"#65b3eb\" stroke=\"#000000\" d=\"M3037.5,-1139C3037.5,-1139 2917.5,-1139 2917.5,-1139 2911.5,-1139 2905.5,-1133 2905.5,-1127 2905.5,-1127 2905.5,-1068 2905.5,-1068 2905.5,-1062 2911.5,-1056 2917.5,-1056 2917.5,-1056 3037.5,-1056 3037.5,-1056 3043.5,-1056 3049.5,-1062 3049.5,-1068 3049.5,-1068 3049.5,-1127 3049.5,-1127 3049.5,-1133 3043.5,-1139 3037.5,-1139\"/>\n<text text-anchor=\"start\" x=\"2937.5\" y=\"-1123.8\" font-family=\"Helvetica,sans-Serif\" font-size=\"14.00\" fill=\"#000000\">idade ≤ 61.0</text>\n<text text-anchor=\"start\" x=\"2939.5\" y=\"-1108.8\" font-family=\"Helvetica,sans-Serif\" font-size=\"14.00\" fill=\"#000000\">gini = 0.298</text>\n<text text-anchor=\"start\" x=\"2933.5\" y=\"-1093.8\" font-family=\"Helvetica,sans-Serif\" font-size=\"14.00\" fill=\"#000000\">samples = 11</text>\n<text text-anchor=\"start\" x=\"2936\" y=\"-1078.8\" font-family=\"Helvetica,sans-Serif\" font-size=\"14.00\" fill=\"#000000\">value = [2, 9]</text>\n<text text-anchor=\"start\" x=\"2913.5\" y=\"-1063.8\" font-family=\"Helvetica,sans-Serif\" font-size=\"14.00\" fill=\"#000000\">class = DIABETICO</text>\n</g>\n<!-- 77&#45;&gt;89 -->\n<g id=\"edge89\" class=\"edge\">\n<title>77&#45;&gt;89</title>\n<path fill=\"none\" stroke=\"#000000\" d=\"M2918.9776,-1174.8796C2925.6529,-1166.0534 2932.7658,-1156.6485 2939.6496,-1147.5466\"/>\n<polygon fill=\"#000000\" stroke=\"#000000\" points=\"2942.6474,-1149.3852 2945.888,-1139.2981 2937.0643,-1145.1626 2942.6474,-1149.3852\"/>\n</g>\n<!-- 79 -->\n<g id=\"node80\" class=\"node\">\n<title>79</title>\n<path fill=\"#399de5\" stroke=\"#000000\" d=\"M2677.5,-1012.5C2677.5,-1012.5 2557.5,-1012.5 2557.5,-1012.5 2551.5,-1012.5 2545.5,-1006.5 2545.5,-1000.5 2545.5,-1000.5 2545.5,-956.5 2545.5,-956.5 2545.5,-950.5 2551.5,-944.5 2557.5,-944.5 2557.5,-944.5 2677.5,-944.5 2677.5,-944.5 2683.5,-944.5 2689.5,-950.5 2689.5,-956.5 2689.5,-956.5 2689.5,-1000.5 2689.5,-1000.5 2689.5,-1006.5 2683.5,-1012.5 2677.5,-1012.5\"/>\n<text text-anchor=\"start\" x=\"2588\" y=\"-997.3\" font-family=\"Helvetica,sans-Serif\" font-size=\"14.00\" fill=\"#000000\">gini = 0.0</text>\n<text text-anchor=\"start\" x=\"2578\" y=\"-982.3\" font-family=\"Helvetica,sans-Serif\" font-size=\"14.00\" fill=\"#000000\">samples = 2</text>\n<text text-anchor=\"start\" x=\"2576\" y=\"-967.3\" font-family=\"Helvetica,sans-Serif\" font-size=\"14.00\" fill=\"#000000\">value = [0, 2]</text>\n<text text-anchor=\"start\" x=\"2553.5\" y=\"-952.3\" font-family=\"Helvetica,sans-Serif\" font-size=\"14.00\" fill=\"#000000\">class = DIABETICO</text>\n</g>\n<!-- 78&#45;&gt;79 -->\n<g id=\"edge79\" class=\"edge\">\n<title>78&#45;&gt;79</title>\n<path fill=\"none\" stroke=\"#000000\" d=\"M2734.5447,-1055.8796C2716.1616,-1043.7263 2696.1189,-1030.4759 2677.8979,-1018.4297\"/>\n<polygon fill=\"#000000\" stroke=\"#000000\" points=\"2679.3867,-1015.2183 2669.1147,-1012.623 2675.5263,-1021.0576 2679.3867,-1015.2183\"/>\n</g>\n<!-- 80 -->\n<g id=\"node81\" class=\"node\">\n<title>80</title>\n<path fill=\"#eca572\" stroke=\"#000000\" d=\"M2875,-1020C2875,-1020 2720,-1020 2720,-1020 2714,-1020 2708,-1014 2708,-1008 2708,-1008 2708,-949 2708,-949 2708,-943 2714,-937 2720,-937 2720,-937 2875,-937 2875,-937 2881,-937 2887,-943 2887,-949 2887,-949 2887,-1008 2887,-1008 2887,-1014 2881,-1020 2875,-1020\"/>\n<text text-anchor=\"start\" x=\"2723.5\" y=\"-1004.8\" font-family=\"Helvetica,sans-Serif\" font-size=\"14.00\" fill=\"#000000\">espessura_pele ≤ 32.5</text>\n<text text-anchor=\"start\" x=\"2759.5\" y=\"-989.8\" font-family=\"Helvetica,sans-Serif\" font-size=\"14.00\" fill=\"#000000\">gini = 0.346</text>\n<text text-anchor=\"start\" x=\"2753.5\" y=\"-974.8\" font-family=\"Helvetica,sans-Serif\" font-size=\"14.00\" fill=\"#000000\">samples = 18</text>\n<text text-anchor=\"start\" x=\"2752\" y=\"-959.8\" font-family=\"Helvetica,sans-Serif\" font-size=\"14.00\" fill=\"#000000\">value = [14, 4]</text>\n<text text-anchor=\"start\" x=\"2716\" y=\"-944.8\" font-family=\"Helvetica,sans-Serif\" font-size=\"14.00\" fill=\"#000000\">class = NÃO DIABETICO</text>\n</g>\n<!-- 78&#45;&gt;80 -->\n<g id=\"edge80\" class=\"edge\">\n<title>78&#45;&gt;80</title>\n<path fill=\"none\" stroke=\"#000000\" d=\"M2797.5,-1055.8796C2797.5,-1047.6838 2797.5,-1038.9891 2797.5,-1030.5013\"/>\n<polygon fill=\"#000000\" stroke=\"#000000\" points=\"2801.0001,-1030.298 2797.5,-1020.2981 2794.0001,-1030.2981 2801.0001,-1030.298\"/>\n</g>\n<!-- 81 -->\n<g id=\"node82\" class=\"node\">\n<title>81</title>\n<path fill=\"#e78b48\" stroke=\"#000000\" d=\"M2856,-901C2856,-901 2701,-901 2701,-901 2695,-901 2689,-895 2689,-889 2689,-889 2689,-830 2689,-830 2689,-824 2695,-818 2701,-818 2701,-818 2856,-818 2856,-818 2862,-818 2868,-824 2868,-830 2868,-830 2868,-889 2868,-889 2868,-895 2862,-901 2856,-901\"/>\n<text text-anchor=\"start\" x=\"2743.5\" y=\"-885.8\" font-family=\"Helvetica,sans-Serif\" font-size=\"14.00\" fill=\"#000000\">IMC ≤ 24.0</text>\n<text text-anchor=\"start\" x=\"2740.5\" y=\"-870.8\" font-family=\"Helvetica,sans-Serif\" font-size=\"14.00\" fill=\"#000000\">gini = 0.133</text>\n<text text-anchor=\"start\" x=\"2734.5\" y=\"-855.8\" font-family=\"Helvetica,sans-Serif\" font-size=\"14.00\" fill=\"#000000\">samples = 14</text>\n<text text-anchor=\"start\" x=\"2733\" y=\"-840.8\" font-family=\"Helvetica,sans-Serif\" font-size=\"14.00\" fill=\"#000000\">value = [13, 1]</text>\n<text text-anchor=\"start\" x=\"2697\" y=\"-825.8\" font-family=\"Helvetica,sans-Serif\" font-size=\"14.00\" fill=\"#000000\">class = NÃO DIABETICO</text>\n</g>\n<!-- 80&#45;&gt;81 -->\n<g id=\"edge81\" class=\"edge\">\n<title>80&#45;&gt;81</title>\n<path fill=\"none\" stroke=\"#000000\" d=\"M2790.8547,-936.8796C2789.5318,-928.5938 2788.1274,-919.798 2786.7581,-911.2216\"/>\n<polygon fill=\"#000000\" stroke=\"#000000\" points=\"2790.2066,-910.6211 2785.1736,-901.2981 2783.2942,-911.7249 2790.2066,-910.6211\"/>\n</g>\n<!-- 86 -->\n<g id=\"node87\" class=\"node\">\n<title>86</title>\n<path fill=\"#7bbeee\" stroke=\"#000000\" d=\"M3018.5,-901C3018.5,-901 2898.5,-901 2898.5,-901 2892.5,-901 2886.5,-895 2886.5,-889 2886.5,-889 2886.5,-830 2886.5,-830 2886.5,-824 2892.5,-818 2898.5,-818 2898.5,-818 3018.5,-818 3018.5,-818 3024.5,-818 3030.5,-824 3030.5,-830 3030.5,-830 3030.5,-889 3030.5,-889 3030.5,-895 3024.5,-901 3018.5,-901\"/>\n<text text-anchor=\"start\" x=\"2918.5\" y=\"-885.8\" font-family=\"Helvetica,sans-Serif\" font-size=\"14.00\" fill=\"#000000\">idade ≤ 52.0</text>\n<text text-anchor=\"start\" x=\"2920.5\" y=\"-870.8\" font-family=\"Helvetica,sans-Serif\" font-size=\"14.00\" fill=\"#000000\">gini = 0.375</text>\n<text text-anchor=\"start\" x=\"2919\" y=\"-855.8\" font-family=\"Helvetica,sans-Serif\" font-size=\"14.00\" fill=\"#000000\">samples = 4</text>\n<text text-anchor=\"start\" x=\"2917\" y=\"-840.8\" font-family=\"Helvetica,sans-Serif\" font-size=\"14.00\" fill=\"#000000\">value = [1, 3]</text>\n<text text-anchor=\"start\" x=\"2894.5\" y=\"-825.8\" font-family=\"Helvetica,sans-Serif\" font-size=\"14.00\" fill=\"#000000\">class = DIABETICO</text>\n</g>\n<!-- 80&#45;&gt;86 -->\n<g id=\"edge86\" class=\"edge\">\n<title>80&#45;&gt;86</title>\n<path fill=\"none\" stroke=\"#000000\" d=\"M2853.81,-936.8796C2866.8012,-927.2774 2880.719,-916.9903 2894.0277,-907.1534\"/>\n<polygon fill=\"#000000\" stroke=\"#000000\" points=\"2896.2604,-909.8555 2902.2218,-901.0969 2892.0996,-904.2263 2896.2604,-909.8555\"/>\n</g>\n<!-- 82 -->\n<g id=\"node83\" class=\"node\">\n<title>82</title>\n<path fill=\"#f2c09c\" stroke=\"#000000\" d=\"M2659,-782C2659,-782 2504,-782 2504,-782 2498,-782 2492,-776 2492,-770 2492,-770 2492,-711 2492,-711 2492,-705 2498,-699 2504,-699 2504,-699 2659,-699 2659,-699 2665,-699 2671,-705 2671,-711 2671,-711 2671,-770 2671,-770 2671,-776 2665,-782 2659,-782\"/>\n<text text-anchor=\"start\" x=\"2532.5\" y=\"-766.8\" font-family=\"Helvetica,sans-Serif\" font-size=\"14.00\" fill=\"#000000\">glicose ≤ 132.0</text>\n<text text-anchor=\"start\" x=\"2543.5\" y=\"-751.8\" font-family=\"Helvetica,sans-Serif\" font-size=\"14.00\" fill=\"#000000\">gini = 0.444</text>\n<text text-anchor=\"start\" x=\"2542\" y=\"-736.8\" font-family=\"Helvetica,sans-Serif\" font-size=\"14.00\" fill=\"#000000\">samples = 3</text>\n<text text-anchor=\"start\" x=\"2540\" y=\"-721.8\" font-family=\"Helvetica,sans-Serif\" font-size=\"14.00\" fill=\"#000000\">value = [2, 1]</text>\n<text text-anchor=\"start\" x=\"2500\" y=\"-706.8\" font-family=\"Helvetica,sans-Serif\" font-size=\"14.00\" fill=\"#000000\">class = NÃO DIABETICO</text>\n</g>\n<!-- 81&#45;&gt;82 -->\n<g id=\"edge82\" class=\"edge\">\n<title>81&#45;&gt;82</title>\n<path fill=\"none\" stroke=\"#000000\" d=\"M2709.599,-817.8796C2693.253,-808.0056 2675.7081,-797.4075 2659.0076,-787.3193\"/>\n<polygon fill=\"#000000\" stroke=\"#000000\" points=\"2660.7314,-784.2716 2650.3621,-782.0969 2657.112,-790.2633 2660.7314,-784.2716\"/>\n</g>\n<!-- 85 -->\n<g id=\"node86\" class=\"node\">\n<title>85</title>\n<path fill=\"#e58139\" stroke=\"#000000\" d=\"M2856,-774.5C2856,-774.5 2701,-774.5 2701,-774.5 2695,-774.5 2689,-768.5 2689,-762.5 2689,-762.5 2689,-718.5 2689,-718.5 2689,-712.5 2695,-706.5 2701,-706.5 2701,-706.5 2856,-706.5 2856,-706.5 2862,-706.5 2868,-712.5 2868,-718.5 2868,-718.5 2868,-762.5 2868,-762.5 2868,-768.5 2862,-774.5 2856,-774.5\"/>\n<text text-anchor=\"start\" x=\"2749\" y=\"-759.3\" font-family=\"Helvetica,sans-Serif\" font-size=\"14.00\" fill=\"#000000\">gini = 0.0</text>\n<text text-anchor=\"start\" x=\"2734.5\" y=\"-744.3\" font-family=\"Helvetica,sans-Serif\" font-size=\"14.00\" fill=\"#000000\">samples = 11</text>\n<text text-anchor=\"start\" x=\"2733\" y=\"-729.3\" font-family=\"Helvetica,sans-Serif\" font-size=\"14.00\" fill=\"#000000\">value = [11, 0]</text>\n<text text-anchor=\"start\" x=\"2697\" y=\"-714.3\" font-family=\"Helvetica,sans-Serif\" font-size=\"14.00\" fill=\"#000000\">class = NÃO DIABETICO</text>\n</g>\n<!-- 81&#45;&gt;85 -->\n<g id=\"edge85\" class=\"edge\">\n<title>81&#45;&gt;85</title>\n<path fill=\"none\" stroke=\"#000000\" d=\"M2778.5,-817.8796C2778.5,-807.2134 2778.5,-795.7021 2778.5,-784.9015\"/>\n<polygon fill=\"#000000\" stroke=\"#000000\" points=\"2782.0001,-784.8149 2778.5,-774.8149 2775.0001,-784.815 2782.0001,-784.8149\"/>\n</g>\n<!-- 83 -->\n<g id=\"node84\" class=\"node\">\n<title>83</title>\n<path fill=\"#e58139\" stroke=\"#000000\" d=\"M2659,-655.5C2659,-655.5 2504,-655.5 2504,-655.5 2498,-655.5 2492,-649.5 2492,-643.5 2492,-643.5 2492,-599.5 2492,-599.5 2492,-593.5 2498,-587.5 2504,-587.5 2504,-587.5 2659,-587.5 2659,-587.5 2665,-587.5 2671,-593.5 2671,-599.5 2671,-599.5 2671,-643.5 2671,-643.5 2671,-649.5 2665,-655.5 2659,-655.5\"/>\n<text text-anchor=\"start\" x=\"2552\" y=\"-640.3\" font-family=\"Helvetica,sans-Serif\" font-size=\"14.00\" fill=\"#000000\">gini = 0.0</text>\n<text text-anchor=\"start\" x=\"2542\" y=\"-625.3\" font-family=\"Helvetica,sans-Serif\" font-size=\"14.00\" fill=\"#000000\">samples = 2</text>\n<text text-anchor=\"start\" x=\"2540\" y=\"-610.3\" font-family=\"Helvetica,sans-Serif\" font-size=\"14.00\" fill=\"#000000\">value = [2, 0]</text>\n<text text-anchor=\"start\" x=\"2500\" y=\"-595.3\" font-family=\"Helvetica,sans-Serif\" font-size=\"14.00\" fill=\"#000000\">class = NÃO DIABETICO</text>\n</g>\n<!-- 82&#45;&gt;83 -->\n<g id=\"edge83\" class=\"edge\">\n<title>82&#45;&gt;83</title>\n<path fill=\"none\" stroke=\"#000000\" d=\"M2581.5,-698.8796C2581.5,-688.2134 2581.5,-676.7021 2581.5,-665.9015\"/>\n<polygon fill=\"#000000\" stroke=\"#000000\" points=\"2585.0001,-665.8149 2581.5,-655.8149 2578.0001,-665.815 2585.0001,-665.8149\"/>\n</g>\n<!-- 84 -->\n<g id=\"node85\" class=\"node\">\n<title>84</title>\n<path fill=\"#399de5\" stroke=\"#000000\" d=\"M2821.5,-655.5C2821.5,-655.5 2701.5,-655.5 2701.5,-655.5 2695.5,-655.5 2689.5,-649.5 2689.5,-643.5 2689.5,-643.5 2689.5,-599.5 2689.5,-599.5 2689.5,-593.5 2695.5,-587.5 2701.5,-587.5 2701.5,-587.5 2821.5,-587.5 2821.5,-587.5 2827.5,-587.5 2833.5,-593.5 2833.5,-599.5 2833.5,-599.5 2833.5,-643.5 2833.5,-643.5 2833.5,-649.5 2827.5,-655.5 2821.5,-655.5\"/>\n<text text-anchor=\"start\" x=\"2732\" y=\"-640.3\" font-family=\"Helvetica,sans-Serif\" font-size=\"14.00\" fill=\"#000000\">gini = 0.0</text>\n<text text-anchor=\"start\" x=\"2722\" y=\"-625.3\" font-family=\"Helvetica,sans-Serif\" font-size=\"14.00\" fill=\"#000000\">samples = 1</text>\n<text text-anchor=\"start\" x=\"2720\" y=\"-610.3\" font-family=\"Helvetica,sans-Serif\" font-size=\"14.00\" fill=\"#000000\">value = [0, 1]</text>\n<text text-anchor=\"start\" x=\"2697.5\" y=\"-595.3\" font-family=\"Helvetica,sans-Serif\" font-size=\"14.00\" fill=\"#000000\">class = DIABETICO</text>\n</g>\n<!-- 82&#45;&gt;84 -->\n<g id=\"edge84\" class=\"edge\">\n<title>82&#45;&gt;84</title>\n<path fill=\"none\" stroke=\"#000000\" d=\"M2644.4553,-698.8796C2662.8384,-686.7263 2682.8811,-673.4759 2701.1021,-661.4297\"/>\n<polygon fill=\"#000000\" stroke=\"#000000\" points=\"2703.4737,-664.0576 2709.8853,-655.623 2699.6133,-658.2183 2703.4737,-664.0576\"/>\n</g>\n<!-- 87 -->\n<g id=\"node88\" class=\"node\">\n<title>87</title>\n<path fill=\"#399de5\" stroke=\"#000000\" d=\"M3018.5,-774.5C3018.5,-774.5 2898.5,-774.5 2898.5,-774.5 2892.5,-774.5 2886.5,-768.5 2886.5,-762.5 2886.5,-762.5 2886.5,-718.5 2886.5,-718.5 2886.5,-712.5 2892.5,-706.5 2898.5,-706.5 2898.5,-706.5 3018.5,-706.5 3018.5,-706.5 3024.5,-706.5 3030.5,-712.5 3030.5,-718.5 3030.5,-718.5 3030.5,-762.5 3030.5,-762.5 3030.5,-768.5 3024.5,-774.5 3018.5,-774.5\"/>\n<text text-anchor=\"start\" x=\"2929\" y=\"-759.3\" font-family=\"Helvetica,sans-Serif\" font-size=\"14.00\" fill=\"#000000\">gini = 0.0</text>\n<text text-anchor=\"start\" x=\"2919\" y=\"-744.3\" font-family=\"Helvetica,sans-Serif\" font-size=\"14.00\" fill=\"#000000\">samples = 3</text>\n<text text-anchor=\"start\" x=\"2917\" y=\"-729.3\" font-family=\"Helvetica,sans-Serif\" font-size=\"14.00\" fill=\"#000000\">value = [0, 3]</text>\n<text text-anchor=\"start\" x=\"2894.5\" y=\"-714.3\" font-family=\"Helvetica,sans-Serif\" font-size=\"14.00\" fill=\"#000000\">class = DIABETICO</text>\n</g>\n<!-- 86&#45;&gt;87 -->\n<g id=\"edge87\" class=\"edge\">\n<title>86&#45;&gt;87</title>\n<path fill=\"none\" stroke=\"#000000\" d=\"M2958.5,-817.8796C2958.5,-807.2134 2958.5,-795.7021 2958.5,-784.9015\"/>\n<polygon fill=\"#000000\" stroke=\"#000000\" points=\"2962.0001,-784.8149 2958.5,-774.8149 2955.0001,-784.815 2962.0001,-784.8149\"/>\n</g>\n<!-- 88 -->\n<g id=\"node89\" class=\"node\">\n<title>88</title>\n<path fill=\"#e58139\" stroke=\"#000000\" d=\"M3216,-774.5C3216,-774.5 3061,-774.5 3061,-774.5 3055,-774.5 3049,-768.5 3049,-762.5 3049,-762.5 3049,-718.5 3049,-718.5 3049,-712.5 3055,-706.5 3061,-706.5 3061,-706.5 3216,-706.5 3216,-706.5 3222,-706.5 3228,-712.5 3228,-718.5 3228,-718.5 3228,-762.5 3228,-762.5 3228,-768.5 3222,-774.5 3216,-774.5\"/>\n<text text-anchor=\"start\" x=\"3109\" y=\"-759.3\" font-family=\"Helvetica,sans-Serif\" font-size=\"14.00\" fill=\"#000000\">gini = 0.0</text>\n<text text-anchor=\"start\" x=\"3099\" y=\"-744.3\" font-family=\"Helvetica,sans-Serif\" font-size=\"14.00\" fill=\"#000000\">samples = 1</text>\n<text text-anchor=\"start\" x=\"3097\" y=\"-729.3\" font-family=\"Helvetica,sans-Serif\" font-size=\"14.00\" fill=\"#000000\">value = [1, 0]</text>\n<text text-anchor=\"start\" x=\"3057\" y=\"-714.3\" font-family=\"Helvetica,sans-Serif\" font-size=\"14.00\" fill=\"#000000\">class = NÃO DIABETICO</text>\n</g>\n<!-- 86&#45;&gt;88 -->\n<g id=\"edge88\" class=\"edge\">\n<title>86&#45;&gt;88</title>\n<path fill=\"none\" stroke=\"#000000\" d=\"M3021.4553,-817.8796C3039.8384,-805.7263 3059.8811,-792.4759 3078.1021,-780.4297\"/>\n<polygon fill=\"#000000\" stroke=\"#000000\" points=\"3080.4737,-783.0576 3086.8853,-774.623 3076.6133,-777.2183 3080.4737,-783.0576\"/>\n</g>\n<!-- 90 -->\n<g id=\"node91\" class=\"node\">\n<title>90</title>\n<path fill=\"#399de5\" stroke=\"#000000\" d=\"M3037.5,-1012.5C3037.5,-1012.5 2917.5,-1012.5 2917.5,-1012.5 2911.5,-1012.5 2905.5,-1006.5 2905.5,-1000.5 2905.5,-1000.5 2905.5,-956.5 2905.5,-956.5 2905.5,-950.5 2911.5,-944.5 2917.5,-944.5 2917.5,-944.5 3037.5,-944.5 3037.5,-944.5 3043.5,-944.5 3049.5,-950.5 3049.5,-956.5 3049.5,-956.5 3049.5,-1000.5 3049.5,-1000.5 3049.5,-1006.5 3043.5,-1012.5 3037.5,-1012.5\"/>\n<text text-anchor=\"start\" x=\"2948\" y=\"-997.3\" font-family=\"Helvetica,sans-Serif\" font-size=\"14.00\" fill=\"#000000\">gini = 0.0</text>\n<text text-anchor=\"start\" x=\"2938\" y=\"-982.3\" font-family=\"Helvetica,sans-Serif\" font-size=\"14.00\" fill=\"#000000\">samples = 9</text>\n<text text-anchor=\"start\" x=\"2936\" y=\"-967.3\" font-family=\"Helvetica,sans-Serif\" font-size=\"14.00\" fill=\"#000000\">value = [0, 9]</text>\n<text text-anchor=\"start\" x=\"2913.5\" y=\"-952.3\" font-family=\"Helvetica,sans-Serif\" font-size=\"14.00\" fill=\"#000000\">class = DIABETICO</text>\n</g>\n<!-- 89&#45;&gt;90 -->\n<g id=\"edge90\" class=\"edge\">\n<title>89&#45;&gt;90</title>\n<path fill=\"none\" stroke=\"#000000\" d=\"M2977.5,-1055.8796C2977.5,-1045.2134 2977.5,-1033.7021 2977.5,-1022.9015\"/>\n<polygon fill=\"#000000\" stroke=\"#000000\" points=\"2981.0001,-1022.8149 2977.5,-1012.8149 2974.0001,-1022.815 2981.0001,-1022.8149\"/>\n</g>\n<!-- 91 -->\n<g id=\"node92\" class=\"node\">\n<title>91</title>\n<path fill=\"#e58139\" stroke=\"#000000\" d=\"M3235,-1012.5C3235,-1012.5 3080,-1012.5 3080,-1012.5 3074,-1012.5 3068,-1006.5 3068,-1000.5 3068,-1000.5 3068,-956.5 3068,-956.5 3068,-950.5 3074,-944.5 3080,-944.5 3080,-944.5 3235,-944.5 3235,-944.5 3241,-944.5 3247,-950.5 3247,-956.5 3247,-956.5 3247,-1000.5 3247,-1000.5 3247,-1006.5 3241,-1012.5 3235,-1012.5\"/>\n<text text-anchor=\"start\" x=\"3128\" y=\"-997.3\" font-family=\"Helvetica,sans-Serif\" font-size=\"14.00\" fill=\"#000000\">gini = 0.0</text>\n<text text-anchor=\"start\" x=\"3118\" y=\"-982.3\" font-family=\"Helvetica,sans-Serif\" font-size=\"14.00\" fill=\"#000000\">samples = 2</text>\n<text text-anchor=\"start\" x=\"3116\" y=\"-967.3\" font-family=\"Helvetica,sans-Serif\" font-size=\"14.00\" fill=\"#000000\">value = [2, 0]</text>\n<text text-anchor=\"start\" x=\"3076\" y=\"-952.3\" font-family=\"Helvetica,sans-Serif\" font-size=\"14.00\" fill=\"#000000\">class = NÃO DIABETICO</text>\n</g>\n<!-- 89&#45;&gt;91 -->\n<g id=\"edge91\" class=\"edge\">\n<title>89&#45;&gt;91</title>\n<path fill=\"none\" stroke=\"#000000\" d=\"M3040.4553,-1055.8796C3058.8384,-1043.7263 3078.8811,-1030.4759 3097.1021,-1018.4297\"/>\n<polygon fill=\"#000000\" stroke=\"#000000\" points=\"3099.4737,-1021.0576 3105.8853,-1012.623 3095.6133,-1015.2183 3099.4737,-1021.0576\"/>\n</g>\n<!-- 93 -->\n<g id=\"node94\" class=\"node\">\n<title>93</title>\n<path fill=\"#55abe9\" stroke=\"#000000\" d=\"M3526.5,-1139C3526.5,-1139 3406.5,-1139 3406.5,-1139 3400.5,-1139 3394.5,-1133 3394.5,-1127 3394.5,-1127 3394.5,-1068 3394.5,-1068 3394.5,-1062 3400.5,-1056 3406.5,-1056 3406.5,-1056 3526.5,-1056 3526.5,-1056 3532.5,-1056 3538.5,-1062 3538.5,-1068 3538.5,-1068 3538.5,-1127 3538.5,-1127 3538.5,-1133 3532.5,-1139 3526.5,-1139\"/>\n<text text-anchor=\"start\" x=\"3427\" y=\"-1123.8\" font-family=\"Helvetica,sans-Serif\" font-size=\"14.00\" fill=\"#000000\">IMC ≤ 35.05</text>\n<text text-anchor=\"start\" x=\"3428.5\" y=\"-1108.8\" font-family=\"Helvetica,sans-Serif\" font-size=\"14.00\" fill=\"#000000\">gini = 0.215</text>\n<text text-anchor=\"start\" x=\"3422.5\" y=\"-1093.8\" font-family=\"Helvetica,sans-Serif\" font-size=\"14.00\" fill=\"#000000\">samples = 57</text>\n<text text-anchor=\"start\" x=\"3421\" y=\"-1078.8\" font-family=\"Helvetica,sans-Serif\" font-size=\"14.00\" fill=\"#000000\">value = [7, 50]</text>\n<text text-anchor=\"start\" x=\"3402.5\" y=\"-1063.8\" font-family=\"Helvetica,sans-Serif\" font-size=\"14.00\" fill=\"#000000\">class = DIABETICO</text>\n</g>\n<!-- 92&#45;&gt;93 -->\n<g id=\"edge93\" class=\"edge\">\n<title>92&#45;&gt;93</title>\n<path fill=\"none\" stroke=\"#000000\" d=\"M3466.5,-1174.8796C3466.5,-1166.6838 3466.5,-1157.9891 3466.5,-1149.5013\"/>\n<polygon fill=\"#000000\" stroke=\"#000000\" points=\"3470.0001,-1149.298 3466.5,-1139.2981 3463.0001,-1149.2981 3470.0001,-1149.298\"/>\n</g>\n<!-- 114 -->\n<g id=\"node115\" class=\"node\">\n<title>114</title>\n<path fill=\"#399de5\" stroke=\"#000000\" d=\"M3688.5,-1131.5C3688.5,-1131.5 3568.5,-1131.5 3568.5,-1131.5 3562.5,-1131.5 3556.5,-1125.5 3556.5,-1119.5 3556.5,-1119.5 3556.5,-1075.5 3556.5,-1075.5 3556.5,-1069.5 3562.5,-1063.5 3568.5,-1063.5 3568.5,-1063.5 3688.5,-1063.5 3688.5,-1063.5 3694.5,-1063.5 3700.5,-1069.5 3700.5,-1075.5 3700.5,-1075.5 3700.5,-1119.5 3700.5,-1119.5 3700.5,-1125.5 3694.5,-1131.5 3688.5,-1131.5\"/>\n<text text-anchor=\"start\" x=\"3599\" y=\"-1116.3\" font-family=\"Helvetica,sans-Serif\" font-size=\"14.00\" fill=\"#000000\">gini = 0.0</text>\n<text text-anchor=\"start\" x=\"3584.5\" y=\"-1101.3\" font-family=\"Helvetica,sans-Serif\" font-size=\"14.00\" fill=\"#000000\">samples = 59</text>\n<text text-anchor=\"start\" x=\"3583\" y=\"-1086.3\" font-family=\"Helvetica,sans-Serif\" font-size=\"14.00\" fill=\"#000000\">value = [0, 59]</text>\n<text text-anchor=\"start\" x=\"3564.5\" y=\"-1071.3\" font-family=\"Helvetica,sans-Serif\" font-size=\"14.00\" fill=\"#000000\">class = DIABETICO</text>\n</g>\n<!-- 92&#45;&gt;114 -->\n<g id=\"edge114\" class=\"edge\">\n<title>92&#45;&gt;114</title>\n<path fill=\"none\" stroke=\"#000000\" d=\"M3523.1597,-1174.8796C3539.5541,-1162.8368 3557.4151,-1149.7167 3573.6942,-1137.7586\"/>\n<polygon fill=\"#000000\" stroke=\"#000000\" points=\"3576.0595,-1140.3639 3582.0468,-1131.623 3571.9154,-1134.7224 3576.0595,-1140.3639\"/>\n</g>\n<!-- 94 -->\n<g id=\"node95\" class=\"node\">\n<title>94</title>\n<path fill=\"#51a9e8\" stroke=\"#000000\" d=\"M3526.5,-1020C3526.5,-1020 3406.5,-1020 3406.5,-1020 3400.5,-1020 3394.5,-1014 3394.5,-1008 3394.5,-1008 3394.5,-949 3394.5,-949 3394.5,-943 3400.5,-937 3406.5,-937 3406.5,-937 3526.5,-937 3526.5,-937 3532.5,-937 3538.5,-943 3538.5,-949 3538.5,-949 3538.5,-1008 3538.5,-1008 3538.5,-1014 3532.5,-1020 3526.5,-1020\"/>\n<text text-anchor=\"start\" x=\"3426.5\" y=\"-1004.8\" font-family=\"Helvetica,sans-Serif\" font-size=\"14.00\" fill=\"#000000\">idade ≤ 29.5</text>\n<text text-anchor=\"start\" x=\"3428.5\" y=\"-989.8\" font-family=\"Helvetica,sans-Serif\" font-size=\"14.00\" fill=\"#000000\">gini = 0.191</text>\n<text text-anchor=\"start\" x=\"3422.5\" y=\"-974.8\" font-family=\"Helvetica,sans-Serif\" font-size=\"14.00\" fill=\"#000000\">samples = 56</text>\n<text text-anchor=\"start\" x=\"3421\" y=\"-959.8\" font-family=\"Helvetica,sans-Serif\" font-size=\"14.00\" fill=\"#000000\">value = [6, 50]</text>\n<text text-anchor=\"start\" x=\"3402.5\" y=\"-944.8\" font-family=\"Helvetica,sans-Serif\" font-size=\"14.00\" fill=\"#000000\">class = DIABETICO</text>\n</g>\n<!-- 93&#45;&gt;94 -->\n<g id=\"edge94\" class=\"edge\">\n<title>93&#45;&gt;94</title>\n<path fill=\"none\" stroke=\"#000000\" d=\"M3466.5,-1055.8796C3466.5,-1047.6838 3466.5,-1038.9891 3466.5,-1030.5013\"/>\n<polygon fill=\"#000000\" stroke=\"#000000\" points=\"3470.0001,-1030.298 3466.5,-1020.2981 3463.0001,-1030.2981 3470.0001,-1030.298\"/>\n</g>\n<!-- 113 -->\n<g id=\"node114\" class=\"node\">\n<title>113</title>\n<path fill=\"#e58139\" stroke=\"#000000\" d=\"M3724,-1012.5C3724,-1012.5 3569,-1012.5 3569,-1012.5 3563,-1012.5 3557,-1006.5 3557,-1000.5 3557,-1000.5 3557,-956.5 3557,-956.5 3557,-950.5 3563,-944.5 3569,-944.5 3569,-944.5 3724,-944.5 3724,-944.5 3730,-944.5 3736,-950.5 3736,-956.5 3736,-956.5 3736,-1000.5 3736,-1000.5 3736,-1006.5 3730,-1012.5 3724,-1012.5\"/>\n<text text-anchor=\"start\" x=\"3617\" y=\"-997.3\" font-family=\"Helvetica,sans-Serif\" font-size=\"14.00\" fill=\"#000000\">gini = 0.0</text>\n<text text-anchor=\"start\" x=\"3607\" y=\"-982.3\" font-family=\"Helvetica,sans-Serif\" font-size=\"14.00\" fill=\"#000000\">samples = 1</text>\n<text text-anchor=\"start\" x=\"3605\" y=\"-967.3\" font-family=\"Helvetica,sans-Serif\" font-size=\"14.00\" fill=\"#000000\">value = [1, 0]</text>\n<text text-anchor=\"start\" x=\"3565\" y=\"-952.3\" font-family=\"Helvetica,sans-Serif\" font-size=\"14.00\" fill=\"#000000\">class = NÃO DIABETICO</text>\n</g>\n<!-- 93&#45;&gt;113 -->\n<g id=\"edge113\" class=\"edge\">\n<title>93&#45;&gt;113</title>\n<path fill=\"none\" stroke=\"#000000\" d=\"M3529.4553,-1055.8796C3547.8384,-1043.7263 3567.8811,-1030.4759 3586.1021,-1018.4297\"/>\n<polygon fill=\"#000000\" stroke=\"#000000\" points=\"3588.4737,-1021.0576 3594.8853,-1012.623 3584.6133,-1015.2183 3588.4737,-1021.0576\"/>\n</g>\n<!-- 95 -->\n<g id=\"node96\" class=\"node\">\n<title>95</title>\n<path fill=\"#72b9ec\" stroke=\"#000000\" d=\"M3539.5,-901C3539.5,-901 3393.5,-901 3393.5,-901 3387.5,-901 3381.5,-895 3381.5,-889 3381.5,-889 3381.5,-830 3381.5,-830 3381.5,-824 3387.5,-818 3393.5,-818 3393.5,-818 3539.5,-818 3539.5,-818 3545.5,-818 3551.5,-824 3551.5,-830 3551.5,-830 3551.5,-889 3551.5,-889 3551.5,-895 3545.5,-901 3539.5,-901\"/>\n<text text-anchor=\"start\" x=\"3389.5\" y=\"-885.8\" font-family=\"Helvetica,sans-Serif\" font-size=\"14.00\" fill=\"#000000\">pressao_sangue ≤ 78.0</text>\n<text text-anchor=\"start\" x=\"3428.5\" y=\"-870.8\" font-family=\"Helvetica,sans-Serif\" font-size=\"14.00\" fill=\"#000000\">gini = 0.346</text>\n<text text-anchor=\"start\" x=\"3422.5\" y=\"-855.8\" font-family=\"Helvetica,sans-Serif\" font-size=\"14.00\" fill=\"#000000\">samples = 18</text>\n<text text-anchor=\"start\" x=\"3421\" y=\"-840.8\" font-family=\"Helvetica,sans-Serif\" font-size=\"14.00\" fill=\"#000000\">value = [4, 14]</text>\n<text text-anchor=\"start\" x=\"3402.5\" y=\"-825.8\" font-family=\"Helvetica,sans-Serif\" font-size=\"14.00\" fill=\"#000000\">class = DIABETICO</text>\n</g>\n<!-- 94&#45;&gt;95 -->\n<g id=\"edge95\" class=\"edge\">\n<title>94&#45;&gt;95</title>\n<path fill=\"none\" stroke=\"#000000\" d=\"M3466.5,-936.8796C3466.5,-928.6838 3466.5,-919.9891 3466.5,-911.5013\"/>\n<polygon fill=\"#000000\" stroke=\"#000000\" points=\"3470.0001,-911.298 3466.5,-901.2981 3463.0001,-911.2981 3470.0001,-911.298\"/>\n</g>\n<!-- 104 -->\n<g id=\"node105\" class=\"node\">\n<title>104</title>\n<path fill=\"#44a2e6\" stroke=\"#000000\" d=\"M3826.5,-901C3826.5,-901 3706.5,-901 3706.5,-901 3700.5,-901 3694.5,-895 3694.5,-889 3694.5,-889 3694.5,-830 3694.5,-830 3694.5,-824 3700.5,-818 3706.5,-818 3706.5,-818 3826.5,-818 3826.5,-818 3832.5,-818 3838.5,-824 3838.5,-830 3838.5,-830 3838.5,-889 3838.5,-889 3838.5,-895 3832.5,-901 3826.5,-901\"/>\n<text text-anchor=\"start\" x=\"3716.5\" y=\"-885.8\" font-family=\"Helvetica,sans-Serif\" font-size=\"14.00\" fill=\"#000000\">gravidez ≤ 10.0</text>\n<text text-anchor=\"start\" x=\"3737\" y=\"-870.8\" font-family=\"Helvetica,sans-Serif\" font-size=\"14.00\" fill=\"#000000\">gini = 0.1</text>\n<text text-anchor=\"start\" x=\"3722.5\" y=\"-855.8\" font-family=\"Helvetica,sans-Serif\" font-size=\"14.00\" fill=\"#000000\">samples = 38</text>\n<text text-anchor=\"start\" x=\"3721\" y=\"-840.8\" font-family=\"Helvetica,sans-Serif\" font-size=\"14.00\" fill=\"#000000\">value = [2, 36]</text>\n<text text-anchor=\"start\" x=\"3702.5\" y=\"-825.8\" font-family=\"Helvetica,sans-Serif\" font-size=\"14.00\" fill=\"#000000\">class = DIABETICO</text>\n</g>\n<!-- 94&#45;&gt;104 -->\n<g id=\"edge104\" class=\"edge\">\n<title>94&#45;&gt;104</title>\n<path fill=\"none\" stroke=\"#000000\" d=\"M3538.6946,-940.9083C3541.6546,-939.5587 3544.5977,-938.2504 3547.5,-937 3592.0004,-917.8277 3642.9662,-899.5816 3684.5279,-885.615\"/>\n<polygon fill=\"#000000\" stroke=\"#000000\" points=\"3685.6854,-888.9185 3694.0615,-882.4307 3683.4678,-882.2791 3685.6854,-888.9185\"/>\n</g>\n<!-- 96 -->\n<g id=\"node97\" class=\"node\">\n<title>96</title>\n<path fill=\"#63b2eb\" stroke=\"#000000\" d=\"M3457,-782C3457,-782 3258,-782 3258,-782 3252,-782 3246,-776 3246,-770 3246,-770 3246,-711 3246,-711 3246,-705 3252,-699 3258,-699 3258,-699 3457,-699 3457,-699 3463,-699 3469,-705 3469,-711 3469,-711 3469,-770 3469,-770 3469,-776 3463,-782 3457,-782\"/>\n<text text-anchor=\"start\" x=\"3254\" y=\"-766.8\" font-family=\"Helvetica,sans-Serif\" font-size=\"14.00\" fill=\"#000000\">predisposicao_diabetes ≤ 0.298</text>\n<text text-anchor=\"start\" x=\"3319.5\" y=\"-751.8\" font-family=\"Helvetica,sans-Serif\" font-size=\"14.00\" fill=\"#000000\">gini = 0.291</text>\n<text text-anchor=\"start\" x=\"3313.5\" y=\"-736.8\" font-family=\"Helvetica,sans-Serif\" font-size=\"14.00\" fill=\"#000000\">samples = 17</text>\n<text text-anchor=\"start\" x=\"3312\" y=\"-721.8\" font-family=\"Helvetica,sans-Serif\" font-size=\"14.00\" fill=\"#000000\">value = [3, 14]</text>\n<text text-anchor=\"start\" x=\"3293.5\" y=\"-706.8\" font-family=\"Helvetica,sans-Serif\" font-size=\"14.00\" fill=\"#000000\">class = DIABETICO</text>\n</g>\n<!-- 95&#45;&gt;96 -->\n<g id=\"edge96\" class=\"edge\">\n<title>95&#45;&gt;96</title>\n<path fill=\"none\" stroke=\"#000000\" d=\"M3428.3771,-817.8796C3420.0451,-808.7832 3411.1502,-799.0722 3402.5761,-789.7116\"/>\n<polygon fill=\"#000000\" stroke=\"#000000\" points=\"3405.1211,-787.3081 3395.7856,-782.2981 3399.9592,-792.0363 3405.1211,-787.3081\"/>\n</g>\n<!-- 103 -->\n<g id=\"node104\" class=\"node\">\n<title>103</title>\n<path fill=\"#e58139\" stroke=\"#000000\" d=\"M3654,-774.5C3654,-774.5 3499,-774.5 3499,-774.5 3493,-774.5 3487,-768.5 3487,-762.5 3487,-762.5 3487,-718.5 3487,-718.5 3487,-712.5 3493,-706.5 3499,-706.5 3499,-706.5 3654,-706.5 3654,-706.5 3660,-706.5 3666,-712.5 3666,-718.5 3666,-718.5 3666,-762.5 3666,-762.5 3666,-768.5 3660,-774.5 3654,-774.5\"/>\n<text text-anchor=\"start\" x=\"3547\" y=\"-759.3\" font-family=\"Helvetica,sans-Serif\" font-size=\"14.00\" fill=\"#000000\">gini = 0.0</text>\n<text text-anchor=\"start\" x=\"3537\" y=\"-744.3\" font-family=\"Helvetica,sans-Serif\" font-size=\"14.00\" fill=\"#000000\">samples = 1</text>\n<text text-anchor=\"start\" x=\"3535\" y=\"-729.3\" font-family=\"Helvetica,sans-Serif\" font-size=\"14.00\" fill=\"#000000\">value = [1, 0]</text>\n<text text-anchor=\"start\" x=\"3495\" y=\"-714.3\" font-family=\"Helvetica,sans-Serif\" font-size=\"14.00\" fill=\"#000000\">class = NÃO DIABETICO</text>\n</g>\n<!-- 95&#45;&gt;103 -->\n<g id=\"edge103\" class=\"edge\">\n<title>95&#45;&gt;103</title>\n<path fill=\"none\" stroke=\"#000000\" d=\"M3504.9727,-817.8796C3515.6453,-806.3337 3527.2333,-793.7976 3537.9125,-782.2446\"/>\n<polygon fill=\"#000000\" stroke=\"#000000\" points=\"3540.5625,-784.534 3544.7803,-774.8149 3535.4222,-779.7825 3540.5625,-784.534\"/>\n</g>\n<!-- 97 -->\n<g id=\"node98\" class=\"node\">\n<title>97</title>\n<path fill=\"#cee6f8\" stroke=\"#000000\" d=\"M3298.5,-663C3298.5,-663 3152.5,-663 3152.5,-663 3146.5,-663 3140.5,-657 3140.5,-651 3140.5,-651 3140.5,-592 3140.5,-592 3140.5,-586 3146.5,-580 3152.5,-580 3152.5,-580 3298.5,-580 3298.5,-580 3304.5,-580 3310.5,-586 3310.5,-592 3310.5,-592 3310.5,-651 3310.5,-651 3310.5,-657 3304.5,-663 3298.5,-663\"/>\n<text text-anchor=\"start\" x=\"3148.5\" y=\"-647.8\" font-family=\"Helvetica,sans-Serif\" font-size=\"14.00\" fill=\"#000000\">pressao_sangue ≤ 69.0</text>\n<text text-anchor=\"start\" x=\"3192\" y=\"-632.8\" font-family=\"Helvetica,sans-Serif\" font-size=\"14.00\" fill=\"#000000\">gini = 0.49</text>\n<text text-anchor=\"start\" x=\"3186\" y=\"-617.8\" font-family=\"Helvetica,sans-Serif\" font-size=\"14.00\" fill=\"#000000\">samples = 7</text>\n<text text-anchor=\"start\" x=\"3184\" y=\"-602.8\" font-family=\"Helvetica,sans-Serif\" font-size=\"14.00\" fill=\"#000000\">value = [3, 4]</text>\n<text text-anchor=\"start\" x=\"3161.5\" y=\"-587.8\" font-family=\"Helvetica,sans-Serif\" font-size=\"14.00\" fill=\"#000000\">class = DIABETICO</text>\n</g>\n<!-- 96&#45;&gt;97 -->\n<g id=\"edge97\" class=\"edge\">\n<title>96&#45;&gt;97</title>\n<path fill=\"none\" stroke=\"#000000\" d=\"M3311.3328,-698.8796C3301.0429,-689.6031 3290.044,-679.6874 3279.4713,-670.1559\"/>\n<polygon fill=\"#000000\" stroke=\"#000000\" points=\"3281.6352,-667.3944 3271.8642,-663.2981 3276.9481,-672.5935 3281.6352,-667.3944\"/>\n</g>\n<!-- 102 -->\n<g id=\"node103\" class=\"node\">\n<title>102</title>\n<path fill=\"#399de5\" stroke=\"#000000\" d=\"M3460.5,-655.5C3460.5,-655.5 3340.5,-655.5 3340.5,-655.5 3334.5,-655.5 3328.5,-649.5 3328.5,-643.5 3328.5,-643.5 3328.5,-599.5 3328.5,-599.5 3328.5,-593.5 3334.5,-587.5 3340.5,-587.5 3340.5,-587.5 3460.5,-587.5 3460.5,-587.5 3466.5,-587.5 3472.5,-593.5 3472.5,-599.5 3472.5,-599.5 3472.5,-643.5 3472.5,-643.5 3472.5,-649.5 3466.5,-655.5 3460.5,-655.5\"/>\n<text text-anchor=\"start\" x=\"3371\" y=\"-640.3\" font-family=\"Helvetica,sans-Serif\" font-size=\"14.00\" fill=\"#000000\">gini = 0.0</text>\n<text text-anchor=\"start\" x=\"3356.5\" y=\"-625.3\" font-family=\"Helvetica,sans-Serif\" font-size=\"14.00\" fill=\"#000000\">samples = 10</text>\n<text text-anchor=\"start\" x=\"3355\" y=\"-610.3\" font-family=\"Helvetica,sans-Serif\" font-size=\"14.00\" fill=\"#000000\">value = [0, 10]</text>\n<text text-anchor=\"start\" x=\"3336.5\" y=\"-595.3\" font-family=\"Helvetica,sans-Serif\" font-size=\"14.00\" fill=\"#000000\">class = DIABETICO</text>\n</g>\n<!-- 96&#45;&gt;102 -->\n<g id=\"edge102\" class=\"edge\">\n<title>96&#45;&gt;102</title>\n<path fill=\"none\" stroke=\"#000000\" d=\"M3372.5393,-698.8796C3376.473,-687.9935 3380.7247,-676.227 3384.6968,-665.2344\"/>\n<polygon fill=\"#000000\" stroke=\"#000000\" points=\"3387.9937,-666.4092 3388.1005,-655.8149 3381.4103,-664.0303 3387.9937,-666.4092\"/>\n</g>\n<!-- 98 -->\n<g id=\"node99\" class=\"node\">\n<title>98</title>\n<path fill=\"#eeab7b\" stroke=\"#000000\" d=\"M3269,-544C3269,-544 3114,-544 3114,-544 3108,-544 3102,-538 3102,-532 3102,-532 3102,-473 3102,-473 3102,-467 3108,-461 3114,-461 3114,-461 3269,-461 3269,-461 3275,-461 3281,-467 3281,-473 3281,-473 3281,-532 3281,-532 3281,-538 3275,-544 3269,-544\"/>\n<text text-anchor=\"start\" x=\"3152\" y=\"-528.8\" font-family=\"Helvetica,sans-Serif\" font-size=\"14.00\" fill=\"#000000\">IMC ≤ 31.05</text>\n<text text-anchor=\"start\" x=\"3153.5\" y=\"-513.8\" font-family=\"Helvetica,sans-Serif\" font-size=\"14.00\" fill=\"#000000\">gini = 0.375</text>\n<text text-anchor=\"start\" x=\"3152\" y=\"-498.8\" font-family=\"Helvetica,sans-Serif\" font-size=\"14.00\" fill=\"#000000\">samples = 4</text>\n<text text-anchor=\"start\" x=\"3150\" y=\"-483.8\" font-family=\"Helvetica,sans-Serif\" font-size=\"14.00\" fill=\"#000000\">value = [3, 1]</text>\n<text text-anchor=\"start\" x=\"3110\" y=\"-468.8\" font-family=\"Helvetica,sans-Serif\" font-size=\"14.00\" fill=\"#000000\">class = NÃO DIABETICO</text>\n</g>\n<!-- 97&#45;&gt;98 -->\n<g id=\"edge98\" class=\"edge\">\n<title>97&#45;&gt;98</title>\n<path fill=\"none\" stroke=\"#000000\" d=\"M3213.6084,-579.8796C3211.2153,-571.5037 3208.6733,-562.6067 3206.1977,-553.942\"/>\n<polygon fill=\"#000000\" stroke=\"#000000\" points=\"3209.5549,-552.9518 3203.4423,-544.2981 3202.8243,-554.8749 3209.5549,-552.9518\"/>\n</g>\n<!-- 101 -->\n<g id=\"node102\" class=\"node\">\n<title>101</title>\n<path fill=\"#399de5\" stroke=\"#000000\" d=\"M3431.5,-536.5C3431.5,-536.5 3311.5,-536.5 3311.5,-536.5 3305.5,-536.5 3299.5,-530.5 3299.5,-524.5 3299.5,-524.5 3299.5,-480.5 3299.5,-480.5 3299.5,-474.5 3305.5,-468.5 3311.5,-468.5 3311.5,-468.5 3431.5,-468.5 3431.5,-468.5 3437.5,-468.5 3443.5,-474.5 3443.5,-480.5 3443.5,-480.5 3443.5,-524.5 3443.5,-524.5 3443.5,-530.5 3437.5,-536.5 3431.5,-536.5\"/>\n<text text-anchor=\"start\" x=\"3342\" y=\"-521.3\" font-family=\"Helvetica,sans-Serif\" font-size=\"14.00\" fill=\"#000000\">gini = 0.0</text>\n<text text-anchor=\"start\" x=\"3332\" y=\"-506.3\" font-family=\"Helvetica,sans-Serif\" font-size=\"14.00\" fill=\"#000000\">samples = 3</text>\n<text text-anchor=\"start\" x=\"3330\" y=\"-491.3\" font-family=\"Helvetica,sans-Serif\" font-size=\"14.00\" fill=\"#000000\">value = [0, 3]</text>\n<text text-anchor=\"start\" x=\"3307.5\" y=\"-476.3\" font-family=\"Helvetica,sans-Serif\" font-size=\"14.00\" fill=\"#000000\">class = DIABETICO</text>\n</g>\n<!-- 97&#45;&gt;101 -->\n<g id=\"edge101\" class=\"edge\">\n<title>97&#45;&gt;101</title>\n<path fill=\"none\" stroke=\"#000000\" d=\"M3276.5637,-579.8796C3291.134,-568.0038 3306.9896,-555.0804 3321.4958,-543.2568\"/>\n<polygon fill=\"#000000\" stroke=\"#000000\" points=\"3323.8592,-545.8459 3329.3993,-536.8149 3319.4366,-540.4199 3323.8592,-545.8459\"/>\n</g>\n<!-- 99 -->\n<g id=\"node100\" class=\"node\">\n<title>99</title>\n<path fill=\"#399de5\" stroke=\"#000000\" d=\"M3161.5,-417.5C3161.5,-417.5 3041.5,-417.5 3041.5,-417.5 3035.5,-417.5 3029.5,-411.5 3029.5,-405.5 3029.5,-405.5 3029.5,-361.5 3029.5,-361.5 3029.5,-355.5 3035.5,-349.5 3041.5,-349.5 3041.5,-349.5 3161.5,-349.5 3161.5,-349.5 3167.5,-349.5 3173.5,-355.5 3173.5,-361.5 3173.5,-361.5 3173.5,-405.5 3173.5,-405.5 3173.5,-411.5 3167.5,-417.5 3161.5,-417.5\"/>\n<text text-anchor=\"start\" x=\"3072\" y=\"-402.3\" font-family=\"Helvetica,sans-Serif\" font-size=\"14.00\" fill=\"#000000\">gini = 0.0</text>\n<text text-anchor=\"start\" x=\"3062\" y=\"-387.3\" font-family=\"Helvetica,sans-Serif\" font-size=\"14.00\" fill=\"#000000\">samples = 1</text>\n<text text-anchor=\"start\" x=\"3060\" y=\"-372.3\" font-family=\"Helvetica,sans-Serif\" font-size=\"14.00\" fill=\"#000000\">value = [0, 1]</text>\n<text text-anchor=\"start\" x=\"3037.5\" y=\"-357.3\" font-family=\"Helvetica,sans-Serif\" font-size=\"14.00\" fill=\"#000000\">class = DIABETICO</text>\n</g>\n<!-- 98&#45;&gt;99 -->\n<g id=\"edge99\" class=\"edge\">\n<title>98&#45;&gt;99</title>\n<path fill=\"none\" stroke=\"#000000\" d=\"M3160.0224,-460.8796C3151.4565,-449.5536 3142.17,-437.2748 3133.5717,-425.9058\"/>\n<polygon fill=\"#000000\" stroke=\"#000000\" points=\"3136.2762,-423.6795 3127.4525,-417.8149 3130.6931,-427.902 3136.2762,-423.6795\"/>\n</g>\n<!-- 100 -->\n<g id=\"node101\" class=\"node\">\n<title>100</title>\n<path fill=\"#e58139\" stroke=\"#000000\" d=\"M3359,-417.5C3359,-417.5 3204,-417.5 3204,-417.5 3198,-417.5 3192,-411.5 3192,-405.5 3192,-405.5 3192,-361.5 3192,-361.5 3192,-355.5 3198,-349.5 3204,-349.5 3204,-349.5 3359,-349.5 3359,-349.5 3365,-349.5 3371,-355.5 3371,-361.5 3371,-361.5 3371,-405.5 3371,-405.5 3371,-411.5 3365,-417.5 3359,-417.5\"/>\n<text text-anchor=\"start\" x=\"3252\" y=\"-402.3\" font-family=\"Helvetica,sans-Serif\" font-size=\"14.00\" fill=\"#000000\">gini = 0.0</text>\n<text text-anchor=\"start\" x=\"3242\" y=\"-387.3\" font-family=\"Helvetica,sans-Serif\" font-size=\"14.00\" fill=\"#000000\">samples = 3</text>\n<text text-anchor=\"start\" x=\"3240\" y=\"-372.3\" font-family=\"Helvetica,sans-Serif\" font-size=\"14.00\" fill=\"#000000\">value = [3, 0]</text>\n<text text-anchor=\"start\" x=\"3200\" y=\"-357.3\" font-family=\"Helvetica,sans-Serif\" font-size=\"14.00\" fill=\"#000000\">class = NÃO DIABETICO</text>\n</g>\n<!-- 98&#45;&gt;100 -->\n<g id=\"edge100\" class=\"edge\">\n<title>98&#45;&gt;100</title>\n<path fill=\"none\" stroke=\"#000000\" d=\"M3222.9776,-460.8796C3231.5435,-449.5536 3240.83,-437.2748 3249.4283,-425.9058\"/>\n<polygon fill=\"#000000\" stroke=\"#000000\" points=\"3252.3069,-427.902 3255.5475,-417.8149 3246.7238,-423.6795 3252.3069,-427.902\"/>\n</g>\n<!-- 105 -->\n<g id=\"node106\" class=\"node\">\n<title>105</title>\n<path fill=\"#3fa0e6\" stroke=\"#000000\" d=\"M3836.5,-782C3836.5,-782 3696.5,-782 3696.5,-782 3690.5,-782 3684.5,-776 3684.5,-770 3684.5,-770 3684.5,-711 3684.5,-711 3684.5,-705 3690.5,-699 3696.5,-699 3696.5,-699 3836.5,-699 3836.5,-699 3842.5,-699 3848.5,-705 3848.5,-711 3848.5,-711 3848.5,-770 3848.5,-770 3848.5,-776 3842.5,-782 3836.5,-782\"/>\n<text text-anchor=\"start\" x=\"3692.5\" y=\"-766.8\" font-family=\"Helvetica,sans-Serif\" font-size=\"14.00\" fill=\"#000000\">espessura_pele ≤ 42.5</text>\n<text text-anchor=\"start\" x=\"3728.5\" y=\"-751.8\" font-family=\"Helvetica,sans-Serif\" font-size=\"14.00\" fill=\"#000000\">gini = 0.056</text>\n<text text-anchor=\"start\" x=\"3722.5\" y=\"-736.8\" font-family=\"Helvetica,sans-Serif\" font-size=\"14.00\" fill=\"#000000\">samples = 35</text>\n<text text-anchor=\"start\" x=\"3721\" y=\"-721.8\" font-family=\"Helvetica,sans-Serif\" font-size=\"14.00\" fill=\"#000000\">value = [1, 34]</text>\n<text text-anchor=\"start\" x=\"3702.5\" y=\"-706.8\" font-family=\"Helvetica,sans-Serif\" font-size=\"14.00\" fill=\"#000000\">class = DIABETICO</text>\n</g>\n<!-- 104&#45;&gt;105 -->\n<g id=\"edge105\" class=\"edge\">\n<title>104&#45;&gt;105</title>\n<path fill=\"none\" stroke=\"#000000\" d=\"M3766.5,-817.8796C3766.5,-809.6838 3766.5,-800.9891 3766.5,-792.5013\"/>\n<polygon fill=\"#000000\" stroke=\"#000000\" points=\"3770.0001,-792.298 3766.5,-782.2981 3763.0001,-792.2981 3770.0001,-792.298\"/>\n</g>\n<!-- 110 -->\n<g id=\"node111\" class=\"node\">\n<title>110</title>\n<path fill=\"#9ccef2\" stroke=\"#000000\" d=\"M4018.5,-782C4018.5,-782 3878.5,-782 3878.5,-782 3872.5,-782 3866.5,-776 3866.5,-770 3866.5,-770 3866.5,-711 3866.5,-711 3866.5,-705 3872.5,-699 3878.5,-699 3878.5,-699 4018.5,-699 4018.5,-699 4024.5,-699 4030.5,-705 4030.5,-711 4030.5,-711 4030.5,-770 4030.5,-770 4030.5,-776 4024.5,-782 4018.5,-782\"/>\n<text text-anchor=\"start\" x=\"3874.5\" y=\"-766.8\" font-family=\"Helvetica,sans-Serif\" font-size=\"14.00\" fill=\"#000000\">espessura_pele ≤ 14.0</text>\n<text text-anchor=\"start\" x=\"3910.5\" y=\"-751.8\" font-family=\"Helvetica,sans-Serif\" font-size=\"14.00\" fill=\"#000000\">gini = 0.444</text>\n<text text-anchor=\"start\" x=\"3909\" y=\"-736.8\" font-family=\"Helvetica,sans-Serif\" font-size=\"14.00\" fill=\"#000000\">samples = 3</text>\n<text text-anchor=\"start\" x=\"3907\" y=\"-721.8\" font-family=\"Helvetica,sans-Serif\" font-size=\"14.00\" fill=\"#000000\">value = [1, 2]</text>\n<text text-anchor=\"start\" x=\"3884.5\" y=\"-706.8\" font-family=\"Helvetica,sans-Serif\" font-size=\"14.00\" fill=\"#000000\">class = DIABETICO</text>\n</g>\n<!-- 104&#45;&gt;110 -->\n<g id=\"edge110\" class=\"edge\">\n<title>104&#45;&gt;110</title>\n<path fill=\"none\" stroke=\"#000000\" d=\"M3830.1548,-817.8796C3845.1176,-808.0962 3861.1677,-797.6019 3876.4691,-787.5971\"/>\n<polygon fill=\"#000000\" stroke=\"#000000\" points=\"3878.4269,-790.4989 3884.8812,-782.0969 3874.5961,-784.6401 3878.4269,-790.4989\"/>\n</g>\n<!-- 106 -->\n<g id=\"node107\" class=\"node\">\n<title>106</title>\n<path fill=\"#399de5\" stroke=\"#000000\" d=\"M3664.5,-655.5C3664.5,-655.5 3544.5,-655.5 3544.5,-655.5 3538.5,-655.5 3532.5,-649.5 3532.5,-643.5 3532.5,-643.5 3532.5,-599.5 3532.5,-599.5 3532.5,-593.5 3538.5,-587.5 3544.5,-587.5 3544.5,-587.5 3664.5,-587.5 3664.5,-587.5 3670.5,-587.5 3676.5,-593.5 3676.5,-599.5 3676.5,-599.5 3676.5,-643.5 3676.5,-643.5 3676.5,-649.5 3670.5,-655.5 3664.5,-655.5\"/>\n<text text-anchor=\"start\" x=\"3575\" y=\"-640.3\" font-family=\"Helvetica,sans-Serif\" font-size=\"14.00\" fill=\"#000000\">gini = 0.0</text>\n<text text-anchor=\"start\" x=\"3560.5\" y=\"-625.3\" font-family=\"Helvetica,sans-Serif\" font-size=\"14.00\" fill=\"#000000\">samples = 32</text>\n<text text-anchor=\"start\" x=\"3559\" y=\"-610.3\" font-family=\"Helvetica,sans-Serif\" font-size=\"14.00\" fill=\"#000000\">value = [0, 32]</text>\n<text text-anchor=\"start\" x=\"3540.5\" y=\"-595.3\" font-family=\"Helvetica,sans-Serif\" font-size=\"14.00\" fill=\"#000000\">class = DIABETICO</text>\n</g>\n<!-- 105&#45;&gt;106 -->\n<g id=\"edge106\" class=\"edge\">\n<title>105&#45;&gt;106</title>\n<path fill=\"none\" stroke=\"#000000\" d=\"M3709.8403,-698.8796C3693.4459,-686.8368 3675.5849,-673.7167 3659.3058,-661.7586\"/>\n<polygon fill=\"#000000\" stroke=\"#000000\" points=\"3661.0846,-658.7224 3650.9532,-655.623 3656.9405,-664.3639 3661.0846,-658.7224\"/>\n</g>\n<!-- 107 -->\n<g id=\"node108\" class=\"node\">\n<title>107</title>\n<path fill=\"#9ccef2\" stroke=\"#000000\" d=\"M3826.5,-663C3826.5,-663 3706.5,-663 3706.5,-663 3700.5,-663 3694.5,-657 3694.5,-651 3694.5,-651 3694.5,-592 3694.5,-592 3694.5,-586 3700.5,-580 3706.5,-580 3706.5,-580 3826.5,-580 3826.5,-580 3832.5,-580 3838.5,-586 3838.5,-592 3838.5,-592 3838.5,-651 3838.5,-651 3838.5,-657 3832.5,-663 3826.5,-663\"/>\n<text text-anchor=\"start\" x=\"3721\" y=\"-647.8\" font-family=\"Helvetica,sans-Serif\" font-size=\"14.00\" fill=\"#000000\">gravidez ≤ 1.5</text>\n<text text-anchor=\"start\" x=\"3728.5\" y=\"-632.8\" font-family=\"Helvetica,sans-Serif\" font-size=\"14.00\" fill=\"#000000\">gini = 0.444</text>\n<text text-anchor=\"start\" x=\"3727\" y=\"-617.8\" font-family=\"Helvetica,sans-Serif\" font-size=\"14.00\" fill=\"#000000\">samples = 3</text>\n<text text-anchor=\"start\" x=\"3725\" y=\"-602.8\" font-family=\"Helvetica,sans-Serif\" font-size=\"14.00\" fill=\"#000000\">value = [1, 2]</text>\n<text text-anchor=\"start\" x=\"3702.5\" y=\"-587.8\" font-family=\"Helvetica,sans-Serif\" font-size=\"14.00\" fill=\"#000000\">class = DIABETICO</text>\n</g>\n<!-- 105&#45;&gt;107 -->\n<g id=\"edge107\" class=\"edge\">\n<title>105&#45;&gt;107</title>\n<path fill=\"none\" stroke=\"#000000\" d=\"M3766.5,-698.8796C3766.5,-690.6838 3766.5,-681.9891 3766.5,-673.5013\"/>\n<polygon fill=\"#000000\" stroke=\"#000000\" points=\"3770.0001,-673.298 3766.5,-663.2981 3763.0001,-673.2981 3770.0001,-673.298\"/>\n</g>\n<!-- 108 -->\n<g id=\"node109\" class=\"node\">\n<title>108</title>\n<path fill=\"#e58139\" stroke=\"#000000\" d=\"M3698,-536.5C3698,-536.5 3543,-536.5 3543,-536.5 3537,-536.5 3531,-530.5 3531,-524.5 3531,-524.5 3531,-480.5 3531,-480.5 3531,-474.5 3537,-468.5 3543,-468.5 3543,-468.5 3698,-468.5 3698,-468.5 3704,-468.5 3710,-474.5 3710,-480.5 3710,-480.5 3710,-524.5 3710,-524.5 3710,-530.5 3704,-536.5 3698,-536.5\"/>\n<text text-anchor=\"start\" x=\"3591\" y=\"-521.3\" font-family=\"Helvetica,sans-Serif\" font-size=\"14.00\" fill=\"#000000\">gini = 0.0</text>\n<text text-anchor=\"start\" x=\"3581\" y=\"-506.3\" font-family=\"Helvetica,sans-Serif\" font-size=\"14.00\" fill=\"#000000\">samples = 1</text>\n<text text-anchor=\"start\" x=\"3579\" y=\"-491.3\" font-family=\"Helvetica,sans-Serif\" font-size=\"14.00\" fill=\"#000000\">value = [1, 0]</text>\n<text text-anchor=\"start\" x=\"3539\" y=\"-476.3\" font-family=\"Helvetica,sans-Serif\" font-size=\"14.00\" fill=\"#000000\">class = NÃO DIABETICO</text>\n</g>\n<!-- 107&#45;&gt;108 -->\n<g id=\"edge108\" class=\"edge\">\n<title>107&#45;&gt;108</title>\n<path fill=\"none\" stroke=\"#000000\" d=\"M3715.4363,-579.8796C3700.866,-568.0038 3685.0104,-555.0804 3670.5042,-543.2568\"/>\n<polygon fill=\"#000000\" stroke=\"#000000\" points=\"3672.5634,-540.4199 3662.6007,-536.8149 3668.1408,-545.8459 3672.5634,-540.4199\"/>\n</g>\n<!-- 109 -->\n<g id=\"node110\" class=\"node\">\n<title>109</title>\n<path fill=\"#399de5\" stroke=\"#000000\" d=\"M3860.5,-536.5C3860.5,-536.5 3740.5,-536.5 3740.5,-536.5 3734.5,-536.5 3728.5,-530.5 3728.5,-524.5 3728.5,-524.5 3728.5,-480.5 3728.5,-480.5 3728.5,-474.5 3734.5,-468.5 3740.5,-468.5 3740.5,-468.5 3860.5,-468.5 3860.5,-468.5 3866.5,-468.5 3872.5,-474.5 3872.5,-480.5 3872.5,-480.5 3872.5,-524.5 3872.5,-524.5 3872.5,-530.5 3866.5,-536.5 3860.5,-536.5\"/>\n<text text-anchor=\"start\" x=\"3771\" y=\"-521.3\" font-family=\"Helvetica,sans-Serif\" font-size=\"14.00\" fill=\"#000000\">gini = 0.0</text>\n<text text-anchor=\"start\" x=\"3761\" y=\"-506.3\" font-family=\"Helvetica,sans-Serif\" font-size=\"14.00\" fill=\"#000000\">samples = 2</text>\n<text text-anchor=\"start\" x=\"3759\" y=\"-491.3\" font-family=\"Helvetica,sans-Serif\" font-size=\"14.00\" fill=\"#000000\">value = [0, 2]</text>\n<text text-anchor=\"start\" x=\"3736.5\" y=\"-476.3\" font-family=\"Helvetica,sans-Serif\" font-size=\"14.00\" fill=\"#000000\">class = DIABETICO</text>\n</g>\n<!-- 107&#45;&gt;109 -->\n<g id=\"edge109\" class=\"edge\">\n<title>107&#45;&gt;109</title>\n<path fill=\"none\" stroke=\"#000000\" d=\"M3778.3916,-579.8796C3781.4705,-569.1034 3784.7958,-557.4647 3787.9092,-546.5677\"/>\n<polygon fill=\"#000000\" stroke=\"#000000\" points=\"3791.3138,-547.3917 3790.6957,-536.8149 3784.5831,-545.4686 3791.3138,-547.3917\"/>\n</g>\n<!-- 111 -->\n<g id=\"node112\" class=\"node\">\n<title>111</title>\n<path fill=\"#e58139\" stroke=\"#000000\" d=\"M4025,-655.5C4025,-655.5 3870,-655.5 3870,-655.5 3864,-655.5 3858,-649.5 3858,-643.5 3858,-643.5 3858,-599.5 3858,-599.5 3858,-593.5 3864,-587.5 3870,-587.5 3870,-587.5 4025,-587.5 4025,-587.5 4031,-587.5 4037,-593.5 4037,-599.5 4037,-599.5 4037,-643.5 4037,-643.5 4037,-649.5 4031,-655.5 4025,-655.5\"/>\n<text text-anchor=\"start\" x=\"3918\" y=\"-640.3\" font-family=\"Helvetica,sans-Serif\" font-size=\"14.00\" fill=\"#000000\">gini = 0.0</text>\n<text text-anchor=\"start\" x=\"3908\" y=\"-625.3\" font-family=\"Helvetica,sans-Serif\" font-size=\"14.00\" fill=\"#000000\">samples = 1</text>\n<text text-anchor=\"start\" x=\"3906\" y=\"-610.3\" font-family=\"Helvetica,sans-Serif\" font-size=\"14.00\" fill=\"#000000\">value = [1, 0]</text>\n<text text-anchor=\"start\" x=\"3866\" y=\"-595.3\" font-family=\"Helvetica,sans-Serif\" font-size=\"14.00\" fill=\"#000000\">class = NÃO DIABETICO</text>\n</g>\n<!-- 110&#45;&gt;111 -->\n<g id=\"edge111\" class=\"edge\">\n<title>110&#45;&gt;111</title>\n<path fill=\"none\" stroke=\"#000000\" d=\"M3948.1502,-698.8796C3948.0606,-688.2134 3947.9639,-676.7021 3947.8731,-665.9015\"/>\n<polygon fill=\"#000000\" stroke=\"#000000\" points=\"3951.3724,-665.7851 3947.7884,-655.8149 3944.3726,-665.844 3951.3724,-665.7851\"/>\n</g>\n<!-- 112 -->\n<g id=\"node113\" class=\"node\">\n<title>112</title>\n<path fill=\"#399de5\" stroke=\"#000000\" d=\"M4187.5,-655.5C4187.5,-655.5 4067.5,-655.5 4067.5,-655.5 4061.5,-655.5 4055.5,-649.5 4055.5,-643.5 4055.5,-643.5 4055.5,-599.5 4055.5,-599.5 4055.5,-593.5 4061.5,-587.5 4067.5,-587.5 4067.5,-587.5 4187.5,-587.5 4187.5,-587.5 4193.5,-587.5 4199.5,-593.5 4199.5,-599.5 4199.5,-599.5 4199.5,-643.5 4199.5,-643.5 4199.5,-649.5 4193.5,-655.5 4187.5,-655.5\"/>\n<text text-anchor=\"start\" x=\"4098\" y=\"-640.3\" font-family=\"Helvetica,sans-Serif\" font-size=\"14.00\" fill=\"#000000\">gini = 0.0</text>\n<text text-anchor=\"start\" x=\"4088\" y=\"-625.3\" font-family=\"Helvetica,sans-Serif\" font-size=\"14.00\" fill=\"#000000\">samples = 2</text>\n<text text-anchor=\"start\" x=\"4086\" y=\"-610.3\" font-family=\"Helvetica,sans-Serif\" font-size=\"14.00\" fill=\"#000000\">value = [0, 2]</text>\n<text text-anchor=\"start\" x=\"4063.5\" y=\"-595.3\" font-family=\"Helvetica,sans-Serif\" font-size=\"14.00\" fill=\"#000000\">class = DIABETICO</text>\n</g>\n<!-- 110&#45;&gt;112 -->\n<g id=\"edge112\" class=\"edge\">\n<title>110&#45;&gt;112</title>\n<path fill=\"none\" stroke=\"#000000\" d=\"M4011.1055,-698.8796C4029.3865,-686.7263 4049.3178,-673.4759 4067.4376,-661.4297\"/>\n<polygon fill=\"#000000\" stroke=\"#000000\" points=\"4069.7821,-664.074 4076.1721,-655.623 4065.9067,-658.2447 4069.7821,-664.074\"/>\n</g>\n</g>\n</svg>\n"
          },
          "metadata": {},
          "execution_count": 30
        }
      ]
    },
    {
      "cell_type": "code",
      "source": [
        "#Visualiza estrutura da árvore \n",
        "tree.plot_tree(modelo)\n",
        "plt.show()"
      ],
      "metadata": {
        "colab": {
          "base_uri": "https://localhost:8080/",
          "height": 248
        },
        "id": "k9tXDgPQN4ov",
        "outputId": "f1ec2097-a15f-4355-8957-ceb5b7a4172d"
      },
      "execution_count": 31,
      "outputs": [
        {
          "output_type": "display_data",
          "data": {
            "text/plain": [
              "<Figure size 432x288 with 1 Axes>"
            ],
            "image/png": "[encoded data removed]"
          },
          "metadata": {
            "needs_background": "light"
          }
        }
      ]
    },
    {
      "cell_type": "markdown",
      "source": [
        "**Calculando acurácia do modelo**\n",
        "\n",
        "A acurácia é uma das metricas que podemos utilizar para avaliar um modelo de machine learning. A acurácia é a proximidade de um resultado com o seu valor de referência real. Dessa forma, quanto maior o nível de acuracidade, mais próximo da referência ou valor real é o resultado encontrado.\n",
        "Importando a biblioteca accuracy_score"
      ],
      "metadata": {
        "id": "kDhZ0wrpPC4v"
      }
    },
    {
      "cell_type": "code",
      "source": [
        "from sklearn.metrics import accuracy_score"
      ],
      "metadata": {
        "id": "mWPcUSyEO_J1"
      },
      "execution_count": 32,
      "outputs": []
    },
    {
      "cell_type": "code",
      "source": [
        "accuracy_score(y_test, y_pred)"
      ],
      "metadata": {
        "colab": {
          "base_uri": "https://localhost:8080/"
        },
        "id": "z0ifh8RvO-8b",
        "outputId": "0aaba676-0c9b-45dd-a213-264633b5d768"
      },
      "execution_count": 33,
      "outputs": [
        {
          "output_type": "execute_result",
          "data": {
            "text/plain": [
              "0.7391304347826086"
            ]
          },
          "metadata": {},
          "execution_count": 33
        }
      ]
    },
    {
      "cell_type": "markdown",
      "source": [
        "**Criando função que gera features de importância para o modelo**\n",
        "\n",
        "\n",
        "Vamos criar funções para retornar os resultados de várias árvores de decisão para análises futuras."
      ],
      "metadata": {
        "id": "w2xF4xV0PYSr"
      }
    },
    {
      "cell_type": "code",
      "source": [
        "def gera_features_importantes(modelo):\n",
        "    df = pd.DataFrame(modelo.feature_importances_, columns =['importancia'],\n",
        "             index = ['gravidez', 'glicose', 'pressao_sangue', 'espessura_pele', 'insulina',\n",
        "       'IMC', 'predisposicao_diabetes', 'idade']).sort_values('importancia', ascending=False)\n",
        "    return df"
      ],
      "metadata": {
        "id": "6BbhHRdcPUNu"
      },
      "execution_count": 34,
      "outputs": []
    },
    {
      "cell_type": "code",
      "source": [
        "print(gera_features_importantes(modelo))"
      ],
      "metadata": {
        "id": "MTJPvk7QPf_5",
        "outputId": "c6e0c38e-e26d-4d31-cc38-27ae1cf43e9a",
        "colab": {
          "base_uri": "https://localhost:8080/"
        }
      },
      "execution_count": 35,
      "outputs": [
        {
          "output_type": "stream",
          "name": "stdout",
          "text": [
            "                        importancia\n",
            "glicose                    0.391360\n",
            "IMC                        0.206200\n",
            "idade                      0.166157\n",
            "espessura_pele             0.067907\n",
            "pressao_sangue             0.042184\n",
            "predisposicao_diabetes     0.042141\n",
            "insulina                   0.042074\n",
            "gravidez                   0.041975\n"
          ]
        }
      ]
    },
    {
      "cell_type": "code",
      "source": [
        "#Cria diretório para salvar imagens das árvores geradas\n",
        "PATH_IMG = r'/content/arvores_geradas/'"
      ],
      "metadata": {
        "id": "Q2REctdwPf3Q"
      },
      "execution_count": 36,
      "outputs": []
    },
    {
      "cell_type": "code",
      "source": [
        "def cria_modelo(x_train, y_train, y_test, tamanho_arvore):\n",
        "    \n",
        "    algoritmo_arvore = tree.DecisionTreeClassifier(max_depth=tamanho_arvore, random_state=42) # inicia a classificação da arvore de decisao\n",
        "    modelo = algoritmo_arvore.fit(x_train, y_train)\n",
        "    y_predido = modelo.predict(x_test)\n",
        "    arvore = visualiza_arvore(modelo)\n",
        "    \n",
        "    #Salva arquivo pdf \n",
        "    arvore.render(f'{PATH_IMG}/modelo_tamanho_n{tamanho_arvore}')\n",
        "    \n",
        "    print(f'''Features com maior importância para o modelo:\n",
        "            {gera_features_importantes(modelo)}\n",
        "          ''')\n",
        "    \n",
        "    print('o valor da acuracia é : ', accuracy_score(y_test, y_predido))\n",
        "            \n",
        "    return arvore"
      ],
      "metadata": {
        "id": "MAeah9boQeEs"
      },
      "execution_count": 37,
      "outputs": []
    },
    {
      "cell_type": "code",
      "source": [
        "tamanho_arvore = 2\n",
        "arvore = cria_modelo(x_train, y_train, y_test, tamanho_arvore)\n",
        "arvore"
      ],
      "metadata": {
        "colab": {
          "base_uri": "https://localhost:8080/",
          "height": 668
        },
        "id": "16kIJglXREwC",
        "outputId": "202acb02-1d12-477f-c0e8-0d83682d9434"
      },
      "execution_count": 38,
      "outputs": [
        {
          "output_type": "stream",
          "name": "stdout",
          "text": [
            "Features com maior importância para o modelo:\n",
            "                                    importancia\n",
            "glicose                    0.701561\n",
            "idade                      0.169830\n",
            "IMC                        0.128609\n",
            "gravidez                   0.000000\n",
            "pressao_sangue             0.000000\n",
            "espessura_pele             0.000000\n",
            "insulina                   0.000000\n",
            "predisposicao_diabetes     0.000000\n",
            "          \n",
            "o valor da acuracia é :  0.8043478260869565\n"
          ]
        },
        {
          "output_type": "execute_result",
          "data": {
            "text/plain": [
              "<graphviz.files.Source at 0x7ff78fb88a90>"
            ],
            "image/svg+xml": "<?xml version=\"1.0\" encoding=\"UTF-8\" standalone=\"no\"?>\n<!DOCTYPE svg PUBLIC \"-//W3C//DTD SVG 1.1//EN\"\n \"http://www.w3.org/Graphics/SVG/1.1/DTD/svg11.dtd\">\n<!-- Generated by graphviz version 2.40.1 (20161225.0304)\n -->\n<!-- Title: Tree Pages: 1 -->\n<svg width=\"744pt\" height=\"314pt\"\n viewBox=\"0.00 0.00 743.50 314.00\" xmlns=\"http://www.w3.org/2000/svg\" xmlns:xlink=\"http://www.w3.org/1999/xlink\">\n<g id=\"graph0\" class=\"graph\" transform=\"scale(1 1) rotate(0) translate(4 310)\">\n<title>Tree</title>\n<polygon fill=\"#ffffff\" stroke=\"transparent\" points=\"-4,4 -4,-310 739.5,-310 739.5,4 -4,4\"/>\n<!-- 0 -->\n<g id=\"node1\" class=\"node\">\n<title>0</title>\n<path fill=\"#f9fcfe\" stroke=\"#000000\" d=\"M444.5,-306C444.5,-306 324.5,-306 324.5,-306 318.5,-306 312.5,-300 312.5,-294 312.5,-294 312.5,-235 312.5,-235 312.5,-229 318.5,-223 324.5,-223 324.5,-223 444.5,-223 444.5,-223 450.5,-223 456.5,-229 456.5,-235 456.5,-235 456.5,-294 456.5,-294 456.5,-300 450.5,-306 444.5,-306\"/>\n<text text-anchor=\"start\" x=\"335.5\" y=\"-290.8\" font-family=\"Helvetica,sans-Serif\" font-size=\"14.00\" fill=\"#000000\">glicose ≤ 127.5</text>\n<text text-anchor=\"start\" x=\"355\" y=\"-275.8\" font-family=\"Helvetica,sans-Serif\" font-size=\"14.00\" fill=\"#000000\">gini = 0.5</text>\n<text text-anchor=\"start\" x=\"336.5\" y=\"-260.8\" font-family=\"Helvetica,sans-Serif\" font-size=\"14.00\" fill=\"#000000\">samples = 364</text>\n<text text-anchor=\"start\" x=\"326.5\" y=\"-245.8\" font-family=\"Helvetica,sans-Serif\" font-size=\"14.00\" fill=\"#000000\">value = [179, 185]</text>\n<text text-anchor=\"start\" x=\"320.5\" y=\"-230.8\" font-family=\"Helvetica,sans-Serif\" font-size=\"14.00\" fill=\"#000000\">class = DIABETICO</text>\n</g>\n<!-- 1 -->\n<g id=\"node2\" class=\"node\">\n<title>1</title>\n<path fill=\"#efb286\" stroke=\"#000000\" d=\"M364,-187C364,-187 209,-187 209,-187 203,-187 197,-181 197,-175 197,-175 197,-116 197,-116 197,-110 203,-104 209,-104 209,-104 364,-104 364,-104 370,-104 376,-110 376,-116 376,-116 376,-175 376,-175 376,-181 370,-187 364,-187\"/>\n<text text-anchor=\"start\" x=\"246.5\" y=\"-171.8\" font-family=\"Helvetica,sans-Serif\" font-size=\"14.00\" fill=\"#000000\">idade ≤ 28.5</text>\n<text text-anchor=\"start\" x=\"248.5\" y=\"-156.8\" font-family=\"Helvetica,sans-Serif\" font-size=\"14.00\" fill=\"#000000\">gini = 0.404</text>\n<text text-anchor=\"start\" x=\"238.5\" y=\"-141.8\" font-family=\"Helvetica,sans-Serif\" font-size=\"14.00\" fill=\"#000000\">samples = 217</text>\n<text text-anchor=\"start\" x=\"232.5\" y=\"-126.8\" font-family=\"Helvetica,sans-Serif\" font-size=\"14.00\" fill=\"#000000\">value = [156, 61]</text>\n<text text-anchor=\"start\" x=\"205\" y=\"-111.8\" font-family=\"Helvetica,sans-Serif\" font-size=\"14.00\" fill=\"#000000\">class = NÃO DIABETICO</text>\n</g>\n<!-- 0&#45;&gt;1 -->\n<g id=\"edge1\" class=\"edge\">\n<title>0&#45;&gt;1</title>\n<path fill=\"none\" stroke=\"#000000\" d=\"M350.2244,-222.8796C342.8816,-213.9633 335.0524,-204.4565 327.4854,-195.268\"/>\n<polygon fill=\"#000000\" stroke=\"#000000\" points=\"329.9808,-192.7924 320.9219,-187.2981 324.5773,-197.2424 329.9808,-192.7924\"/>\n<text text-anchor=\"middle\" x=\"318.5138\" y=\"-208.4818\" font-family=\"Helvetica,sans-Serif\" font-size=\"14.00\" fill=\"#000000\">True</text>\n</g>\n<!-- 4 -->\n<g id=\"node5\" class=\"node\">\n<title>4</title>\n<path fill=\"#5eafea\" stroke=\"#000000\" d=\"M543.5,-187C543.5,-187 423.5,-187 423.5,-187 417.5,-187 411.5,-181 411.5,-175 411.5,-175 411.5,-116 411.5,-116 411.5,-110 417.5,-104 423.5,-104 423.5,-104 543.5,-104 543.5,-104 549.5,-104 555.5,-110 555.5,-116 555.5,-116 555.5,-175 555.5,-175 555.5,-181 549.5,-187 543.5,-187\"/>\n<text text-anchor=\"start\" x=\"444\" y=\"-171.8\" font-family=\"Helvetica,sans-Serif\" font-size=\"14.00\" fill=\"#000000\">IMC ≤ 29.85</text>\n<text text-anchor=\"start\" x=\"445.5\" y=\"-156.8\" font-family=\"Helvetica,sans-Serif\" font-size=\"14.00\" fill=\"#000000\">gini = 0.264</text>\n<text text-anchor=\"start\" x=\"435.5\" y=\"-141.8\" font-family=\"Helvetica,sans-Serif\" font-size=\"14.00\" fill=\"#000000\">samples = 147</text>\n<text text-anchor=\"start\" x=\"429.5\" y=\"-126.8\" font-family=\"Helvetica,sans-Serif\" font-size=\"14.00\" fill=\"#000000\">value = [23, 124]</text>\n<text text-anchor=\"start\" x=\"419.5\" y=\"-111.8\" font-family=\"Helvetica,sans-Serif\" font-size=\"14.00\" fill=\"#000000\">class = DIABETICO</text>\n</g>\n<!-- 0&#45;&gt;4 -->\n<g id=\"edge4\" class=\"edge\">\n<title>0&#45;&gt;4</title>\n<path fill=\"none\" stroke=\"#000000\" d=\"M419.1254,-222.8796C426.618,-213.8733 434.6119,-204.2644 442.3279,-194.9897\"/>\n<polygon fill=\"#000000\" stroke=\"#000000\" points=\"445.0219,-197.224 448.7268,-187.2981 439.6407,-192.7472 445.0219,-197.224\"/>\n<text text-anchor=\"middle\" x=\"451.0108\" y=\"-208.4935\" font-family=\"Helvetica,sans-Serif\" font-size=\"14.00\" fill=\"#000000\">False</text>\n</g>\n<!-- 2 -->\n<g id=\"node3\" class=\"node\">\n<title>2</title>\n<path fill=\"#e88f50\" stroke=\"#000000\" d=\"M167,-68C167,-68 12,-68 12,-68 6,-68 0,-62 0,-56 0,-56 0,-12 0,-12 0,-6 6,0 12,0 12,0 167,0 167,0 173,0 179,-6 179,-12 179,-12 179,-56 179,-56 179,-62 173,-68 167,-68\"/>\n<text text-anchor=\"start\" x=\"51.5\" y=\"-52.8\" font-family=\"Helvetica,sans-Serif\" font-size=\"14.00\" fill=\"#000000\">gini = 0.184</text>\n<text text-anchor=\"start\" x=\"41.5\" y=\"-37.8\" font-family=\"Helvetica,sans-Serif\" font-size=\"14.00\" fill=\"#000000\">samples = 107</text>\n<text text-anchor=\"start\" x=\"39.5\" y=\"-22.8\" font-family=\"Helvetica,sans-Serif\" font-size=\"14.00\" fill=\"#000000\">value = [96, 11]</text>\n<text text-anchor=\"start\" x=\"8\" y=\"-7.8\" font-family=\"Helvetica,sans-Serif\" font-size=\"14.00\" fill=\"#000000\">class = NÃO DIABETICO</text>\n</g>\n<!-- 1&#45;&gt;2 -->\n<g id=\"edge2\" class=\"edge\">\n<title>1&#45;&gt;2</title>\n<path fill=\"none\" stroke=\"#000000\" d=\"M213.1445,-103.9815C195.3517,-93.911 176.3857,-83.1764 158.7876,-73.2161\"/>\n<polygon fill=\"#000000\" stroke=\"#000000\" points=\"160.1498,-69.9654 149.723,-68.0856 156.7018,-76.0573 160.1498,-69.9654\"/>\n</g>\n<!-- 3 -->\n<g id=\"node4\" class=\"node\">\n<title>3</title>\n<path fill=\"#fbeade\" stroke=\"#000000\" d=\"M364,-68C364,-68 209,-68 209,-68 203,-68 197,-62 197,-56 197,-56 197,-12 197,-12 197,-6 203,0 209,0 209,0 364,0 364,0 370,0 376,-6 376,-12 376,-12 376,-56 376,-56 376,-62 370,-68 364,-68\"/>\n<text text-anchor=\"start\" x=\"248.5\" y=\"-52.8\" font-family=\"Helvetica,sans-Serif\" font-size=\"14.00\" fill=\"#000000\">gini = 0.496</text>\n<text text-anchor=\"start\" x=\"238.5\" y=\"-37.8\" font-family=\"Helvetica,sans-Serif\" font-size=\"14.00\" fill=\"#000000\">samples = 110</text>\n<text text-anchor=\"start\" x=\"236.5\" y=\"-22.8\" font-family=\"Helvetica,sans-Serif\" font-size=\"14.00\" fill=\"#000000\">value = [60, 50]</text>\n<text text-anchor=\"start\" x=\"205\" y=\"-7.8\" font-family=\"Helvetica,sans-Serif\" font-size=\"14.00\" fill=\"#000000\">class = NÃO DIABETICO</text>\n</g>\n<!-- 1&#45;&gt;3 -->\n<g id=\"edge3\" class=\"edge\">\n<title>1&#45;&gt;3</title>\n<path fill=\"none\" stroke=\"#000000\" d=\"M286.5,-103.9815C286.5,-95.618 286.5,-86.7965 286.5,-78.3409\"/>\n<polygon fill=\"#000000\" stroke=\"#000000\" points=\"290.0001,-78.2636 286.5,-68.2637 283.0001,-78.2637 290.0001,-78.2636\"/>\n</g>\n<!-- 5 -->\n<g id=\"node6\" class=\"node\">\n<title>5</title>\n<path fill=\"#fdf7f3\" stroke=\"#000000\" d=\"M561,-68C561,-68 406,-68 406,-68 400,-68 394,-62 394,-56 394,-56 394,-12 394,-12 394,-6 400,0 406,0 406,0 561,0 561,0 567,0 573,-6 573,-12 573,-12 573,-56 573,-56 573,-62 567,-68 561,-68\"/>\n<text text-anchor=\"start\" x=\"445.5\" y=\"-52.8\" font-family=\"Helvetica,sans-Serif\" font-size=\"14.00\" fill=\"#000000\">gini = 0.499</text>\n<text text-anchor=\"start\" x=\"439.5\" y=\"-37.8\" font-family=\"Helvetica,sans-Serif\" font-size=\"14.00\" fill=\"#000000\">samples = 31</text>\n<text text-anchor=\"start\" x=\"433.5\" y=\"-22.8\" font-family=\"Helvetica,sans-Serif\" font-size=\"14.00\" fill=\"#000000\">value = [16, 15]</text>\n<text text-anchor=\"start\" x=\"402\" y=\"-7.8\" font-family=\"Helvetica,sans-Serif\" font-size=\"14.00\" fill=\"#000000\">class = NÃO DIABETICO</text>\n</g>\n<!-- 4&#45;&gt;5 -->\n<g id=\"edge5\" class=\"edge\">\n<title>4&#45;&gt;5</title>\n<path fill=\"none\" stroke=\"#000000\" d=\"M483.5,-103.9815C483.5,-95.618 483.5,-86.7965 483.5,-78.3409\"/>\n<polygon fill=\"#000000\" stroke=\"#000000\" points=\"487.0001,-78.2636 483.5,-68.2637 480.0001,-78.2637 487.0001,-78.2636\"/>\n</g>\n<!-- 6 -->\n<g id=\"node7\" class=\"node\">\n<title>6</title>\n<path fill=\"#46a3e7\" stroke=\"#000000\" d=\"M723.5,-68C723.5,-68 603.5,-68 603.5,-68 597.5,-68 591.5,-62 591.5,-56 591.5,-56 591.5,-12 591.5,-12 591.5,-6 597.5,0 603.5,0 603.5,0 723.5,0 723.5,0 729.5,0 735.5,-6 735.5,-12 735.5,-12 735.5,-56 735.5,-56 735.5,-62 729.5,-68 723.5,-68\"/>\n<text text-anchor=\"start\" x=\"625.5\" y=\"-52.8\" font-family=\"Helvetica,sans-Serif\" font-size=\"14.00\" fill=\"#000000\">gini = 0.113</text>\n<text text-anchor=\"start\" x=\"615.5\" y=\"-37.8\" font-family=\"Helvetica,sans-Serif\" font-size=\"14.00\" fill=\"#000000\">samples = 116</text>\n<text text-anchor=\"start\" x=\"613.5\" y=\"-22.8\" font-family=\"Helvetica,sans-Serif\" font-size=\"14.00\" fill=\"#000000\">value = [7, 109]</text>\n<text text-anchor=\"start\" x=\"599.5\" y=\"-7.8\" font-family=\"Helvetica,sans-Serif\" font-size=\"14.00\" fill=\"#000000\">class = DIABETICO</text>\n</g>\n<!-- 4&#45;&gt;6 -->\n<g id=\"edge6\" class=\"edge\">\n<title>4&#45;&gt;6</title>\n<path fill=\"none\" stroke=\"#000000\" d=\"M550.5254,-103.9815C566.6336,-94.0034 583.7941,-83.3733 599.7487,-73.4904\"/>\n<polygon fill=\"#000000\" stroke=\"#000000\" points=\"601.8158,-76.3271 608.4739,-68.0856 598.1296,-70.3763 601.8158,-76.3271\"/>\n</g>\n</g>\n</svg>\n"
          },
          "metadata": {},
          "execution_count": 38
        }
      ]
    }
  ]
}